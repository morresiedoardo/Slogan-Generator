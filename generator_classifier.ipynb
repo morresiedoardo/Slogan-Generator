{
  "cells": [
    {
      "attachments": {},
      "cell_type": "markdown",
      "metadata": {
        "id": "PfbUavoNsHeu"
      },
      "source": [
        "# NLP Group Project"
      ]
    },
    {
      "attachments": {},
      "cell_type": "markdown",
      "metadata": {
        "id": "pRInkv0Tdo6a"
      },
      "source": [
        "## Slogan Generator with GPT-2"
      ]
    },
    {
      "attachments": {},
      "cell_type": "markdown",
      "metadata": {
        "id": "OeTXwuc9sHe3"
      },
      "source": [
        "### Install the required libraries"
      ]
    },
    {
      "cell_type": "code",
      "execution_count": null,
      "metadata": {
        "id": "4WGYgZwIJ_iE"
      },
      "outputs": [],
      "source": [
        "!pip uninstall -y transformers accelerate\n",
        "!pip install transformers accelerate"
      ]
    },
    {
      "attachments": {},
      "cell_type": "markdown",
      "metadata": {
        "id": "Hr5r0U9BsHe6"
      },
      "source": [
        "### Mount Google Drive\n",
        "Mounting Google Drive is required to access the model's state dictionary to avoid retraining."
      ]
    },
    {
      "cell_type": "code",
      "execution_count": 2,
      "metadata": {
        "colab": {
          "base_uri": "https://localhost:8080/"
        },
        "id": "fdq_NuCbqbBg",
        "outputId": "3b3c1f64-0d04-4e80-9f18-6768a45bea19"
      },
      "outputs": [
        {
          "name": "stdout",
          "output_type": "stream",
          "text": [
            "Mounted at /content/drive\n"
          ]
        }
      ],
      "source": [
        "from google.colab import drive\n",
        "drive.mount('/content/drive')"
      ]
    },
    {
      "attachments": {},
      "cell_type": "markdown",
      "metadata": {
        "id": "6oEFP76vdu5i"
      },
      "source": [
        "### Load the Tokenizer and Model.\n",
        "\n",
        "Create the `GPT2Tokenizer` and `GPT2LMHeadModel` objects."
      ]
    },
    {
      "cell_type": "code",
      "execution_count": 3,
      "metadata": {
        "colab": {
          "base_uri": "https://localhost:8080/",
          "height": 177,
          "referenced_widgets": [
            "3664fe53f9784b1e9487917b524d1940",
            "0ccc39c8fcce45388fe50ea3acc2dbda",
            "86f0a6b655aa4f42bc9fb115951cd978",
            "92c28cd477bc462292829f18a460062e",
            "4755cfa5fea04d169d67be67f33c3e0e",
            "ec34923d7afa4e19b881d7fa83d6f6a6",
            "e92b71b1fdbc437cb8f42be53efad51a",
            "8d50890ea5c84b7b89e02abcc83d1696",
            "240403c4c91f4f588442adcaab6f4c52",
            "5b0fb4d2a75f44f7b2a1f5a7f7d7b2aa",
            "1befafd7b22a4c02a821080818c2c76c",
            "bd90bf95f12742f8bcb98051eb939822",
            "4c5417d9f5f14d7681e4113c054e25c4",
            "327914e5d74d4ded90473aa45603936c",
            "8f35ebfea6944716a43ceca42c6f3aef",
            "e547b195a774452ead49c2949609f319",
            "3ffe99b83cec4692a4a2ccf7abb61635",
            "b1d5f89d3d7240b29da7279224c5a454",
            "662bfceea14b424bad01913aa4ac376d",
            "5baf881e425a45018d0775e4415e5006",
            "63ddbaa38c2a4799beb4ab9fa5be14ac",
            "1a7127de174646519932066b12cf0f16",
            "d560c1d4b9a441b29c3809f494c75927",
            "54ea7dd69ef148fd8749255fc450d469",
            "258edbba693c4a7fb205b2368444eee7",
            "3fc5fe42a25047bf84fd3e03b3c83f0c",
            "a3b4285b87564132950e8ae55d4d9773",
            "ca4ec528130c4281b35c83064f62d67f",
            "8f883d67f58f4ca299606697c5766ddb",
            "dbdeb8ecd37d47fe8c765f8efc9e1412",
            "327d18c106ff42c8b42a9c910bad7f54",
            "488159b627bc4188a5756542dce046f3",
            "81218987c6924eb59e9fcde7df1b67b8",
            "2161a21646074349b8a5b0d95dff0443",
            "03a6e3e846f24ac8a2a6f81354866dfd",
            "920bd4b035054709bc052265640304b9",
            "565ab97bc8b048d7824d5be3d0f87f18",
            "dcbcceb77e9e4ce49fe11d7d0dcdc23f",
            "00ad539fa4324c03a538629123ec38d3",
            "fa00c0bc00d542c6a4e156faf0484f97",
            "7f019d9a060c4ff2aacac59c4424f38e",
            "d524719b9fdb4ad9b08cfcdba0966637",
            "834db8210ad44ecbb566f3b171fe3baa",
            "b910915497a74d6ebb34fd24a24480e6",
            "a73a651c551a42bea02c1c3d2e2bf409",
            "30491f5dd67a40a187cb3ccf436fd98d",
            "0fc21fb751014b8aa44285faa55d6519",
            "a050d85a698f4da690f1ddd5d3292073",
            "aa39cfada1c14afb972ec84ff3131257",
            "989f6b61249248b488d6268ad2db2245",
            "f01443ae4db4412ba12eeac9d1b66606",
            "4f4100f7df3e4877871f0855609ebddc",
            "987f2ea2a47748fa921783b9c8897d69",
            "1229df6021a143a19292ef9f04f9ce96",
            "4f346272fd7d48339f6919dd7db75cf9"
          ]
        },
        "id": "VSLgzqNJJRZ8",
        "outputId": "6f19b900-597f-4244-9fae-9433b6155640"
      },
      "outputs": [
        {
          "data": {
            "application/vnd.jupyter.widget-view+json": {
              "model_id": "3664fe53f9784b1e9487917b524d1940",
              "version_major": 2,
              "version_minor": 0
            },
            "text/plain": [
              "Downloading (…)olve/main/vocab.json:   0%|          | 0.00/1.04M [00:00<?, ?B/s]"
            ]
          },
          "metadata": {},
          "output_type": "display_data"
        },
        {
          "data": {
            "application/vnd.jupyter.widget-view+json": {
              "model_id": "bd90bf95f12742f8bcb98051eb939822",
              "version_major": 2,
              "version_minor": 0
            },
            "text/plain": [
              "Downloading (…)olve/main/merges.txt:   0%|          | 0.00/456k [00:00<?, ?B/s]"
            ]
          },
          "metadata": {},
          "output_type": "display_data"
        },
        {
          "data": {
            "application/vnd.jupyter.widget-view+json": {
              "model_id": "d560c1d4b9a441b29c3809f494c75927",
              "version_major": 2,
              "version_minor": 0
            },
            "text/plain": [
              "Downloading (…)lve/main/config.json:   0%|          | 0.00/762 [00:00<?, ?B/s]"
            ]
          },
          "metadata": {},
          "output_type": "display_data"
        },
        {
          "data": {
            "application/vnd.jupyter.widget-view+json": {
              "model_id": "2161a21646074349b8a5b0d95dff0443",
              "version_major": 2,
              "version_minor": 0
            },
            "text/plain": [
              "Downloading pytorch_model.bin:   0%|          | 0.00/353M [00:00<?, ?B/s]"
            ]
          },
          "metadata": {},
          "output_type": "display_data"
        },
        {
          "data": {
            "application/vnd.jupyter.widget-view+json": {
              "model_id": "a73a651c551a42bea02c1c3d2e2bf409",
              "version_major": 2,
              "version_minor": 0
            },
            "text/plain": [
              "Downloading (…)neration_config.json:   0%|          | 0.00/124 [00:00<?, ?B/s]"
            ]
          },
          "metadata": {},
          "output_type": "display_data"
        }
      ],
      "source": [
        "from transformers import GPT2Tokenizer, GPT2LMHeadModel\n",
        "\n",
        "MODEL_NAME = 'distilgpt2' #'distilgpt2' 'gpt2-medium'\n",
        "\n",
        "tokenizer = GPT2Tokenizer.from_pretrained(MODEL_NAME)\n",
        "model = GPT2LMHeadModel.from_pretrained(MODEL_NAME)"
      ]
    },
    {
      "attachments": {},
      "cell_type": "markdown",
      "metadata": {
        "id": "t2Rjy5wTdywj"
      },
      "source": [
        "### Declare special tokens\n",
        "\n",
        "First we create a token for padding. The padding token is used to make all sequences in a batch the same length. The padding token is also used when we want to generate a sequence of a certain length.\n",
        "\n",
        "Next we create a token for separating the prompt from the output.\n",
        "\n",
        "Finally we create a token for the company, so that the model can recognize the name of the company in the prompt and reproduce slogans with the name of the company in it."
      ]
    },
    {
      "cell_type": "code",
      "execution_count": 4,
      "metadata": {
        "colab": {
          "base_uri": "https://localhost:8080/"
        },
        "id": "9y9Y8RvMJcbc",
        "outputId": "ce346d09-fd2d-4fea-8ab8-32bc8c4e30b8"
      },
      "outputs": [
        {
          "name": "stdout",
          "output_type": "stream",
          "text": [
            "{'bos_token': '<|endoftext|>', 'eos_token': '<|endoftext|>', 'unk_token': '<|endoftext|>', 'pad_token': '<pad>', 'additional_special_tokens': ['<prompt>', '<output>', '<company>']}\n"
          ]
        }
      ],
      "source": [
        "SPECIAL_TOKENS_DICT = {\n",
        "    'pad_token': '<pad>',\n",
        "    'additional_special_tokens': ['<prompt>', '<output>', '<company>'],\n",
        "}\n",
        "\n",
        "tokenizer.add_special_tokens(SPECIAL_TOKENS_DICT)\n",
        "model.resize_token_embeddings(len(tokenizer))\n",
        "\n",
        "print(tokenizer.special_tokens_map)"
      ]
    },
    {
      "attachments": {},
      "cell_type": "markdown",
      "metadata": {
        "id": "_mj3YZdeeGl_"
      },
      "source": [
        "### Create a SloganDataset class as a child class of Torch's Dataset.\n",
        "\n",
        "1. The `SloganDataset` class inherits from the `torch.utils.data.Dataset` class and takes `df`, `tokenizer`, and `seq_length` as input parameters. The `seq_length` parameter is set by default to 64.\n",
        "\n",
        "2. Inside the constructor `__init__()`, the additional special tokens and padding token are extracted from the tokenizer and assigned to variables: `prompt_tkn`, `output_tkn`, `pad_tkn`, and `eos_tkn`.\n",
        "\n",
        "3. For each row in the DataFrame, the prompt and output are tokenized using the tokenizer. The prompt tokens are prepended with the `prompt_tkn`, and the output tokens are prepended with `output_tkn` and appended with `eos_tkn`.\n",
        "\n",
        "4. The prompt tokens, output tokens, and padding tokens are concatenated to form the `tokens` list, ensuring a fixed length of `seq_length` by padding with `pad_tkn` if necessary.\n",
        "\n",
        "5. The `segments` list is created to annotate each token with its corresponding segment. The prompt tokens are assigned the `prompt_tkn`, and the output tokens are assigned the `output_tkn`.\n",
        "\n",
        "6. The `labels` list is created to represent the labels for each token. The prompt tokens, padding tokens, and the `<output>` token are ignored by setting their labels to -100, while the rest of the output tokens retain their respective values.\n",
        "\n",
        "7. The preprocessed example, consisting of `tokens`, `segments`, and `labels`, is appended to the `self.examples` list, which holds all the preprocessed examples.\n",
        "\n",
        "8. The `__len__()` method is implemented to return the length of the dataset, which is the number of examples stored in `self.examples`.\n",
        "\n",
        "9. The `__getitem__()` method is implemented to retrieve an item from the dataset given its index `item`. It returns a tensor representation of the example stored in `self.examples`."
      ]
    },
    {
      "cell_type": "code",
      "execution_count": null,
      "metadata": {
        "id": "HmL3Mr4cJeve"
      },
      "outputs": [],
      "source": [
        "import torch\n",
        "from torch.utils.data import Dataset\n",
        "\n",
        "\n",
        "class SloganDataset(Dataset):\n",
        "  def __init__(self, df, tokenizer, seq_length=64):\n",
        "\n",
        "\n",
        "    prompt_tkn = tokenizer.additional_special_tokens_ids[0]\n",
        "    output_tkn = tokenizer.additional_special_tokens_ids[1]\n",
        "    pad_tkn = tokenizer.pad_token_id\n",
        "    eos_tkn = tokenizer.eos_token_id\n",
        "\n",
        "    self.examples = []\n",
        "    self.df = df\n",
        "\n",
        "    for _, row in self.df.iterrows():\n",
        "        prompt = [prompt_tkn] + tokenizer.encode(row['prompt'], max_length=seq_length//2-1)\n",
        "        output = [output_tkn] + tokenizer.encode(row['output'], max_length=seq_length//2-2) + [eos_tkn]\n",
        "        \n",
        "        tokens = prompt + output + [pad_tkn] * ( seq_length - len(prompt) - len(output) )\n",
        "\n",
        "        segments = [prompt_tkn] * len(prompt) + [output_tkn] * ( seq_length - len(prompt) )\n",
        "\n",
        "        labels = [-100] * (len(prompt)+1) + output[1:] + [-100] * ( seq_length - len(prompt) - len(output) )\n",
        "\n",
        "        self.examples.append((tokens, segments, labels))\n",
        "\n",
        "  def __len__(self):\n",
        "    return len(self.examples)\n",
        "\n",
        "  def __getitem__(self, item):\n",
        "    return torch.tensor(self.examples[item])"
      ]
    },
    {
      "attachments": {},
      "cell_type": "markdown",
      "metadata": {
        "id": "JVr0u0GNsHfF"
      },
      "source": [
        "After importing the required libraries, we read the CSV file containing the slogans and create a `DataFrame` object. The `DataFrame` object is then split into training, validation and test sets after being shuffled."
      ]
    },
    {
      "cell_type": "code",
      "execution_count": null,
      "metadata": {
        "colab": {
          "base_uri": "https://localhost:8080/"
        },
        "id": "SnyGoFYwUosJ",
        "outputId": "b64ffc2a-5cc7-4f3f-8e98-da17d8cfacab"
      },
      "outputs": [
        {
          "name": "stderr",
          "output_type": "stream",
          "text": [
            "Truncation was not explicitly activated but `max_length` is provided a specific value, please use `truncation=True` to explicitly truncate examples to max length. Defaulting to 'longest_first' truncation strategy. If you encode pairs of sequences (GLUE-style) with the tokenizer you can select this strategy more precisely by providing a specific strategy to `truncation`.\n"
          ]
        },
        {
          "name": "stdout",
          "output_type": "stream",
          "text": [
            "torch.Size([3, 64])\n",
            "torch.Size([3, 64])\n",
            "torch.Size([3, 64])\n"
          ]
        }
      ],
      "source": [
        "import pandas as pd\n",
        "import numpy as np\n",
        "\n",
        "df = pd.read_csv('all_slogans.csv', delimiter=\";\")\n",
        "df = df.sample(frac=1).reset_index(drop=True)\n",
        "\n",
        "train, dev, test = np.split(df.sample(frac=1), [int(.8*len(df)), int(.9*len(df))])\n",
        "\n",
        "train_dataset = SloganDataset(train, tokenizer)\n",
        "dev_dataset = SloganDataset(dev, tokenizer)\n",
        "test_dataset = SloganDataset(test, tokenizer)\n",
        "\n",
        "print(next(iter(train_dataset)).size())\n",
        "print(next(iter(dev_dataset)).size())\n",
        "print(next(iter(test_dataset)).size())"
      ]
    },
    {
      "attachments": {},
      "cell_type": "markdown",
      "metadata": {
        "id": "-ZttEQhIe4f0"
      },
      "source": [
        "### DataLoaders\n",
        "\n",
        "DataLoaders elements are used to iterate over the dataset. The `DataLoader` class takes a dataset as input and returns batches of data. The `DataLoader` class also takes the `batch_size` parameter, which is set to 64 by default."
      ]
    },
    {
      "cell_type": "code",
      "execution_count": null,
      "metadata": {
        "id": "xgk54CqMJljQ"
      },
      "outputs": [],
      "source": [
        "from torch.utils.data import DataLoader\n",
        "\n",
        "train_loader = DataLoader(train_dataset, batch_size=32)\n",
        "dev_loader = DataLoader(dev_dataset, batch_size=64)\n",
        "test_loader = DataLoader(test_dataset, batch_size=64)"
      ]
    },
    {
      "attachments": {},
      "cell_type": "markdown",
      "metadata": {
        "id": "4LCQHIANfa8x"
      },
      "source": [
        "### Training\n",
        "\n",
        "The next code defines a function called `fit` that trains the model using the provided optimizer and data loaders for training and validation.\n",
        "\n",
        "1. The `fit` function takes several input parameters: `model` (the model to be trained), `optimizer` (the optimizer for updating model parameters), `train_dl` (the data loader for the training set), `val_dl` (the data loader for the validation set), `epochs` (the number of training epochs), and `device` (the device to be used for training, with a default value of `torch.device('cpu')`).\n",
        "\n",
        "2. The function starts a loop over the specified number of epochs. Inside each epoch, it prints the epoch number.\n",
        "\n",
        "3. The model is set to training mode using `model.train()`.\n",
        "\n",
        "4. Two lists, `losses` and `nums`, are initialized to keep track of the batch losses and batch sizes over one epoch.\n",
        "\n",
        "5. The function iterates over the batches in the training data loader using `tqdm` for progress tracking.\n",
        "\n",
        "6. Each batch is moved to the specified device using `inputs = xb.to(device)`.\n",
        "\n",
        "7. The model is called with the input token IDs, segment IDs, and labels using `outputs = model(inputs[:,0,:], token_type_ids=inputs[:,1,:], labels=inputs[:,2,:])`.\n",
        "\n",
        "8. The loss is computed and added to the `losses` list, and the batch size is added to the `nums` list.\n",
        "\n",
        "9. Backpropagation is performed by calling `loss.backward()`.\n",
        "\n",
        "10. The optimizer takes a step to update the model parameters using `optimizer.step()`, and the model gradients are reset to zero using `model.zero_grad()`.\n",
        "\n",
        "11. After the epoch is finished, the average training cost is computed by multiplying the losses with the respective batch sizes, summing them, and dividing by the total number of samples in the epoch.\n",
        "\n",
        "12. The model is switched to evaluation mode using `model.eval()`.\n",
        "\n",
        "13. Validation is performed on the validation data loader using a similar process as training, but without backpropagation. The losses and batch sizes are stored in `losses` and `nums`, respectively.\n",
        "\n",
        "14. The average validation cost is computed in the same way as the training cost.\n",
        "\n",
        "15. Finally, the epoch number, training cost, and validation cost are printed."
      ]
    },
    {
      "cell_type": "code",
      "execution_count": null,
      "metadata": {
        "id": "Y0IWGAR0JrKj"
      },
      "outputs": [],
      "source": [
        "import numpy as np\n",
        "from tqdm import tqdm\n",
        "\n",
        "def fit(model, optimizer, train_dl, val_dl, epochs=1, device=torch.device('cpu')):\n",
        "  for i in range(epochs):\n",
        "    print('\\n--- Starting epoch #{} ---'.format(i+1))\n",
        "    model.train()\n",
        "    losses = []\n",
        "    nums = []\n",
        "    for xb in tqdm(train_dl, desc=\"Training\"):\n",
        "      inputs = xb.to(device)\n",
        "      outputs = model(inputs[:,0,:], token_type_ids=inputs[:,1,:], labels=inputs[:,2,:])\n",
        "      \n",
        "      loss = outputs[0]\n",
        "      losses.append(loss.item())\n",
        "      nums.append(len(xb))\n",
        "      loss.backward()\n",
        "      optimizer.step()\n",
        "      model.zero_grad()\n",
        "\n",
        "    train_cost = np.sum(np.multiply(losses, nums)) / sum(nums)\n",
        "\n",
        "    model.eval()\n",
        "    with torch.no_grad():\n",
        "      losses = []\n",
        "      nums = []\n",
        "      for xb in tqdm(val_dl, desc=\"Validation\"):\n",
        "        inputs = xb.to(device)\n",
        "        outputs = model(inputs[:,0,:], token_type_ids=inputs[:,1,:], labels=inputs[:,2,:])\n",
        "        losses.append(outputs[0].item())\n",
        "        nums.append(len(xb))\n",
        "\n",
        "    val_cost = np.sum(np.multiply(losses, nums)) / sum(nums)\n",
        "\n",
        "    print('\\n--- Epoch #{} finished --- Training cost: {} / Validation cost: {}'.format(i+1, round(train_cost, 3), round(val_cost, 3)))"
      ]
    },
    {
      "attachments": {},
      "cell_type": "markdown",
      "metadata": {
        "id": "VjMmINVRg4Xz"
      },
      "source": [
        "This code block fine-tunes a GPT2 model for `n` epochs using the AdamW optimizer. Here's an overview of the code:\n",
        "\n",
        "1. It creates a `torch.device` object named `device` with the device type set to `'cuda'`, indicating that the GPU will be used for training.\n",
        "\n",
        "2. The `model` is moved to the GPU by calling `model.to(device)`, which ensures that the model's parameters and computations will be performed on the GPU.\n",
        "\n",
        "3. An instance of the AdamW optimizer is created by passing `model.parameters()` as the parameter. This optimizer will update the parameters of the `model` during training.\n",
        "\n",
        "4. The `fit` function is called with the following arguments: `model` (the GPT2 model), `optimizer` (the AdamW optimizer), `train_loader` (the data loader for the training set), `dev_loader` (the data loader for the validation set), `epochs=2` (indicating two training epochs), and `device=device` (specifying the device to be used for training)."
      ]
    },
    {
      "cell_type": "code",
      "execution_count": null,
      "metadata": {
        "colab": {
          "base_uri": "https://localhost:8080/"
        },
        "id": "liKPCFrYJuDy",
        "outputId": "99e8d011-1ebd-4f21-fbc2-069dc4ab0212"
      },
      "outputs": [
        {
          "name": "stdout",
          "output_type": "stream",
          "text": [
            "\n",
            "--- Starting epoch #1 ---\n"
          ]
        },
        {
          "name": "stderr",
          "output_type": "stream",
          "text": [
            "Training: 100%|██████████| 291/291 [01:34<00:00,  3.07it/s]\n",
            "Validation: 100%|██████████| 19/19 [00:04<00:00,  4.62it/s]\n"
          ]
        },
        {
          "name": "stdout",
          "output_type": "stream",
          "text": [
            "\n",
            "--- Epoch #1 finished --- Training cost: 3.738 / Validation cost: 2.767\n",
            "\n",
            "--- Starting epoch #2 ---\n"
          ]
        },
        {
          "name": "stderr",
          "output_type": "stream",
          "text": [
            "Training: 100%|██████████| 291/291 [01:35<00:00,  3.04it/s]\n",
            "Validation: 100%|██████████| 19/19 [00:04<00:00,  4.69it/s]\n"
          ]
        },
        {
          "name": "stdout",
          "output_type": "stream",
          "text": [
            "\n",
            "--- Epoch #2 finished --- Training cost: 2.285 / Validation cost: 2.862\n",
            "\n",
            "--- Starting epoch #3 ---\n"
          ]
        },
        {
          "name": "stderr",
          "output_type": "stream",
          "text": [
            "Training: 100%|██████████| 291/291 [01:36<00:00,  3.03it/s]\n",
            "Validation: 100%|██████████| 19/19 [00:04<00:00,  4.67it/s]\n"
          ]
        },
        {
          "name": "stdout",
          "output_type": "stream",
          "text": [
            "\n",
            "--- Epoch #3 finished --- Training cost: 1.708 / Validation cost: 3.141\n",
            "\n",
            "--- Starting epoch #4 ---\n"
          ]
        },
        {
          "name": "stderr",
          "output_type": "stream",
          "text": [
            "Training: 100%|██████████| 291/291 [01:35<00:00,  3.03it/s]\n",
            "Validation: 100%|██████████| 19/19 [00:04<00:00,  4.69it/s]\n"
          ]
        },
        {
          "name": "stdout",
          "output_type": "stream",
          "text": [
            "\n",
            "--- Epoch #4 finished --- Training cost: 1.269 / Validation cost: 3.459\n",
            "\n",
            "--- Starting epoch #5 ---\n"
          ]
        },
        {
          "name": "stderr",
          "output_type": "stream",
          "text": [
            "Training: 100%|██████████| 291/291 [01:35<00:00,  3.03it/s]\n",
            "Validation: 100%|██████████| 19/19 [00:04<00:00,  4.69it/s]"
          ]
        },
        {
          "name": "stdout",
          "output_type": "stream",
          "text": [
            "\n",
            "--- Epoch #5 finished --- Training cost: 0.979 / Validation cost: 3.795\n"
          ]
        },
        {
          "name": "stderr",
          "output_type": "stream",
          "text": [
            "\n"
          ]
        }
      ],
      "source": [
        "from transformers import AdamW\n",
        "\n",
        "device = torch.device('cuda')\n",
        "model.to(device)\n",
        "\n",
        "optimizer = AdamW(model.parameters(), no_deprecation_warning=True)\n",
        "fit(model, optimizer, train_loader, dev_loader, epochs=5, device=device)"
      ]
    },
    {
      "attachments": {},
      "cell_type": "markdown",
      "metadata": {
        "id": "yIMYgUJXd6zm"
      },
      "source": [
        "Save the model after the training."
      ]
    },
    {
      "cell_type": "code",
      "execution_count": null,
      "metadata": {
        "id": "8XNAD_bzd2dO"
      },
      "outputs": [],
      "source": [
        "model_path = '/content/model.pt'\n",
        "torch.save(model.state_dict(), model_path)"
      ]
    },
    {
      "attachments": {},
      "cell_type": "markdown",
      "metadata": {
        "id": "XATbqBK8wy4J"
      },
      "source": [
        "Save all the datasets."
      ]
    },
    {
      "cell_type": "code",
      "execution_count": null,
      "metadata": {
        "id": "GpMsJiVow0mt"
      },
      "outputs": [],
      "source": [
        "train.to_csv('train.csv', sep=';')\n",
        "dev.to_csv('dev.csv', sep=';')\n",
        "test.to_csv('test.csv', sep=';')"
      ]
    },
    {
      "attachments": {},
      "cell_type": "markdown",
      "metadata": {
        "id": "6kedZSmisHfN"
      },
      "source": [
        "### Load the model and the datasets after training"
      ]
    },
    {
      "attachments": {},
      "cell_type": "markdown",
      "metadata": {
        "id": "MDlecFUQd_1c"
      },
      "source": [
        "Load the saved model to avoid retraining."
      ]
    },
    {
      "cell_type": "code",
      "execution_count": 5,
      "metadata": {
        "colab": {
          "base_uri": "https://localhost:8080/"
        },
        "id": "mF1X40u8d_g4",
        "outputId": "880e65ed-10dc-478c-b8d7-5a39506025b6"
      },
      "outputs": [
        {
          "data": {
            "text/plain": [
              "GPT2LMHeadModel(\n",
              "  (transformer): GPT2Model(\n",
              "    (wte): Embedding(50261, 768)\n",
              "    (wpe): Embedding(1024, 768)\n",
              "    (drop): Dropout(p=0.1, inplace=False)\n",
              "    (h): ModuleList(\n",
              "      (0-5): 6 x GPT2Block(\n",
              "        (ln_1): LayerNorm((768,), eps=1e-05, elementwise_affine=True)\n",
              "        (attn): GPT2Attention(\n",
              "          (c_attn): Conv1D()\n",
              "          (c_proj): Conv1D()\n",
              "          (attn_dropout): Dropout(p=0.1, inplace=False)\n",
              "          (resid_dropout): Dropout(p=0.1, inplace=False)\n",
              "        )\n",
              "        (ln_2): LayerNorm((768,), eps=1e-05, elementwise_affine=True)\n",
              "        (mlp): GPT2MLP(\n",
              "          (c_fc): Conv1D()\n",
              "          (c_proj): Conv1D()\n",
              "          (act): NewGELUActivation()\n",
              "          (dropout): Dropout(p=0.1, inplace=False)\n",
              "        )\n",
              "      )\n",
              "    )\n",
              "    (ln_f): LayerNorm((768,), eps=1e-05, elementwise_affine=True)\n",
              "  )\n",
              "  (lm_head): Linear(in_features=768, out_features=50261, bias=False)\n",
              ")"
            ]
          },
          "execution_count": 5,
          "metadata": {},
          "output_type": "execute_result"
        }
      ],
      "source": [
        "import torch\n",
        "model_path = '/content/drive/MyDrive/model.pt'\n",
        "state_dict = torch.load(model_path, map_location=torch.device('cpu'))\n",
        "model.load_state_dict(state_dict, model_path)\n",
        "device = torch.device('cuda')\n",
        "model.to(device)"
      ]
    },
    {
      "attachments": {},
      "cell_type": "markdown",
      "metadata": {
        "id": "dZS48TQOw_u1"
      },
      "source": [
        "Load the datasets."
      ]
    },
    {
      "cell_type": "code",
      "execution_count": 6,
      "metadata": {
        "id": "7eESkdPlxBVq"
      },
      "outputs": [],
      "source": [
        "import pandas as pd\n",
        "train = pd.read_csv('train.csv', sep=';')\n",
        "dev = pd.read_csv('dev.csv', sep=';')\n",
        "test = pd.read_csv('test.csv', sep=';')"
      ]
    },
    {
      "attachments": {},
      "cell_type": "markdown",
      "metadata": {
        "id": "mTeQM-L5sHfP"
      },
      "source": [
        "### Generate Slogans"
      ]
    },
    {
      "attachments": {},
      "cell_type": "markdown",
      "metadata": {
        "id": "GQTxTbk5peFD"
      },
      "source": [
        "The `top_k_top_p_filtering` function defined below implements a filtering mechanism for probability distributions of logits using top-k and/or nucleus (top-p) filtering techniques. Let's break down the code and explain the idea behind this filtering:\n",
        "\n",
        "1. `top_k = min(top_k, logits.size(-1))`: This line ensures that `top_k` is not greater than the size of the logits distribution, which represents the vocabulary size. It performs a safety check to prevent errors.\n",
        "\n",
        "2. Top-k Filtering:\n",
        "   - `if top_k > 0`: This condition checks if top-k filtering is enabled.\n",
        "   - `indices_to_remove = logits < torch.topk(logits, top_k)[0][..., -1, None]`: This line finds the `top_k`-th largest value in the logits and creates a Boolean mask indicating the tokens with probabilities less than this threshold. Tokens with probabilities below the threshold will be removed.\n",
        "   - `logits[indices_to_remove] = filter_value`: This sets the logits of the filtered tokens to `filter_value`, which is typically negative infinity. This effectively removes the tokens with lower probabilities from the distribution.\n",
        "\n",
        "3. Nucleus (Top-p) Filtering:\n",
        "   - `if top_p > 0.0`: This condition checks if nucleus filtering is enabled.\n",
        "   - `sorted_logits, sorted_indices = torch.sort(logits, descending=True)`: This line sorts the logits in descending order and returns the sorted logits and their corresponding indices.\n",
        "   - `cumulative_probs = torch.cumsum(F.softmax(sorted_logits, dim=-1), dim=-1)`: Here, the softmax is applied to the sorted logits, and the cumulative probabilities are computed along the last dimension.\n",
        "   - `sorted_indices_to_remove = cumulative_probs > top_p`: This line creates a Boolean mask indicating the tokens with cumulative probabilities above the `top_p` threshold.\n",
        "   - `sorted_indices_to_remove[..., 1:] = sorted_indices_to_remove[..., :-1].clone()`: This line shifts the indices to the right, effectively removing the first token above the threshold but keeping the rest.\n",
        "   - `sorted_indices_to_remove[..., 0] = 0`: This sets the first token above the threshold to 0, ensuring it is not removed.\n",
        "   - `indices_to_remove = sorted_indices_to_remove.scatter(dim=1, index=sorted_indices, src=sorted_indices_to_remove)`: This scatters the sorted indices back to their original positions, allowing the filtering of the original logits distribution.\n",
        "   - `logits[indices_to_remove] = filter_value`: Similar to top-k filtering, this line sets the logits of the filtered tokens to `filter_value`, effectively removing them from the distribution.\n",
        "\n",
        "Finally, the function returns the filtered logits distribution. The filtering mechanism helps control the diversity and randomness of the generated text by constraining the distribution based on the top-k tokens and/or cumulative probability threshold (top-p)."
      ]
    },
    {
      "cell_type": "code",
      "execution_count": null,
      "metadata": {
        "id": "kTEUV-0XJzxE"
      },
      "outputs": [],
      "source": [
        "def top_k_top_p_filtering(logits, top_k=0, top_p=0.0, filter_value=-float('Inf')):\n",
        "    top_k = min(top_k, logits.size(-1))\n",
        "    if top_k > 0:\n",
        "        indices_to_remove = logits < torch.topk(logits, top_k)[0][..., -1, None]\n",
        "        logits[indices_to_remove] = filter_value\n",
        "\n",
        "    if top_p > 0.0:\n",
        "        sorted_logits, sorted_indices = torch.sort(logits, descending=True)\n",
        "        cumulative_probs = torch.cumsum(F.softmax(sorted_logits, dim=-1), dim=-1)\n",
        "\n",
        "        sorted_indices_to_remove = cumulative_probs > top_p\n",
        "        sorted_indices_to_remove[..., 1:] = sorted_indices_to_remove[..., :-1].clone()\n",
        "        sorted_indices_to_remove[..., 0] = 0\n",
        "\n",
        "        indices_to_remove = sorted_indices_to_remove.scatter(dim=1, index=sorted_indices, src=sorted_indices_to_remove)\n",
        "        logits[indices_to_remove] = filter_value\n",
        "    return logits"
      ]
    },
    {
      "attachments": {},
      "cell_type": "markdown",
      "metadata": {
        "id": "RfocSyPCqUK-"
      },
      "source": [
        "The `sample_sequence` function generates slogans using GPT-2 by sampling tokens sequentially. Let's break down the code and explain its functionality:\n",
        "\n",
        "1. `prompt = torch.tensor(prompt, dtype=torch.long, device=device)`: This line converts the `prompt` into a PyTorch tensor of type `torch.long` and moves it to the GPU.\n",
        "\n",
        "2. `prompt = prompt.unsqueeze(0).repeat(num_samples, 1)`: The `prompt` tensor is unsqueezed to add a batch dimension of size 1, and then repeated `num_samples` times to create multiple independent sequences for generating multiple slogans simultaneously.\n",
        "\n",
        "3. `generated = prompt`: The `generated` tensor is initialized with the prompt, which serves as the starting point for generating the slogans.\n",
        "\n",
        "4. The generation process begins with a loop that iterates `length` times to generate the desired number of tokens for each slogan:\n",
        "\n",
        "   - `inputs = {'input_ids': generated}`: The `generated` tensor is used as the input to the model. It contains the token IDs of the previously generated tokens.\n",
        "   \n",
        "   - `if segments_tokens != None: ...`: If `segments_tokens` is provided, it represents the segment or context information for the input tokens. It is used to create the 'token_type_ids' tensor that specifies the segment information for each token in `generated`.\n",
        "\n",
        "   - `outputs = model(**inputs)`: The model is called with the `inputs` dictionary to obtain the model outputs. The specific details may vary depending on the model architecture.\n",
        "\n",
        "   - `next_token_logits = outputs[0][:, -1, :] / (temperature if temperature > 0 else 1.)`: The logits for the next token in the sequence are extracted from the model outputs. The logits are divided by the temperature value to control the randomness of the sampling. If `temperature` is 0, greedy sampling is performed by choosing the token with the highest probability.\n",
        "\n",
        "   - `for i in range(num_samples): ...`: For each individual slogan sequence, a repetition penalty is applied to discourage repeated tokens. The logits for each token that already exists in the generated sequence are divided by the `repetition_penalty` value.\n",
        "\n",
        "   - `filtered_logits = top_k_top_p_filtering(next_token_logits, top_k=top_k, top_p=top_p)`: The `top_k_top_p_filtering` function is applied to the logits to filter the distribution based on the top-k and/or nucleus (top-p) filtering techniques. This helps control the diversity and randomness of the generated slogans.\n",
        "\n",
        "   - `if temperature == 0: ...`: If `temperature` is 0, greedy sampling is performed by selecting the token with the highest probability (argmax) from the filtered logits. The selected token is unsqueezed and added to the `generated` tensor.\n",
        "\n",
        "   - `else: ...`: For non-zero `temperature` values, multinomial sampling is performed using the filtered logits and the `num_samples` parameter. The sampled token is unsqueezed and added to the `generated` tensor.\n",
        "\n",
        "5. Finally, the function returns the `generated` tensor, which contains the generated slogans."
      ]
    },
    {
      "cell_type": "code",
      "execution_count": null,
      "metadata": {
        "id": "s6w9_J9wparT"
      },
      "outputs": [],
      "source": [
        "import torch.nn.functional as F\n",
        "from tqdm import trange\n",
        "\n",
        "def sample_sequence(model, length, prompt, segments_tokens=None, num_samples=1, temperature=1, top_k=0, top_p=0.0, repetition_penalty=1.0,\n",
        "                    device='cpu'):\n",
        "    prompt = torch.tensor(prompt, dtype=torch.long, device=device)\n",
        "    prompt = prompt.unsqueeze(0).repeat(num_samples, 1)\n",
        "    generated = prompt\n",
        "\n",
        "    with torch.no_grad():\n",
        "        # for _ in trange(length, leave=True):\n",
        "        for _ in range(length):\n",
        "            inputs = {'input_ids': generated}\n",
        "            if segments_tokens != None:\n",
        "              inputs['token_type_ids'] = torch.tensor(segments_tokens[:generated.shape[1]]).unsqueeze(0).repeat(num_samples, 1)\n",
        "\n",
        "            outputs = model(**inputs)\n",
        "            next_token_logits = outputs[0][:, -1, :] / (temperature if temperature > 0 else 1.)\n",
        "\n",
        "            for i in range(num_samples):\n",
        "                for _ in set(generated[i].tolist()):\n",
        "                    next_token_logits[i, _] /= repetition_penalty\n",
        "                \n",
        "            filtered_logits = top_k_top_p_filtering(next_token_logits, top_k=top_k, top_p=top_p)\n",
        "            if temperature == 0:\n",
        "                next_token = torch.argmax(filtered_logits, dim=-1).unsqueeze(-1)\n",
        "            else:\n",
        "                next_token = torch.multinomial(F.softmax(filtered_logits, dim=-1), num_samples=1)\n",
        "            generated = torch.cat((generated, next_token), dim=1)\n",
        "            \n",
        "    # trange.close()\n",
        "\n",
        "    return generated"
      ]
    },
    {
      "attachments": {},
      "cell_type": "markdown",
      "metadata": {
        "id": "VXixx9M4sHfR"
      },
      "source": [
        "Slogan generation from a single prompt to quickly evaluate the performance of the model."
      ]
    },
    {
      "cell_type": "code",
      "execution_count": null,
      "metadata": {
        "colab": {
          "base_uri": "https://localhost:8080/"
        },
        "id": "agQcp6LvJ4ck",
        "outputId": "6ba5ed0d-86ad-4c22-a76e-9f3639a47fa8"
      },
      "outputs": [
        {
          "name": "stderr",
          "output_type": "stream",
          "text": [
            "100%|██████████| 20/20 [00:24<00:00,  1.25s/it]"
          ]
        },
        {
          "name": "stdout",
          "output_type": "stream",
          "text": [
            "\n",
            "--- Generated Slogans ---\n",
            "\n",
            " Coca-Cola, Breathing life.\n",
            " Coca-Cola, Taste it everything.\n",
            " Coca-Cola, Taste the possibilities.\n",
            " Coca-Cola, Taste the possibilities.\n",
            " Coca-Cola, Just chill.\n",
            " Coca-Cola, Taste the possibilities.\n",
            " Coca-Cola, Just try and Smirk.\n",
            " Coca-Cola, Taste the possibilities.\n",
            " Coca-Cola, Taste the possibilities.\n",
            " Coca-Cola, Taste it together.\n",
            " Coca-Cola, Welcome to the World Cup Cup.\n",
            " Coca-Cola, Have fun in it.\n",
            " Coca-Cola, What's for breakfast like today?\n",
            " Coca-Cola, Taste the possibilities.\n",
            " Coca-Cola, Try theCola. Try the World.\n",
            " Coca-Cola, Taste the mystery.\n",
            " Coca-Cola, Have you heard the Pepsi-Cola test of it?\n",
            " Coca-Cola, Taste it all.\n",
            " Coca-Cola, Brew the Pepsi, Think of it as a Coke.\n",
            " Coca-Cola, Smell it. Don't believe it.\n"
          ]
        },
        {
          "name": "stderr",
          "output_type": "stream",
          "text": [
            "\n"
          ]
        }
      ],
      "source": [
        "prompt = \"Coca-Cola, Drinking\"\n",
        "\n",
        "prompt_tkn = tokenizer.additional_special_tokens_ids[0]\n",
        "output_tkn = tokenizer.additional_special_tokens_ids[1]\n",
        "\n",
        "input_ids = [prompt_tkn] + tokenizer.encode(prompt)\n",
        "\n",
        "segments = [output_tkn] * 64\n",
        "segments[:len(input_ids)] = [prompt_tkn] * len(input_ids)\n",
        "\n",
        "input_ids += [output_tkn]\n",
        "\n",
        "model.to(torch.device('cpu'))\n",
        "\n",
        "generated = sample_sequence(model, length=20, prompt=input_ids, segments_tokens=segments, num_samples=20)\n",
        "\n",
        "print('\\n--- Generated Slogans ---\\n')\n",
        "\n",
        "for g in generated:\n",
        "  slogan = tokenizer.decode(g.squeeze().tolist())\n",
        "  slogan = slogan.split('<|endoftext|>')[0].split('<output>')[1]\n",
        "  print(slogan)"
      ]
    },
    {
      "attachments": {},
      "cell_type": "markdown",
      "metadata": {
        "id": "DFZrqW3EsHfS"
      },
      "source": [
        "All slogans seem pretty good. However there are several repetitions of the same slogan.\\\n",
        "This is not a bad thing, but it is not ideal."
      ]
    },
    {
      "attachments": {},
      "cell_type": "markdown",
      "metadata": {
        "id": "qAXD0f7JsHfT"
      },
      "source": [
        "Here in the following block we create a function that generates slogans from a list of prompts.\\\n",
        "This function will be used to generate the slogans for the test set."
      ]
    },
    {
      "cell_type": "code",
      "execution_count": null,
      "metadata": {
        "id": "ZJAhUHI6sSdV"
      },
      "outputs": [],
      "source": [
        "from tqdm import trange\n",
        "\n",
        "def generate_slogans_for_column(prompt, model, tokenizer):\n",
        "    prompt_tkn = tokenizer.additional_special_tokens_ids[0]\n",
        "    output_tkn = tokenizer.additional_special_tokens_ids[1]\n",
        "\n",
        "    input_ids = [prompt_tkn] + tokenizer.encode(prompt)\n",
        "    segments = [output_tkn] * 64\n",
        "    segments[:len(input_ids)] = [prompt_tkn] * len(input_ids)\n",
        "    input_ids += [output_tkn]\n",
        "\n",
        "    model.to(torch.device('cpu'))\n",
        "\n",
        "    generated = sample_sequence(model, length=20, prompt=input_ids, segments_tokens=segments, num_samples=1)\n",
        "\n",
        "    # slogans = []\n",
        "    # for g in generated:\n",
        "    slogan = tokenizer.decode(generated.squeeze().tolist())\n",
        "    slogan = slogan.split('<|endoftext|>')[0].split('<output>')[1]\n",
        "    return slogan[1:]\n",
        "\n",
        "def generate_slogans_for_dataset(data_column, model, tokenizer):\n",
        "    generated_slogans = []\n",
        "    with trange(len(data_column), leave=True) as pbar:\n",
        "        for prompt in data_column:\n",
        "            slogans = generate_slogans_for_column(prompt, model, tokenizer)\n",
        "            generated_slogans.append(slogans)\n",
        "            pbar.update(1)\n",
        "    return generated_slogans"
      ]
    },
    {
      "cell_type": "code",
      "execution_count": null,
      "metadata": {
        "colab": {
          "base_uri": "https://localhost:8080/"
        },
        "id": "2uxQphOKacG3",
        "outputId": "baee0080-c624-4925-8a8a-8862662f4032"
      },
      "outputs": [
        {
          "name": "stderr",
          "output_type": "stream",
          "text": [
            "100%|██████████| 1162/1162 [37:50<00:00,  1.95s/it]\n"
          ]
        }
      ],
      "source": [
        "test['output_generated'] = generate_slogans_for_dataset(test['prompt'], model, tokenizer)"
      ]
    },
    {
      "cell_type": "code",
      "execution_count": null,
      "metadata": {
        "colab": {
          "base_uri": "https://localhost:8080/",
          "height": 745
        },
        "id": "bFCYQC94apQ_",
        "outputId": "e321f9e1-7fd2-4ad2-9b96-567ed923ca11"
      },
      "outputs": [
        {
          "data": {
            "text/html": [
              "\n",
              "  <div id=\"df-a85be77b-bd44-4126-abc8-af5e135a7fc9\">\n",
              "    <div class=\"colab-df-container\">\n",
              "      <div>\n",
              "<style scoped>\n",
              "    .dataframe tbody tr th:only-of-type {\n",
              "        vertical-align: middle;\n",
              "    }\n",
              "\n",
              "    .dataframe tbody tr th {\n",
              "        vertical-align: top;\n",
              "    }\n",
              "\n",
              "    .dataframe thead th {\n",
              "        text-align: right;\n",
              "    }\n",
              "</style>\n",
              "<table border=\"1\" class=\"dataframe\">\n",
              "  <thead>\n",
              "    <tr style=\"text-align: right;\">\n",
              "      <th></th>\n",
              "      <th>Unnamed: 0</th>\n",
              "      <th>company</th>\n",
              "      <th>category</th>\n",
              "      <th>slogan</th>\n",
              "      <th>language</th>\n",
              "      <th>slogan_masked</th>\n",
              "      <th>prompt</th>\n",
              "      <th>output</th>\n",
              "      <th>output_generated</th>\n",
              "    </tr>\n",
              "  </thead>\n",
              "  <tbody>\n",
              "    <tr>\n",
              "      <th>0</th>\n",
              "      <td>1435</td>\n",
              "      <td>The National Lottery</td>\n",
              "      <td>Sports</td>\n",
              "      <td>It could be you</td>\n",
              "      <td>en</td>\n",
              "      <td>It could be you</td>\n",
              "      <td>The National Lottery, Sports</td>\n",
              "      <td>The National Lottery, It could be you</td>\n",
              "      <td>The National Lottery, Play the National Lotter...</td>\n",
              "    </tr>\n",
              "    <tr>\n",
              "      <th>1</th>\n",
              "      <td>529</td>\n",
              "      <td>Minute Maid</td>\n",
              "      <td>Drinking</td>\n",
              "      <td>For moms who know.</td>\n",
              "      <td>en</td>\n",
              "      <td>For moms who know.</td>\n",
              "      <td>Minute Maid, Drinking</td>\n",
              "      <td>Minute Maid, For moms who know.</td>\n",
              "      <td>Minute Maid, Prettier than the Maid.</td>\n",
              "    </tr>\n",
              "    <tr>\n",
              "      <th>2</th>\n",
              "      <td>8898</td>\n",
              "      <td>P&amp;O Ferries</td>\n",
              "      <td>Tours</td>\n",
              "      <td>You deserve a holiday.</td>\n",
              "      <td>en</td>\n",
              "      <td>You deserve a holiday.</td>\n",
              "      <td>P&amp;O Ferries, Tours</td>\n",
              "      <td>P&amp;O Ferries, You deserve a holiday.</td>\n",
              "      <td>P&amp;O Ferries, Where you come first.</td>\n",
              "    </tr>\n",
              "    <tr>\n",
              "      <th>3</th>\n",
              "      <td>1497</td>\n",
              "      <td>Holiday Inn</td>\n",
              "      <td>Tours</td>\n",
              "      <td>We put a smile back on your face.</td>\n",
              "      <td>en</td>\n",
              "      <td>We put a smile back on your face.</td>\n",
              "      <td>Holiday Inn, Tours</td>\n",
              "      <td>Holiday Inn, We put a smile back on your face.</td>\n",
              "      <td>Holiday Inn, It over the world'sHoliday Innkee...</td>\n",
              "    </tr>\n",
              "    <tr>\n",
              "      <th>4</th>\n",
              "      <td>7097</td>\n",
              "      <td>Best Buy</td>\n",
              "      <td>Business</td>\n",
              "      <td>Turn on the fun.</td>\n",
              "      <td>en</td>\n",
              "      <td>Turn on the fun.</td>\n",
              "      <td>Best Buy, Business</td>\n",
              "      <td>Best Buy, Turn on the fun.</td>\n",
              "      <td>Best Buy, Expert Service. Streetwise Price.</td>\n",
              "    </tr>\n",
              "    <tr>\n",
              "      <th>...</th>\n",
              "      <td>...</td>\n",
              "      <td>...</td>\n",
              "      <td>...</td>\n",
              "      <td>...</td>\n",
              "      <td>...</td>\n",
              "      <td>...</td>\n",
              "      <td>...</td>\n",
              "      <td>...</td>\n",
              "      <td>...</td>\n",
              "    </tr>\n",
              "    <tr>\n",
              "      <th>1157</th>\n",
              "      <td>2594</td>\n",
              "      <td>Disney Junior</td>\n",
              "      <td>Business</td>\n",
              "      <td>Welcome to Disney Junior!</td>\n",
              "      <td>en</td>\n",
              "      <td>Welcome to &lt;company&gt;!</td>\n",
              "      <td>Disney Junior, Business</td>\n",
              "      <td>Disney Junior, Welcome to Disney Junior!</td>\n",
              "      <td>Disney Junior, Where the Magic Begins!</td>\n",
              "    </tr>\n",
              "    <tr>\n",
              "      <th>1158</th>\n",
              "      <td>8192</td>\n",
              "      <td>Intel</td>\n",
              "      <td>Technology</td>\n",
              "      <td>The Computer Inside.</td>\n",
              "      <td>en</td>\n",
              "      <td>The Computer Inside.</td>\n",
              "      <td>Intel, Technology</td>\n",
              "      <td>Intel, The Computer Inside.</td>\n",
              "      <td>Intel, Sponsors of tomorrow.</td>\n",
              "    </tr>\n",
              "    <tr>\n",
              "      <th>1159</th>\n",
              "      <td>4695</td>\n",
              "      <td>Emirates</td>\n",
              "      <td>Airlines</td>\n",
              "      <td>Fly us once, fly us always</td>\n",
              "      <td>en</td>\n",
              "      <td>Fly us once, fly us always</td>\n",
              "      <td>Emirates, Airlines</td>\n",
              "      <td>Emirates, Fly us once, fly us always</td>\n",
              "      <td>Emirates, Fly the airline of the year 2005.</td>\n",
              "    </tr>\n",
              "    <tr>\n",
              "      <th>1160</th>\n",
              "      <td>8992</td>\n",
              "      <td>Woodford Reserve</td>\n",
              "      <td>Drinking</td>\n",
              "      <td>Handcrafted Kentucky bourbon.</td>\n",
              "      <td>en</td>\n",
              "      <td>Handcrafted Kentucky bourbon.</td>\n",
              "      <td>Woodford Reserve, Drinking</td>\n",
              "      <td>Woodford Reserve, Handcrafted Kentucky bourbon.</td>\n",
              "      <td>Woodford Reserve, Woodford Reserve Reclass &lt;co...</td>\n",
              "    </tr>\n",
              "    <tr>\n",
              "      <th>1161</th>\n",
              "      <td>4615</td>\n",
              "      <td>Café Hag</td>\n",
              "      <td>Drinking</td>\n",
              "      <td>With coffee this good, who needs caffeine?</td>\n",
              "      <td>en</td>\n",
              "      <td>With coffee this good, who needs caffeine?</td>\n",
              "      <td>Café Hag, Drinking</td>\n",
              "      <td>Café Hag, With coffee this good, who needs caf...</td>\n",
              "      <td>Café Hag, You can't knock them over a Cold. Tr...</td>\n",
              "    </tr>\n",
              "  </tbody>\n",
              "</table>\n",
              "<p>1162 rows × 9 columns</p>\n",
              "</div>\n",
              "      <button class=\"colab-df-convert\" onclick=\"convertToInteractive('df-a85be77b-bd44-4126-abc8-af5e135a7fc9')\"\n",
              "              title=\"Convert this dataframe to an interactive table.\"\n",
              "              style=\"display:none;\">\n",
              "        \n",
              "  <svg xmlns=\"http://www.w3.org/2000/svg\" height=\"24px\"viewBox=\"0 0 24 24\"\n",
              "       width=\"24px\">\n",
              "    <path d=\"M0 0h24v24H0V0z\" fill=\"none\"/>\n",
              "    <path d=\"M18.56 5.44l.94 2.06.94-2.06 2.06-.94-2.06-.94-.94-2.06-.94 2.06-2.06.94zm-11 1L8.5 8.5l.94-2.06 2.06-.94-2.06-.94L8.5 2.5l-.94 2.06-2.06.94zm10 10l.94 2.06.94-2.06 2.06-.94-2.06-.94-.94-2.06-.94 2.06-2.06.94z\"/><path d=\"M17.41 7.96l-1.37-1.37c-.4-.4-.92-.59-1.43-.59-.52 0-1.04.2-1.43.59L10.3 9.45l-7.72 7.72c-.78.78-.78 2.05 0 2.83L4 21.41c.39.39.9.59 1.41.59.51 0 1.02-.2 1.41-.59l7.78-7.78 2.81-2.81c.8-.78.8-2.07 0-2.86zM5.41 20L4 18.59l7.72-7.72 1.47 1.35L5.41 20z\"/>\n",
              "  </svg>\n",
              "      </button>\n",
              "      \n",
              "  <style>\n",
              "    .colab-df-container {\n",
              "      display:flex;\n",
              "      flex-wrap:wrap;\n",
              "      gap: 12px;\n",
              "    }\n",
              "\n",
              "    .colab-df-convert {\n",
              "      background-color: #E8F0FE;\n",
              "      border: none;\n",
              "      border-radius: 50%;\n",
              "      cursor: pointer;\n",
              "      display: none;\n",
              "      fill: #1967D2;\n",
              "      height: 32px;\n",
              "      padding: 0 0 0 0;\n",
              "      width: 32px;\n",
              "    }\n",
              "\n",
              "    .colab-df-convert:hover {\n",
              "      background-color: #E2EBFA;\n",
              "      box-shadow: 0px 1px 2px rgba(60, 64, 67, 0.3), 0px 1px 3px 1px rgba(60, 64, 67, 0.15);\n",
              "      fill: #174EA6;\n",
              "    }\n",
              "\n",
              "    [theme=dark] .colab-df-convert {\n",
              "      background-color: #3B4455;\n",
              "      fill: #D2E3FC;\n",
              "    }\n",
              "\n",
              "    [theme=dark] .colab-df-convert:hover {\n",
              "      background-color: #434B5C;\n",
              "      box-shadow: 0px 1px 3px 1px rgba(0, 0, 0, 0.15);\n",
              "      filter: drop-shadow(0px 1px 2px rgba(0, 0, 0, 0.3));\n",
              "      fill: #FFFFFF;\n",
              "    }\n",
              "  </style>\n",
              "\n",
              "      <script>\n",
              "        const buttonEl =\n",
              "          document.querySelector('#df-a85be77b-bd44-4126-abc8-af5e135a7fc9 button.colab-df-convert');\n",
              "        buttonEl.style.display =\n",
              "          google.colab.kernel.accessAllowed ? 'block' : 'none';\n",
              "\n",
              "        async function convertToInteractive(key) {\n",
              "          const element = document.querySelector('#df-a85be77b-bd44-4126-abc8-af5e135a7fc9');\n",
              "          const dataTable =\n",
              "            await google.colab.kernel.invokeFunction('convertToInteractive',\n",
              "                                                     [key], {});\n",
              "          if (!dataTable) return;\n",
              "\n",
              "          const docLinkHtml = 'Like what you see? Visit the ' +\n",
              "            '<a target=\"_blank\" href=https://colab.research.google.com/notebooks/data_table.ipynb>data table notebook</a>'\n",
              "            + ' to learn more about interactive tables.';\n",
              "          element.innerHTML = '';\n",
              "          dataTable['output_type'] = 'display_data';\n",
              "          await google.colab.output.renderOutput(dataTable, element);\n",
              "          const docLink = document.createElement('div');\n",
              "          docLink.innerHTML = docLinkHtml;\n",
              "          element.appendChild(docLink);\n",
              "        }\n",
              "      </script>\n",
              "    </div>\n",
              "  </div>\n",
              "  "
            ],
            "text/plain": [
              "      Unnamed: 0               company    category  \\\n",
              "0           1435  The National Lottery      Sports   \n",
              "1            529           Minute Maid    Drinking   \n",
              "2           8898           P&O Ferries       Tours   \n",
              "3           1497           Holiday Inn       Tours   \n",
              "4           7097              Best Buy    Business   \n",
              "...          ...                   ...         ...   \n",
              "1157        2594         Disney Junior    Business   \n",
              "1158        8192                 Intel  Technology   \n",
              "1159        4695              Emirates    Airlines   \n",
              "1160        8992      Woodford Reserve    Drinking   \n",
              "1161        4615              Café Hag    Drinking   \n",
              "\n",
              "                                          slogan language  \\\n",
              "0                                It could be you       en   \n",
              "1                             For moms who know.       en   \n",
              "2                         You deserve a holiday.       en   \n",
              "3              We put a smile back on your face.       en   \n",
              "4                               Turn on the fun.       en   \n",
              "...                                          ...      ...   \n",
              "1157                   Welcome to Disney Junior!       en   \n",
              "1158                        The Computer Inside.       en   \n",
              "1159                  Fly us once, fly us always       en   \n",
              "1160               Handcrafted Kentucky bourbon.       en   \n",
              "1161  With coffee this good, who needs caffeine?       en   \n",
              "\n",
              "                                   slogan_masked  \\\n",
              "0                                It could be you   \n",
              "1                             For moms who know.   \n",
              "2                         You deserve a holiday.   \n",
              "3              We put a smile back on your face.   \n",
              "4                               Turn on the fun.   \n",
              "...                                          ...   \n",
              "1157                       Welcome to <company>!   \n",
              "1158                        The Computer Inside.   \n",
              "1159                  Fly us once, fly us always   \n",
              "1160               Handcrafted Kentucky bourbon.   \n",
              "1161  With coffee this good, who needs caffeine?   \n",
              "\n",
              "                            prompt  \\\n",
              "0     The National Lottery, Sports   \n",
              "1            Minute Maid, Drinking   \n",
              "2               P&O Ferries, Tours   \n",
              "3               Holiday Inn, Tours   \n",
              "4               Best Buy, Business   \n",
              "...                            ...   \n",
              "1157       Disney Junior, Business   \n",
              "1158             Intel, Technology   \n",
              "1159            Emirates, Airlines   \n",
              "1160    Woodford Reserve, Drinking   \n",
              "1161            Café Hag, Drinking   \n",
              "\n",
              "                                                 output  \\\n",
              "0                 The National Lottery, It could be you   \n",
              "1                       Minute Maid, For moms who know.   \n",
              "2                   P&O Ferries, You deserve a holiday.   \n",
              "3        Holiday Inn, We put a smile back on your face.   \n",
              "4                            Best Buy, Turn on the fun.   \n",
              "...                                                 ...   \n",
              "1157           Disney Junior, Welcome to Disney Junior!   \n",
              "1158                        Intel, The Computer Inside.   \n",
              "1159               Emirates, Fly us once, fly us always   \n",
              "1160    Woodford Reserve, Handcrafted Kentucky bourbon.   \n",
              "1161  Café Hag, With coffee this good, who needs caf...   \n",
              "\n",
              "                                       output_generated  \n",
              "0     The National Lottery, Play the National Lotter...  \n",
              "1                  Minute Maid, Prettier than the Maid.  \n",
              "2                    P&O Ferries, Where you come first.  \n",
              "3     Holiday Inn, It over the world'sHoliday Innkee...  \n",
              "4           Best Buy, Expert Service. Streetwise Price.  \n",
              "...                                                 ...  \n",
              "1157             Disney Junior, Where the Magic Begins!  \n",
              "1158                       Intel, Sponsors of tomorrow.  \n",
              "1159        Emirates, Fly the airline of the year 2005.  \n",
              "1160  Woodford Reserve, Woodford Reserve Reclass <co...  \n",
              "1161  Café Hag, You can't knock them over a Cold. Tr...  \n",
              "\n",
              "[1162 rows x 9 columns]"
            ]
          },
          "execution_count": 54,
          "metadata": {},
          "output_type": "execute_result"
        }
      ],
      "source": [
        "test"
      ]
    },
    {
      "attachments": {},
      "cell_type": "markdown",
      "metadata": {
        "id": "F37eZIMosHfr"
      },
      "source": [
        "Export the test dataset with generations to a csv file."
      ]
    },
    {
      "cell_type": "code",
      "execution_count": null,
      "metadata": {
        "id": "LthIRKY2k5zK"
      },
      "outputs": [],
      "source": [
        "test.to_csv('test_generated.csv', sep=';')"
      ]
    },
    {
      "attachments": {},
      "cell_type": "markdown",
      "metadata": {
        "id": "gXidqrC8sHfs"
      },
      "source": [
        "Load the test dataset with generations from the csv file."
      ]
    },
    {
      "cell_type": "code",
      "execution_count": 7,
      "metadata": {
        "id": "ROmqzvvB0_YP"
      },
      "outputs": [],
      "source": [
        "test_gen = pd.read_csv('test_generated.csv', sep=';')"
      ]
    },
    {
      "attachments": {},
      "cell_type": "markdown",
      "metadata": {
        "id": "oSWuB8rskyQP"
      },
      "source": [
        "We create a copy of the test dataset with generations and we remove the original slogans.\\\n",
        "This is done to concatenate the generated slogans with the original ones.\n",
        "\n",
        "Before recombining the generated slogans with the original ones, we create a column `generated` that tells us if the slogan is generated or not."
      ]
    },
    {
      "cell_type": "code",
      "execution_count": 8,
      "metadata": {
        "id": "zFbgkAIEk0fd"
      },
      "outputs": [],
      "source": [
        "test_copy = test_gen.drop('output', axis=1).rename(columns={'output_generated':'output'})\n",
        "\n",
        "test_copy['generated'] = 1\n",
        "train['generated'] = 0\n",
        "dev['generated'] = 0\n",
        "\n",
        "df_class = pd.concat([train, dev, test_copy])"
      ]
    },
    {
      "cell_type": "code",
      "execution_count": 9,
      "metadata": {
        "colab": {
          "base_uri": "https://localhost:8080/",
          "height": 658
        },
        "id": "KxyaUNeU4HN3",
        "outputId": "972cf6ce-c7b6-4346-de4a-ddfa2ef2908f"
      },
      "outputs": [
        {
          "data": {
            "text/html": [
              "\n",
              "  <div id=\"df-bdebf55d-c626-4a17-a82f-85e5da60d3d4\">\n",
              "    <div class=\"colab-df-container\">\n",
              "      <div>\n",
              "<style scoped>\n",
              "    .dataframe tbody tr th:only-of-type {\n",
              "        vertical-align: middle;\n",
              "    }\n",
              "\n",
              "    .dataframe tbody tr th {\n",
              "        vertical-align: top;\n",
              "    }\n",
              "\n",
              "    .dataframe thead th {\n",
              "        text-align: right;\n",
              "    }\n",
              "</style>\n",
              "<table border=\"1\" class=\"dataframe\">\n",
              "  <thead>\n",
              "    <tr style=\"text-align: right;\">\n",
              "      <th></th>\n",
              "      <th>company</th>\n",
              "      <th>category</th>\n",
              "      <th>slogan</th>\n",
              "      <th>language</th>\n",
              "      <th>slogan_masked</th>\n",
              "      <th>prompt</th>\n",
              "      <th>output</th>\n",
              "      <th>generated</th>\n",
              "    </tr>\n",
              "  </thead>\n",
              "  <tbody>\n",
              "    <tr>\n",
              "      <th>0</th>\n",
              "      <td>Massachusetts</td>\n",
              "      <td>Tours</td>\n",
              "      <td>Massachusetts: where God is God</td>\n",
              "      <td>en</td>\n",
              "      <td>&lt;company&gt;: where God is God</td>\n",
              "      <td>Massachusetts, Tours</td>\n",
              "      <td>Massachusetts, Massachusetts: where God is God</td>\n",
              "      <td>0</td>\n",
              "    </tr>\n",
              "    <tr>\n",
              "      <th>1</th>\n",
              "      <td>Café Coffee Day</td>\n",
              "      <td>Drinking</td>\n",
              "      <td>We’re Brewing A Marathon Of Celebrations This ...</td>\n",
              "      <td>en</td>\n",
              "      <td>We’re Brewing A Marathon Of Celebrations This ...</td>\n",
              "      <td>Café Coffee Day, Drinking</td>\n",
              "      <td>Café Coffee Day, We’re Brewing A Marathon Of C...</td>\n",
              "      <td>0</td>\n",
              "    </tr>\n",
              "    <tr>\n",
              "      <th>2</th>\n",
              "      <td>Colorado</td>\n",
              "      <td>Tours</td>\n",
              "      <td>Rocky Mountain Empire</td>\n",
              "      <td>en</td>\n",
              "      <td>Rocky Mountain Empire</td>\n",
              "      <td>Colorado, Tours</td>\n",
              "      <td>Colorado, Rocky Mountain Empire</td>\n",
              "      <td>0</td>\n",
              "    </tr>\n",
              "    <tr>\n",
              "      <th>3</th>\n",
              "      <td>Lipton</td>\n",
              "      <td>Drinking</td>\n",
              "      <td>Start something good.</td>\n",
              "      <td>en</td>\n",
              "      <td>Start something good.</td>\n",
              "      <td>Lipton, Drinking</td>\n",
              "      <td>Lipton, Start something good.</td>\n",
              "      <td>0</td>\n",
              "    </tr>\n",
              "    <tr>\n",
              "      <th>4</th>\n",
              "      <td>Boost</td>\n",
              "      <td>Food</td>\n",
              "      <td>Boost Guarana: One Step Ahead.</td>\n",
              "      <td>en</td>\n",
              "      <td>&lt;company&gt; Guarana: One Step Ahead.</td>\n",
              "      <td>Boost, Food</td>\n",
              "      <td>Boost, Boost Guarana: One Step Ahead.</td>\n",
              "      <td>0</td>\n",
              "    </tr>\n",
              "    <tr>\n",
              "      <th>...</th>\n",
              "      <td>...</td>\n",
              "      <td>...</td>\n",
              "      <td>...</td>\n",
              "      <td>...</td>\n",
              "      <td>...</td>\n",
              "      <td>...</td>\n",
              "      <td>...</td>\n",
              "      <td>...</td>\n",
              "    </tr>\n",
              "    <tr>\n",
              "      <th>11613</th>\n",
              "      <td>Disney Junior</td>\n",
              "      <td>Business</td>\n",
              "      <td>Welcome to Disney Junior!</td>\n",
              "      <td>en</td>\n",
              "      <td>Welcome to &lt;company&gt;!</td>\n",
              "      <td>Disney Junior, Business</td>\n",
              "      <td>Disney Junior, Where the Magic Begins!</td>\n",
              "      <td>1</td>\n",
              "    </tr>\n",
              "    <tr>\n",
              "      <th>11614</th>\n",
              "      <td>Intel</td>\n",
              "      <td>Technology</td>\n",
              "      <td>The Computer Inside.</td>\n",
              "      <td>en</td>\n",
              "      <td>The Computer Inside.</td>\n",
              "      <td>Intel, Technology</td>\n",
              "      <td>Intel, Sponsors of tomorrow.</td>\n",
              "      <td>1</td>\n",
              "    </tr>\n",
              "    <tr>\n",
              "      <th>11615</th>\n",
              "      <td>Emirates</td>\n",
              "      <td>Airlines</td>\n",
              "      <td>Fly us once, fly us always</td>\n",
              "      <td>en</td>\n",
              "      <td>Fly us once, fly us always</td>\n",
              "      <td>Emirates, Airlines</td>\n",
              "      <td>Emirates, Fly the airline of the year 2005.</td>\n",
              "      <td>1</td>\n",
              "    </tr>\n",
              "    <tr>\n",
              "      <th>11616</th>\n",
              "      <td>Woodford Reserve</td>\n",
              "      <td>Drinking</td>\n",
              "      <td>Handcrafted Kentucky bourbon.</td>\n",
              "      <td>en</td>\n",
              "      <td>Handcrafted Kentucky bourbon.</td>\n",
              "      <td>Woodford Reserve, Drinking</td>\n",
              "      <td>Woodford Reserve, Woodford Reserve Reclass &lt;co...</td>\n",
              "      <td>1</td>\n",
              "    </tr>\n",
              "    <tr>\n",
              "      <th>11617</th>\n",
              "      <td>Café Hag</td>\n",
              "      <td>Drinking</td>\n",
              "      <td>With coffee this good, who needs caffeine?</td>\n",
              "      <td>en</td>\n",
              "      <td>With coffee this good, who needs caffeine?</td>\n",
              "      <td>Café Hag, Drinking</td>\n",
              "      <td>Café Hag, You can't knock them over a Cold. Tr...</td>\n",
              "      <td>1</td>\n",
              "    </tr>\n",
              "  </tbody>\n",
              "</table>\n",
              "<p>11618 rows × 8 columns</p>\n",
              "</div>\n",
              "      <button class=\"colab-df-convert\" onclick=\"convertToInteractive('df-bdebf55d-c626-4a17-a82f-85e5da60d3d4')\"\n",
              "              title=\"Convert this dataframe to an interactive table.\"\n",
              "              style=\"display:none;\">\n",
              "        \n",
              "  <svg xmlns=\"http://www.w3.org/2000/svg\" height=\"24px\"viewBox=\"0 0 24 24\"\n",
              "       width=\"24px\">\n",
              "    <path d=\"M0 0h24v24H0V0z\" fill=\"none\"/>\n",
              "    <path d=\"M18.56 5.44l.94 2.06.94-2.06 2.06-.94-2.06-.94-.94-2.06-.94 2.06-2.06.94zm-11 1L8.5 8.5l.94-2.06 2.06-.94-2.06-.94L8.5 2.5l-.94 2.06-2.06.94zm10 10l.94 2.06.94-2.06 2.06-.94-2.06-.94-.94-2.06-.94 2.06-2.06.94z\"/><path d=\"M17.41 7.96l-1.37-1.37c-.4-.4-.92-.59-1.43-.59-.52 0-1.04.2-1.43.59L10.3 9.45l-7.72 7.72c-.78.78-.78 2.05 0 2.83L4 21.41c.39.39.9.59 1.41.59.51 0 1.02-.2 1.41-.59l7.78-7.78 2.81-2.81c.8-.78.8-2.07 0-2.86zM5.41 20L4 18.59l7.72-7.72 1.47 1.35L5.41 20z\"/>\n",
              "  </svg>\n",
              "      </button>\n",
              "      \n",
              "  <style>\n",
              "    .colab-df-container {\n",
              "      display:flex;\n",
              "      flex-wrap:wrap;\n",
              "      gap: 12px;\n",
              "    }\n",
              "\n",
              "    .colab-df-convert {\n",
              "      background-color: #E8F0FE;\n",
              "      border: none;\n",
              "      border-radius: 50%;\n",
              "      cursor: pointer;\n",
              "      display: none;\n",
              "      fill: #1967D2;\n",
              "      height: 32px;\n",
              "      padding: 0 0 0 0;\n",
              "      width: 32px;\n",
              "    }\n",
              "\n",
              "    .colab-df-convert:hover {\n",
              "      background-color: #E2EBFA;\n",
              "      box-shadow: 0px 1px 2px rgba(60, 64, 67, 0.3), 0px 1px 3px 1px rgba(60, 64, 67, 0.15);\n",
              "      fill: #174EA6;\n",
              "    }\n",
              "\n",
              "    [theme=dark] .colab-df-convert {\n",
              "      background-color: #3B4455;\n",
              "      fill: #D2E3FC;\n",
              "    }\n",
              "\n",
              "    [theme=dark] .colab-df-convert:hover {\n",
              "      background-color: #434B5C;\n",
              "      box-shadow: 0px 1px 3px 1px rgba(0, 0, 0, 0.15);\n",
              "      filter: drop-shadow(0px 1px 2px rgba(0, 0, 0, 0.3));\n",
              "      fill: #FFFFFF;\n",
              "    }\n",
              "  </style>\n",
              "\n",
              "      <script>\n",
              "        const buttonEl =\n",
              "          document.querySelector('#df-bdebf55d-c626-4a17-a82f-85e5da60d3d4 button.colab-df-convert');\n",
              "        buttonEl.style.display =\n",
              "          google.colab.kernel.accessAllowed ? 'block' : 'none';\n",
              "\n",
              "        async function convertToInteractive(key) {\n",
              "          const element = document.querySelector('#df-bdebf55d-c626-4a17-a82f-85e5da60d3d4');\n",
              "          const dataTable =\n",
              "            await google.colab.kernel.invokeFunction('convertToInteractive',\n",
              "                                                     [key], {});\n",
              "          if (!dataTable) return;\n",
              "\n",
              "          const docLinkHtml = 'Like what you see? Visit the ' +\n",
              "            '<a target=\"_blank\" href=https://colab.research.google.com/notebooks/data_table.ipynb>data table notebook</a>'\n",
              "            + ' to learn more about interactive tables.';\n",
              "          element.innerHTML = '';\n",
              "          dataTable['output_type'] = 'display_data';\n",
              "          await google.colab.output.renderOutput(dataTable, element);\n",
              "          const docLink = document.createElement('div');\n",
              "          docLink.innerHTML = docLinkHtml;\n",
              "          element.appendChild(docLink);\n",
              "        }\n",
              "      </script>\n",
              "    </div>\n",
              "  </div>\n",
              "  "
            ],
            "text/plain": [
              "                company    category  \\\n",
              "0         Massachusetts       Tours   \n",
              "1       Café Coffee Day    Drinking   \n",
              "2              Colorado       Tours   \n",
              "3                Lipton    Drinking   \n",
              "4                 Boost        Food   \n",
              "...                 ...         ...   \n",
              "11613     Disney Junior    Business   \n",
              "11614             Intel  Technology   \n",
              "11615          Emirates    Airlines   \n",
              "11616  Woodford Reserve    Drinking   \n",
              "11617          Café Hag    Drinking   \n",
              "\n",
              "                                                  slogan language  \\\n",
              "0                        Massachusetts: where God is God       en   \n",
              "1      We’re Brewing A Marathon Of Celebrations This ...       en   \n",
              "2                                  Rocky Mountain Empire       en   \n",
              "3                                  Start something good.       en   \n",
              "4                         Boost Guarana: One Step Ahead.       en   \n",
              "...                                                  ...      ...   \n",
              "11613                          Welcome to Disney Junior!       en   \n",
              "11614                               The Computer Inside.       en   \n",
              "11615                         Fly us once, fly us always       en   \n",
              "11616                      Handcrafted Kentucky bourbon.       en   \n",
              "11617         With coffee this good, who needs caffeine?       en   \n",
              "\n",
              "                                           slogan_masked  \\\n",
              "0                            <company>: where God is God   \n",
              "1      We’re Brewing A Marathon Of Celebrations This ...   \n",
              "2                                  Rocky Mountain Empire   \n",
              "3                                  Start something good.   \n",
              "4                     <company> Guarana: One Step Ahead.   \n",
              "...                                                  ...   \n",
              "11613                              Welcome to <company>!   \n",
              "11614                               The Computer Inside.   \n",
              "11615                         Fly us once, fly us always   \n",
              "11616                      Handcrafted Kentucky bourbon.   \n",
              "11617         With coffee this good, who needs caffeine?   \n",
              "\n",
              "                           prompt  \\\n",
              "0            Massachusetts, Tours   \n",
              "1       Café Coffee Day, Drinking   \n",
              "2                 Colorado, Tours   \n",
              "3                Lipton, Drinking   \n",
              "4                     Boost, Food   \n",
              "...                           ...   \n",
              "11613     Disney Junior, Business   \n",
              "11614           Intel, Technology   \n",
              "11615          Emirates, Airlines   \n",
              "11616  Woodford Reserve, Drinking   \n",
              "11617          Café Hag, Drinking   \n",
              "\n",
              "                                                  output  generated  \n",
              "0         Massachusetts, Massachusetts: where God is God          0  \n",
              "1      Café Coffee Day, We’re Brewing A Marathon Of C...          0  \n",
              "2                        Colorado, Rocky Mountain Empire          0  \n",
              "3                          Lipton, Start something good.          0  \n",
              "4                  Boost, Boost Guarana: One Step Ahead.          0  \n",
              "...                                                  ...        ...  \n",
              "11613             Disney Junior, Where the Magic Begins!          1  \n",
              "11614                       Intel, Sponsors of tomorrow.          1  \n",
              "11615        Emirates, Fly the airline of the year 2005.          1  \n",
              "11616  Woodford Reserve, Woodford Reserve Reclass <co...          1  \n",
              "11617  Café Hag, You can't knock them over a Cold. Tr...          1  \n",
              "\n",
              "[11618 rows x 8 columns]"
            ]
          },
          "execution_count": 9,
          "metadata": {},
          "output_type": "execute_result"
        }
      ],
      "source": [
        "df_class.drop(['Unnamed: 0', 'Unnamed: 0.1'], axis=1, inplace=True)\n",
        "df_class.reset_index(drop=True)"
      ]
    },
    {
      "attachments": {},
      "cell_type": "markdown",
      "metadata": {
        "id": "RSNzhLSysHfu"
      },
      "source": [
        "Of course now all the generated slogans are at the end of the dataset, so the dataset will be shuffled again for the next steps."
      ]
    },
    {
      "attachments": {},
      "cell_type": "markdown",
      "metadata": {
        "id": "kfqPiMIP01r1"
      },
      "source": [
        "## BERT Classifier\n",
        "\n",
        "The slogan generation process appears to be functioning properly. However, in order to determine the suitability of the generated slogans for real-world use, it is important to evaluate them. To accomplish this, we employ the **BERT** model for the classification of the slogans into generated or non-generated categories."
      ]
    },
    {
      "attachments": {},
      "cell_type": "markdown",
      "metadata": {
        "id": "vzI2zGFq16uG"
      },
      "source": [
        "After having recombined the previous datasets in a new one, we reshuffle it. Then we split it again into train, dev, test."
      ]
    },
    {
      "cell_type": "code",
      "execution_count": 10,
      "metadata": {
        "id": "zd99a4b95hle"
      },
      "outputs": [],
      "source": [
        "import numpy as np\n",
        "\n",
        "train_class, dev_class, test_class = np.split(df_class.sample(frac=1), [int(.8*len(df_class)), int(.9*len(df_class))])"
      ]
    },
    {
      "cell_type": "code",
      "execution_count": 11,
      "metadata": {
        "colab": {
          "base_uri": "https://localhost:8080/"
        },
        "id": "m4eyKxomuB8L",
        "outputId": "d8247109-07b6-4ea7-f38d-035176c8aaaa"
      },
      "outputs": [
        {
          "data": {
            "text/plain": [
              "0    8372\n",
              "1     922\n",
              "Name: generated, dtype: int64"
            ]
          },
          "execution_count": 11,
          "metadata": {},
          "output_type": "execute_result"
        }
      ],
      "source": [
        "train_class.generated.value_counts()"
      ]
    },
    {
      "cell_type": "code",
      "execution_count": 12,
      "metadata": {
        "colab": {
          "base_uri": "https://localhost:8080/"
        },
        "id": "0xUTXpIlvA6s",
        "outputId": "f42925c5-2aee-40d4-bcb1-c3fa1e22afaf"
      },
      "outputs": [
        {
          "data": {
            "text/plain": [
              "0    1052\n",
              "1     110\n",
              "Name: generated, dtype: int64"
            ]
          },
          "execution_count": 12,
          "metadata": {},
          "output_type": "execute_result"
        }
      ],
      "source": [
        "dev_class.generated.value_counts()"
      ]
    },
    {
      "cell_type": "code",
      "execution_count": 13,
      "metadata": {
        "colab": {
          "base_uri": "https://localhost:8080/"
        },
        "id": "kkPriL0ZvVZQ",
        "outputId": "2d22c6d7-a214-426b-9d92-0ab1fcb1d6a6"
      },
      "outputs": [
        {
          "data": {
            "text/plain": [
              "0    1032\n",
              "1     130\n",
              "Name: generated, dtype: int64"
            ]
          },
          "execution_count": 13,
          "metadata": {},
          "output_type": "execute_result"
        }
      ],
      "source": [
        "test_class.generated.value_counts()"
      ]
    },
    {
      "attachments": {},
      "cell_type": "markdown",
      "metadata": {
        "id": "OiDiiRAasHfy"
      },
      "source": [
        "### Tokenization\n",
        "\n",
        "To pass the dataset to the BERT model, we need to convert the slogans into tokens.\\\n",
        "We use the `BertTokenizer` class to tokenize the slogans.\n",
        "\n",
        "We initialize the `BertTokenizer` class with the `bert-base-uncased` model and we initialize the `BertForSequenceClassification` class with the `bert-base-uncased` model and the number of classes."
      ]
    },
    {
      "cell_type": "code",
      "execution_count": 14,
      "metadata": {
        "colab": {
          "base_uri": "https://localhost:8080/",
          "height": 252,
          "referenced_widgets": [
            "380f2383f44542ba89172e2e99bf317e",
            "35ebd9b140304a598efb2030adf18596",
            "815ab27b91134c9ebc81ff99a9ea25f3",
            "d0cfd967350744e48c3630a97fd0010d",
            "7b35ad6863bf48fb95c189154569f1bc",
            "863dfa95dd154ed7a0df1b9a46347700",
            "05e91c8e4e9b489082da78ef0682fb77",
            "932cda40a9a04cb18b6b0746bdcad958",
            "e6a6cd8bca1a481bbc595d69b38be076",
            "38b37d4847004ab69e405752fc5bdee6",
            "62d9c2ce6ec54680bcafb30b023e8b2e",
            "908ae0cb30c943c0ae93386d9a00337d",
            "15521431126d4cfd848582ca9cdf7338",
            "d32ad5baed4941fdaf71a997bc4b3416",
            "5ba115362010437981025098bb91a9fb",
            "bb5c65338f6f48988239f5c3a27acfd9",
            "1f7bc642669a4fa6a7c09d58024883a1",
            "46989533500b4bb4933f26274430cb4e",
            "072beabcb43b4d439841caa4727c3db2",
            "1f2e57caaa7d410c830ebd84a74a44de",
            "22aa94dfb7a0449f83c35b3ba670548d",
            "47b2fd014b2c4f2e86d1af475cfa8ef7",
            "8b52023f311442f2bd0f166c2fe63efd",
            "6b2e8503d8e542b2ae234bec6456dcd7",
            "c143c2ffa3f44d28b1cf1f868949b33d",
            "23a1cd0cf351483f9adc9e313d749be8",
            "edefff0010ba4a409bf03d424e146820",
            "30cc0f2b8fc44368b2071ac25e09df93",
            "31e1949738ca40329f9331eb668d0800",
            "56f6d32f94a3485d88b0b698929a48ad",
            "a58632fdb43a4200a8797cdff5b03f60",
            "95cf732d22da44b6a3f49d896b721f6e",
            "50a75b16b526430f9f3bbc55d02d7fc9",
            "dd68e484ff3048e3b982ce74df0230a1",
            "eadce0bae70842f297ec84e4e4485738",
            "1e187a69bd074276847955a187f23ecd",
            "145a924718f1450482a80941c461d549",
            "d8de3980f49b440d944e2de6d130e7f4",
            "291510ca15f34a6098975d817ce6e0a4",
            "c6e00ced911d496e81d7112790b90f65",
            "a8b49df6e9f1456c854b5080d389d8c9",
            "8321a04748474e259903a7759daa2af3",
            "5591c7bcf2e849ada25bbb3c0fd7d74e",
            "5c7a1b2be56f4dc19cb00d41a197ddb1"
          ]
        },
        "id": "z9pay_WHoNQA",
        "outputId": "98aeea32-4ebb-46a2-af06-b87920ebac43"
      },
      "outputs": [
        {
          "data": {
            "application/vnd.jupyter.widget-view+json": {
              "model_id": "380f2383f44542ba89172e2e99bf317e",
              "version_major": 2,
              "version_minor": 0
            },
            "text/plain": [
              "Downloading (…)solve/main/vocab.txt:   0%|          | 0.00/232k [00:00<?, ?B/s]"
            ]
          },
          "metadata": {},
          "output_type": "display_data"
        },
        {
          "data": {
            "application/vnd.jupyter.widget-view+json": {
              "model_id": "908ae0cb30c943c0ae93386d9a00337d",
              "version_major": 2,
              "version_minor": 0
            },
            "text/plain": [
              "Downloading (…)okenizer_config.json:   0%|          | 0.00/28.0 [00:00<?, ?B/s]"
            ]
          },
          "metadata": {},
          "output_type": "display_data"
        },
        {
          "data": {
            "application/vnd.jupyter.widget-view+json": {
              "model_id": "8b52023f311442f2bd0f166c2fe63efd",
              "version_major": 2,
              "version_minor": 0
            },
            "text/plain": [
              "Downloading (…)lve/main/config.json:   0%|          | 0.00/570 [00:00<?, ?B/s]"
            ]
          },
          "metadata": {},
          "output_type": "display_data"
        },
        {
          "data": {
            "application/vnd.jupyter.widget-view+json": {
              "model_id": "dd68e484ff3048e3b982ce74df0230a1",
              "version_major": 2,
              "version_minor": 0
            },
            "text/plain": [
              "Downloading pytorch_model.bin:   0%|          | 0.00/440M [00:00<?, ?B/s]"
            ]
          },
          "metadata": {},
          "output_type": "display_data"
        },
        {
          "name": "stderr",
          "output_type": "stream",
          "text": [
            "Some weights of the model checkpoint at bert-base-uncased were not used when initializing BertForSequenceClassification: ['cls.predictions.bias', 'cls.predictions.decoder.weight', 'cls.predictions.transform.LayerNorm.weight', 'cls.predictions.transform.LayerNorm.bias', 'cls.seq_relationship.bias', 'cls.seq_relationship.weight', 'cls.predictions.transform.dense.weight', 'cls.predictions.transform.dense.bias']\n",
            "- This IS expected if you are initializing BertForSequenceClassification from the checkpoint of a model trained on another task or with another architecture (e.g. initializing a BertForSequenceClassification model from a BertForPreTraining model).\n",
            "- This IS NOT expected if you are initializing BertForSequenceClassification from the checkpoint of a model that you expect to be exactly identical (initializing a BertForSequenceClassification model from a BertForSequenceClassification model).\n",
            "Some weights of BertForSequenceClassification were not initialized from the model checkpoint at bert-base-uncased and are newly initialized: ['classifier.bias', 'classifier.weight']\n",
            "You should probably TRAIN this model on a down-stream task to be able to use it for predictions and inference.\n"
          ]
        }
      ],
      "source": [
        "from transformers import BertTokenizer, BertForSequenceClassification\n",
        "from transformers import RobertaTokenizer, RobertaForSequenceClassification\n",
        "\n",
        "tokenizer_class = BertTokenizer.from_pretrained('bert-base-uncased')\n",
        "model_class = BertForSequenceClassification.from_pretrained('bert-base-uncased', num_labels=2)"
      ]
    },
    {
      "attachments": {},
      "cell_type": "markdown",
      "metadata": {
        "id": "A0braKdLsHfy"
      },
      "source": [
        "We tokenize the slogans for the train, dev and test sets."
      ]
    },
    {
      "cell_type": "code",
      "execution_count": 15,
      "metadata": {
        "id": "ULGmjtAjpJ_x"
      },
      "outputs": [],
      "source": [
        "train_slogan_encodings = tokenizer_class(train_class['output'].tolist(), truncation=True, padding=True)\n",
        "dev_slogan_encodings = tokenizer_class(dev_class['output'].tolist(), truncation=True, padding=True)\n",
        "test_slogan_encodings = tokenizer_class(test_class['output'].tolist(), truncation=True, padding=True)"
      ]
    },
    {
      "attachments": {},
      "cell_type": "markdown",
      "metadata": {
        "id": "xIJF8zZEsHfz"
      },
      "source": [
        "### Create Datasets\n",
        "\n",
        "As we did fror the GPT-2 model, we create a custom dataset for the BERT model.\n",
        "\n",
        "We create the dataloaders for the train, dev and test sets."
      ]
    },
    {
      "cell_type": "code",
      "execution_count": 16,
      "metadata": {
        "id": "vIV2TqCroJ8Q"
      },
      "outputs": [],
      "source": [
        "import torch\n",
        "from torch.utils.data import DataLoader\n",
        "\n",
        "class ClassDataset(torch.utils.data.Dataset):\n",
        "\n",
        "    def __init__(self, encodings, labels):\n",
        "        self.encodings = encodings\n",
        "        self.labels = labels\n",
        "\n",
        "    def __getitem__(self, idx):\n",
        "        item = {key: torch.tensor(val[idx]) for key, val in self.encodings.items()}\n",
        "        item['labels'] = torch.tensor(self.labels[idx])\n",
        "        return item\n",
        "\n",
        "    def __len__(self):\n",
        "        return len(self.labels)\n",
        "\n",
        "train_dataset_class = ClassDataset(train_slogan_encodings, train_class['generated'].tolist())\n",
        "dev_dataset_class = ClassDataset(dev_slogan_encodings, dev_class['generated'].tolist())\n",
        "test_dataset_class = ClassDataset(test_slogan_encodings, test_class['generated'].tolist())\n",
        "\n",
        "train_loader_class = DataLoader(train_dataset_class, batch_size=16, shuffle=True)\n",
        "dev_loader_class = DataLoader(dev_dataset_class, batch_size=16, shuffle=True)\n",
        "test_loader_class = DataLoader(test_dataset_class, batch_size=16, shuffle=True)"
      ]
    },
    {
      "attachments": {},
      "cell_type": "markdown",
      "metadata": {
        "id": "BNR8AN5NsHfz"
      },
      "source": [
        "### Training the BERT model"
      ]
    },
    {
      "attachments": {},
      "cell_type": "markdown",
      "metadata": {
        "id": "bW2BBwaZsHfz"
      },
      "source": [
        "Before running the training loop we check the availability of a CUDA-enabled GPU and set the device accordingly, thus the model is moved to the chosen device. The we initialize the AdamW optimizer, passing the model parameters and setting the learning rate.\n",
        "Now we can enter the training loop, iterating over a specified number of epochs, which this time is 3.\n",
        "\n",
        "In the loop we perform the following steps:\n",
        "1. Set the model to training mode.\n",
        "2. Iterate over the batches in the training data loader.\n",
        "3. Clear the gradients of the optimizer.\n",
        "4. Move the input data, attention mask, and labels to the chosen device.\n",
        "5. Perform a forward pass through the model, obtaining the outputs.\n",
        "6. Calculate the loss based on the model outputs.\n",
        "7. Perform backpropagation to compute the gradients of the model parameters.\n",
        "8. Update the model parameters using the optimizer."
      ]
    },
    {
      "cell_type": "code",
      "execution_count": 18,
      "metadata": {
        "colab": {
          "base_uri": "https://localhost:8080/"
        },
        "id": "C5Megymh5y-f",
        "outputId": "4cd43c7b-40f3-4646-85c1-dab1871ba7e0"
      },
      "outputs": [
        {
          "name": "stderr",
          "output_type": "stream",
          "text": [
            "100%|██████████| 5/5 [05:41<00:00, 68.38s/it]\n"
          ]
        }
      ],
      "source": [
        "from transformers import AdamW\n",
        "from tqdm import tqdm\n",
        "\n",
        "device = torch.device('cuda') if torch.cuda.is_available() else torch.device('cpu')\n",
        "model_class.to(device)\n",
        "\n",
        "optim = AdamW(model_class.parameters(), lr=5e-5)\n",
        "\n",
        "for epoch in tqdm(range(5)):\n",
        "    model_class.train()\n",
        "    for batch in train_loader_class:\n",
        "        optim.zero_grad()\n",
        "        input_ids = batch['input_ids'].to(device)\n",
        "        attention_mask = batch['attention_mask'].to(device)\n",
        "        labels = batch['labels'].to(device)\n",
        "        outputs = model_class(input_ids, attention_mask=attention_mask, labels=labels)\n",
        "        loss = outputs[0]\n",
        "        loss.backward()\n",
        "        optim.step()"
      ]
    },
    {
      "attachments": {},
      "cell_type": "markdown",
      "metadata": {
        "id": "yEDO9eicsHf0"
      },
      "source": [
        "Save the classifier model to a file so that it can be loaded later and avoid the need to retrain it."
      ]
    },
    {
      "cell_type": "code",
      "execution_count": 19,
      "metadata": {
        "id": "C_RRz25yySoy"
      },
      "outputs": [],
      "source": [
        "model_path = '/content/model_class.pt'\n",
        "torch.save(model_class.state_dict(), model_path)"
      ]
    },
    {
      "attachments": {},
      "cell_type": "markdown",
      "metadata": {
        "id": "neTR_VbCsHf0"
      },
      "source": [
        "Load the classifier model from a file, then move it to the chosen device."
      ]
    },
    {
      "cell_type": "code",
      "execution_count": null,
      "metadata": {
        "colab": {
          "base_uri": "https://localhost:8080/",
          "height": 568
        },
        "id": "0qT7q6w42Ieg",
        "outputId": "7953e7b9-163b-478e-bb7b-07afcca558f9"
      },
      "outputs": [],
      "source": [
        "import torch\n",
        "model_path = '/content/drive/MyDrive/model_class.pt'\n",
        "state_dict = torch.load(model_path, map_location=torch.device('cpu'))\n",
        "model_class.load_state_dict(state_dict, model_path)\n",
        "device = torch.device('cuda')\n",
        "model_class.to(device)"
      ]
    },
    {
      "attachments": {},
      "cell_type": "markdown",
      "metadata": {
        "id": "7W7t0yOS39GD"
      },
      "source": [
        "### Evaluate the model"
      ]
    },
    {
      "attachments": {},
      "cell_type": "markdown",
      "metadata": {
        "id": "dJoSN9hrsHf1"
      },
      "source": [
        "Now it is time to evaluate the performance of the model on the test set.\n",
        "\n",
        "We set the model to evaluation mode, then we initialize empty lists to store the predicted labels and true labels.\n",
        "Then we enter a loop that iterates over the batches in the validation data loader and performs the following steps:\n",
        "1. Iterate over the batches in the validation data loader.\n",
        "2. Move the input data and attention mask to the chosen device.\n",
        "3. Perform a forward pass through the model without computing gradients.\n",
        "4. Extract the logits from the model outputs.\n",
        "5. Append the predicted labels to the `preds_class` list by selecting the class index with the highest probability (argmax) along the last dimension of the logits.\n",
        "6. Append the true labels to the `labels_class` list."
      ]
    },
    {
      "cell_type": "code",
      "execution_count": 21,
      "metadata": {
        "id": "f3GrXKnCtaHc"
      },
      "outputs": [],
      "source": [
        "model_class.eval()\n",
        "preds_class = []\n",
        "labels_class = []\n",
        "for batch in dev_loader_class:\n",
        "    input_ids = batch['input_ids'].to(device)\n",
        "    attention_mask = batch['attention_mask'].to(device)\n",
        "    with torch.no_grad():\n",
        "        outputs = model_class(input_ids, attention_mask=attention_mask)\n",
        "    logits = outputs[0]\n",
        "    preds_class.extend(logits.argmax(dim=-1).tolist())\n",
        "    labels_class.extend(batch['labels'].tolist())"
      ]
    },
    {
      "attachments": {},
      "cell_type": "markdown",
      "metadata": {
        "id": "9FKoXhrVsHf1"
      },
      "source": [
        "We calculate the accuracy of the model on the validation set."
      ]
    },
    {
      "cell_type": "code",
      "execution_count": 22,
      "metadata": {
        "colab": {
          "base_uri": "https://localhost:8080/"
        },
        "id": "NDAISegNtqe5",
        "outputId": "1ce53373-369e-445f-ead3-a422f78fa09d"
      },
      "outputs": [
        {
          "name": "stdout",
          "output_type": "stream",
          "text": [
            "Accuracy: 0.891566265060241\n",
            "F1 Score: (0.8618054953627459, 0.891566265060241, 0.8727381800770551, None)\n"
          ]
        }
      ],
      "source": [
        "from sklearn.metrics import accuracy_score, precision_recall_fscore_support\n",
        "\n",
        "accuracy_class = accuracy_score(labels_class, preds_class)\n",
        "f1_class = precision_recall_fscore_support(labels_class, preds_class, average='weighted')\n",
        "\n",
        "print('Accuracy:', accuracy_class)\n",
        "print('F1 Score:', f1_class)"
      ]
    },
    {
      "attachments": {},
      "cell_type": "markdown",
      "metadata": {
        "id": "H27Vlb634AU3"
      },
      "source": [
        "Even though the score seems pretty high, we must keep in mind that almost 90% of the slogans in the test set are original, so we expect the model at least to spot them.\n",
        "\n",
        "However the model is not able to predict all the correct labels, which means that our slogan builder performed well."
      ]
    },
    {
      "cell_type": "code",
      "execution_count": 23,
      "metadata": {
        "colab": {
          "base_uri": "https://localhost:8080/",
          "height": 662
        },
        "id": "jTtfbxEswoeW",
        "outputId": "e407cf5d-0fc9-4a07-d010-38b965dbc1d2"
      },
      "outputs": [
        {
          "data": {
            "image/png": "[encoded data removed]",
            "text/plain": [
              "<Figure size 1000x700 with 2 Axes>"
            ]
          },
          "metadata": {},
          "output_type": "display_data"
        }
      ],
      "source": [
        "from sklearn.metrics import confusion_matrix\n",
        "import matplotlib.pyplot as plt\n",
        "import seaborn as sns\n",
        "\n",
        "cm = confusion_matrix(test_class['generated'], preds_class, labels=train_class['generated'].unique())\n",
        "\n",
        "cm_df = pd.DataFrame(cm, index = train_class['generated'].unique(),\n",
        "                        columns = train_class['generated'].unique())\n",
        "\n",
        "plt.figure(figsize=(10,7))\n",
        "sns.heatmap(cm_df, annot=True, fmt='g')\n",
        "plt.title('BERT base classifier\\nAccuracy: {0:.3f}'.format(accuracy_class))\n",
        "plt.ylabel('True label')\n",
        "plt.xlabel('Predicted label')\n",
        "plt.show()"
      ]
    },
    {
      "attachments": {},
      "cell_type": "markdown",
      "metadata": {
        "id": "r1DFDn7D4b-V"
      },
      "source": [
        "By plotting the confusion matrix we can see that our classifier misclassified almost all generated slogans. In fact, we can see that 129 out 130 generated slogans have been labeled as original while actually they were not (False Positive).\n",
        "\n",
        "Note that the model also predicted 49 False Negative slogans, which means that somehow the model spotted something unregular in the original slogans, which might have been a confounder for generated slogans."
      ]
    },
    {
      "attachments": {},
      "cell_type": "markdown",
      "metadata": {
        "id": "Kn4Qq1_m3HYI"
      },
      "source": [
        "Append the results of the classifier to the test set."
      ]
    },
    {
      "cell_type": "code",
      "execution_count": 24,
      "metadata": {
        "id": "bEy-NOSx2FYQ"
      },
      "outputs": [],
      "source": [
        "test_class['class'] = preds_class"
      ]
    },
    {
      "attachments": {},
      "cell_type": "markdown",
      "metadata": {
        "id": "l1JazMZG3NCk"
      },
      "source": [
        "### Show some examples of the classification."
      ]
    },
    {
      "attachments": {},
      "cell_type": "markdown",
      "metadata": {
        "id": "BPlz-J675GUy"
      },
      "source": [
        "When printing the only TN, we see that it looks pretty credible actually."
      ]
    },
    {
      "cell_type": "code",
      "execution_count": 25,
      "metadata": {
        "colab": {
          "base_uri": "https://localhost:8080/"
        },
        "id": "ppblzBfb3Meh",
        "outputId": "b7a3aef9-ff41-4786-bf09-825fc2335fcb"
      },
      "outputs": [
        {
          "data": {
            "text/plain": [
              "['Folgers, Folgers in Folgers.']"
            ]
          },
          "execution_count": 25,
          "metadata": {},
          "output_type": "execute_result"
        }
      ],
      "source": [
        "test_class[(test_class['class']==1)&(test_class['generated']==1)].output.tolist()"
      ]
    },
    {
      "attachments": {},
      "cell_type": "markdown",
      "metadata": {
        "id": "KvUKyZPXsHf3"
      },
      "source": [
        "Let's give a look at the False Positives."
      ]
    },
    {
      "cell_type": "code",
      "execution_count": 26,
      "metadata": {
        "colab": {
          "base_uri": "https://localhost:8080/"
        },
        "id": "W8NqNt_t30vJ",
        "outputId": "0cb3936e-a948-440c-a5c4-8a33465a8815"
      },
      "outputs": [
        {
          "data": {
            "text/plain": [
              "['Subway, If you are eating at Subway, then you areeating fresh.',\n",
              " 'Play-Doh, Fun to play with, not to eat',\n",
              " \"Weston's Cider, Cider inspired by tradition.\",\n",
              " 'Knipex, The think tank.',\n",
              " 'Travelers, Get Rewarded for Doing the right thing.',\n",
              " 'Loblaws, At Loblaws, more than the price is right.',\n",
              " 'Provogue, Passion is the genesis of genius',\n",
              " \"Harry Ramsden's, World famous fish & chips.\",\n",
              " 'H&M, Reality is better than fantasy',\n",
              " \"Chupa Chups, It's round and long-lasting. \\xa0\",\n",
              " \"Cravendale, It's not just any milk, it's filtered to make it purer.\",\n",
              " 'Cadbury Creme Egg, Goo Dares Wins',\n",
              " 'British Heart Foundation, Seven out of ten people over 45 have high cholesterol',\n",
              " 'Numerica Credit Union, We might just be what you need.',\n",
              " 'American Red Cross, Roll up your sleeves',\n",
              " \"iphone, There's an app for that. That's the iPhone. Solving life's dilemma one app at a time\",\n",
              " 'Industrial Credit Union, In Your Corner',\n",
              " 'Life, He likes it! Hey Mikey!',\n",
              " 'Saint-Gobain, From sand to screen',\n",
              " 'Finnair, Why fly any other way',\n",
              " 'The Comfy Cow, Super Premium Handcrafted Ice Cream and Desserts.',\n",
              " 'Kool, Kool. The House of Menthol.',\n",
              " 'Echo Falls, A wine to relax with.',\n",
              " 'Ohio, Don’t be jealous of our library system',\n",
              " 'Brittany Ferries, Take the easy way out.',\n",
              " 'Malibu, Get your island on Malibu',\n",
              " 'Mr. Clean, Mr. Clean gets rid of dirt and grime and grease in just a minute.',\n",
              " \"Young's Bitter, The perfect blend of hops, barley and cricket.\",\n",
              " 'SBS Radio, A World of Difference',\n",
              " 'Flex, Impossible is where breakthrough begins',\n",
              " 'CBC Radio One, Because sometimes a picture needs a thousand words',\n",
              " 'Danone, Bringing health through food to as many people as possible.\\xa0',\n",
              " \"Gordon's Gin, It's got to be Gordon's\",\n",
              " 'Legal & General, Every day matters',\n",
              " 'Wilko, Inspiring you to get the to dos done.',\n",
              " 'AT&T, The world’s networking company.',\n",
              " 'Blue Star, Add a dash of your mood to your home.',\n",
              " 'Aquafresh, Feel good protection.',\n",
              " 'Vlasic Pickles, Cravings satisfied here.',\n",
              " \"Meltin'Pot, Meltin'Pot. Get real.\",\n",
              " 'Dexia, When your money is safe everything is too.',\n",
              " \"P. F. Chang's, We are really glad you are here and we will do everything we can to make you come back.\",\n",
              " 'Café Coffee Day, Home-grown Coffee Meets Our Home-town Heroes, Brewing Happiness In Every Cup',\n",
              " '1st National Bank, Grow With Us',\n",
              " 'Scandinavian Airlines, Far East. Far West. Not so far by SAS',\n",
              " 'Actimel, The Actimel habit. Start today.',\n",
              " \"Haig, Don't be vague. It's always been Haig.\",\n",
              " 'Rhode Island, Big things come in small packages',\n",
              " \"Vivid Imaginations, It's beautiful\"]"
            ]
          },
          "execution_count": 26,
          "metadata": {},
          "output_type": "execute_result"
        }
      ],
      "source": [
        "test_class[(test_class['class']==1)&(test_class['generated']==0)].output.tolist()"
      ]
    },
    {
      "attachments": {},
      "cell_type": "markdown",
      "metadata": {
        "id": "oJYMvlRnsHf4"
      },
      "source": [
        "Let's look at some of the generated slogans"
      ]
    },
    {
      "cell_type": "code",
      "execution_count": 27,
      "metadata": {
        "colab": {
          "base_uri": "https://localhost:8080/"
        },
        "id": "7UHPopC3zv7_",
        "outputId": "23ae3388-88ad-4afc-b5e3-613d1ad67456"
      },
      "outputs": [
        {
          "data": {
            "text/plain": [
              "['Primula, Perfect with primer.',\n",
              " 'Progressive Broadcasting Corporation, Wasted, over 60 ads in an hour',\n",
              " 'Pinnacle Bank, Wherever you succeed,innacle Bank.',\n",
              " 'Finnair, More thinking of your business world',\n",
              " 'National Express, A Express for the card',\n",
              " 'Nescafe, 95% of all body and sugar drop from caffein.',\n",
              " \"The Macallan distillery, The only taste that's stood the test of time\",\n",
              " 'Wesfarmers, Definitely at the corner.',\n",
              " 'Benefit Cosmetics, TH LAST, TOUGH TOUGH TOUGH TOUGH TOUGH TOUGH',\n",
              " 'H&M, Be you this one',\n",
              " 'Dannon Yogurt, One Planet Needs One One Mother.',\n",
              " 'Ghirardelli Chocolate, Drink the social me away, Drink the Churn & Charge',\n",
              " 'BFGoodrich, BFGoodrich. Beyond BFGoodrich.',\n",
              " 'Labatt Brewing Company, Stop your mind before your taste.',\n",
              " 'Telecom Egypt, Digital World-Vision',\n",
              " \"Nebraska, It's in the Bos Know Right place!\",\n",
              " 'Nebraska, Myth Becomes Reality in Colorado',\n",
              " 'Hershey bar, Hello You. Hello You. Hello Your Beer. Hello Your Hooray',\n",
              " \"Crunchie, Get back to where it's hot.\",\n",
              " 'Jetstar Airways, Twoways to Low Fare Airline. Great airline! Your Future. \\xa0']"
            ]
          },
          "execution_count": 27,
          "metadata": {},
          "output_type": "execute_result"
        }
      ],
      "source": [
        "test_class[test_class['generated']==1].output.tolist()[:20]"
      ]
    },
    {
      "attachments": {},
      "cell_type": "markdown",
      "metadata": {
        "id": "76ykhCr2sHf4"
      },
      "source": [
        "Save the datasets"
      ]
    },
    {
      "cell_type": "code",
      "execution_count": 28,
      "metadata": {
        "id": "ang24qUO5kMb"
      },
      "outputs": [],
      "source": [
        "train_class.to_csv('train_class.csv', sep=\";\")\n",
        "dev_class.to_csv('dev_class.csv', sep=\";\")\n",
        "test_class.to_csv('test_class.csv', sep=\";\")"
      ]
    },
    {
      "cell_type": "code",
      "execution_count": 2,
      "metadata": {},
      "outputs": [],
      "source": [
        "train_class = pd.read_csv('train_class.csv', sep=\";\")\n",
        "dev_class = pd.read_csv('dev_class.csv', sep=\";\")\n",
        "test_class = pd.read_csv('test_class.csv', sep=\";\")"
      ]
    },
    {
      "attachments": {},
      "cell_type": "markdown",
      "metadata": {},
      "source": [
        "## XGBoost Classifier\n",
        "\n",
        "Repeat the classification process with a different model."
      ]
    },
    {
      "attachments": {},
      "cell_type": "markdown",
      "metadata": {},
      "source": [
        "At firts we create sentence embeddings for the slogans, using the `SentenceTransformer` class with a pretrained model, the `paraphrase-distilroberta-base-v1` model."
      ]
    },
    {
      "cell_type": "code",
      "execution_count": null,
      "metadata": {},
      "outputs": [],
      "source": [
        "# embeddings\n",
        "from sentence_transformers import SentenceTransformer\n",
        "\n",
        "model_embed = SentenceTransformer('paraphrase-distilroberta-base-v1')\n",
        "\n",
        "train_embeddings = model_embed.encode(train_class['output'].tolist())\n",
        "dev_embeddings = model_embed.encode(dev_class['output'].tolist())\n",
        "test_embeddings = model_embed.encode(test_class['output'].tolist())"
      ]
    },
    {
      "attachments": {},
      "cell_type": "markdown",
      "metadata": {},
      "source": [
        "Then we create a XGBClassifier model and we perform a random search to find the best hyperparameters."
      ]
    },
    {
      "cell_type": "code",
      "execution_count": null,
      "metadata": {},
      "outputs": [],
      "source": [
        "from xgboost import XGBClassifier\n",
        "\n",
        "xgb = XGBClassifier()\n",
        "\n",
        "from sklearn.model_selection import RandomizedSearchCV\n",
        "\n",
        "params = {\n",
        "    'n_estimators': [100, 200, 300, 400, 500],\n",
        "    'max_depth': [3, 4, 5, 6, 7, 8, 9, 10],\n",
        "    'learning_rate': [0.01, 0.05, 0.1, 0.15, 0.2],\n",
        "    'gamma': [0, 0.1, 0.2, 0.3, 0.4],\n",
        "    'min_child_weight': [0, 1, 2, 3, 4, 5],\n",
        "    'subsample': [0.5, 0.6, 0.7, 0.8, 0.9],\n",
        "    'colsample_bytree': [0.5, 0.6, 0.7, 0.8, 0.9]\n",
        "}\n",
        "\n",
        "random_search = RandomizedSearchCV(xgb, param_distributions=params, n_iter=5, scoring='accuracy', n_jobs=-1, cv=5, verbose=3)\n",
        "random_search.fit(train_embeddings, train_class['generated'])\n",
        "# random_search.best_estimator_"
      ]
    },
    {
      "attachments": {},
      "cell_type": "markdown",
      "metadata": {},
      "source": [
        "Best parameters below:"
      ]
    },
    {
      "cell_type": "code",
      "execution_count": 14,
      "metadata": {},
      "outputs": [
        {
          "data": {
            "text/plain": [
              "{'objective': 'binary:logistic',\n",
              " 'base_score': None,\n",
              " 'booster': None,\n",
              " 'colsample_bylevel': None,\n",
              " 'colsample_bynode': None,\n",
              " 'colsample_bytree': 0.9,\n",
              " 'eval_metric': None,\n",
              " 'gamma': 0.2,\n",
              " 'gpu_id': None,\n",
              " 'grow_policy': None,\n",
              " 'interaction_constraints': None,\n",
              " 'learning_rate': 0.01,\n",
              " 'max_bin': None,\n",
              " 'max_cat_threshold': None,\n",
              " 'max_cat_to_onehot': None,\n",
              " 'max_delta_step': None,\n",
              " 'max_depth': 5,\n",
              " 'max_leaves': None,\n",
              " 'min_child_weight': 0,\n",
              " 'monotone_constraints': None,\n",
              " 'n_jobs': None,\n",
              " 'num_parallel_tree': None,\n",
              " 'predictor': None,\n",
              " 'random_state': None,\n",
              " 'reg_alpha': None,\n",
              " 'reg_lambda': None,\n",
              " 'sampling_method': None,\n",
              " 'scale_pos_weight': None,\n",
              " 'subsample': 0.9,\n",
              " 'tree_method': None,\n",
              " 'validate_parameters': None,\n",
              " 'verbosity': None}"
            ]
          },
          "execution_count": 14,
          "metadata": {},
          "output_type": "execute_result"
        }
      ],
      "source": [
        "xgb.get_xgb_params()"
      ]
    },
    {
      "attachments": {},
      "cell_type": "markdown",
      "metadata": {},
      "source": [
        "Once we have the best parameters, we train the model on the train set and we make predictions on the test set."
      ]
    },
    {
      "cell_type": "code",
      "execution_count": 15,
      "metadata": {},
      "outputs": [],
      "source": [
        "xgb = XGBClassifier(**random_search.best_params_)\n",
        "xgb.fit(train_embeddings, train_class['generated'])\n",
        "preds_xgb = xgb.predict(test_embeddings)"
      ]
    },
    {
      "attachments": {},
      "cell_type": "markdown",
      "metadata": {},
      "source": [
        "Lastly, we evaluate the model on the test set, computing the accuracy, F1 score and the confusion matrix."
      ]
    },
    {
      "cell_type": "code",
      "execution_count": 16,
      "metadata": {},
      "outputs": [
        {
          "name": "stdout",
          "output_type": "stream",
          "text": [
            "Accuracy: 0.8881239242685026\n",
            "F1 Score: (0.7887641048580849, 0.8881239242685026, 0.8355003553738329, None)\n"
          ]
        },
        {
          "name": "stderr",
          "output_type": "stream",
          "text": [
            "c:\\Users\\morre\\AppData\\Local\\Programs\\Python\\Python311\\Lib\\site-packages\\sklearn\\metrics\\_classification.py:1344: UndefinedMetricWarning: Precision and F-score are ill-defined and being set to 0.0 in labels with no predicted samples. Use `zero_division` parameter to control this behavior.\n",
            "  _warn_prf(average, modifier, msg_start, len(result))\n"
          ]
        }
      ],
      "source": [
        "from sklearn.metrics import accuracy_score, precision_recall_fscore_support\n",
        "accuracy_xgb = accuracy_score(test_class['generated'], preds_xgb)\n",
        "f1_xgb = precision_recall_fscore_support(test_class['generated'], preds_xgb, average='weighted')\n",
        "\n",
        "print('Accuracy:', accuracy_xgb)\n",
        "print('F1 Score:', f1_xgb)"
      ]
    },
    {
      "cell_type": "code",
      "execution_count": 18,
      "metadata": {},
      "outputs": [
        {
          "data": {
            "image/png": "[encoded data removed]",
            "text/plain": [
              "<Figure size 1000x700 with 2 Axes>"
            ]
          },
          "metadata": {},
          "output_type": "display_data"
        }
      ],
      "source": [
        "# confusion matrix\n",
        "from sklearn.metrics import confusion_matrix\n",
        "import matplotlib.pyplot as plt\n",
        "import seaborn as sns\n",
        "\n",
        "cm = confusion_matrix(test_class['generated'], preds_xgb, labels=train_class['generated'].unique())\n",
        "\n",
        "cm_df = pd.DataFrame(cm, index = train_class['generated'].unique(),\n",
        "                        columns = train_class['generated'].unique())\n",
        "\n",
        "plt.figure(figsize=(10,7))\n",
        "sns.heatmap(cm_df, annot=True, fmt='g')\n",
        "plt.title('XGBoost classifier\\nAccuracy: {0:.3f}'.format(accuracy_xgb))\n",
        "plt.ylabel('True label')\n",
        "plt.xlabel('Predicted label')\n",
        "plt.show()"
      ]
    },
    {
      "attachments": {},
      "cell_type": "markdown",
      "metadata": {},
      "source": [
        "As we can see the model performs even worse than the BERT classifier model."
      ]
    }
  ],
  "metadata": {
    "accelerator": "GPU",
    "colab": {
      "gpuType": "T4",
      "provenance": []
    },
    "gpuClass": "standard",
    "kernelspec": {
      "display_name": "Python 3",
      "name": "python3"
    },
    "language_info": {
      "codemirror_mode": {
        "name": "ipython",
        "version": 3
      },
      "file_extension": ".py",
      "mimetype": "text/x-python",
      "name": "python",
      "nbconvert_exporter": "python",
      "pygments_lexer": "ipython3",
      "version": "3.11.0"
    },
    "widgets": {
      "application/vnd.jupyter.widget-state+json": {
        "00ad539fa4324c03a538629123ec38d3": {
          "model_module": "@jupyter-widgets/base",
          "model_module_version": "1.2.0",
          "model_name": "LayoutModel",
          "state": {
            "_model_module": "@jupyter-widgets/base",
            "_model_module_version": "1.2.0",
            "_model_name": "LayoutModel",
            "_view_count": null,
            "_view_module": "@jupyter-widgets/base",
            "_view_module_version": "1.2.0",
            "_view_name": "LayoutView",
            "align_content": null,
            "align_items": null,
            "align_self": null,
            "border": null,
            "bottom": null,
            "display": null,
            "flex": null,
            "flex_flow": null,
            "grid_area": null,
            "grid_auto_columns": null,
            "grid_auto_flow": null,
            "grid_auto_rows": null,
            "grid_column": null,
            "grid_gap": null,
            "grid_row": null,
            "grid_template_areas": null,
            "grid_template_columns": null,
            "grid_template_rows": null,
            "height": null,
            "justify_content": null,
            "justify_items": null,
            "left": null,
            "margin": null,
            "max_height": null,
            "max_width": null,
            "min_height": null,
            "min_width": null,
            "object_fit": null,
            "object_position": null,
            "order": null,
            "overflow": null,
            "overflow_x": null,
            "overflow_y": null,
            "padding": null,
            "right": null,
            "top": null,
            "visibility": null,
            "width": null
          }
        },
        "03a6e3e846f24ac8a2a6f81354866dfd": {
          "model_module": "@jupyter-widgets/controls",
          "model_module_version": "1.5.0",
          "model_name": "HTMLModel",
          "state": {
            "_dom_classes": [],
            "_model_module": "@jupyter-widgets/controls",
            "_model_module_version": "1.5.0",
            "_model_name": "HTMLModel",
            "_view_count": null,
            "_view_module": "@jupyter-widgets/controls",
            "_view_module_version": "1.5.0",
            "_view_name": "HTMLView",
            "description": "",
            "description_tooltip": null,
            "layout": "IPY_MODEL_00ad539fa4324c03a538629123ec38d3",
            "placeholder": "​",
            "style": "IPY_MODEL_fa00c0bc00d542c6a4e156faf0484f97",
            "value": "Downloading pytorch_model.bin: 100%"
          }
        },
        "05e91c8e4e9b489082da78ef0682fb77": {
          "model_module": "@jupyter-widgets/controls",
          "model_module_version": "1.5.0",
          "model_name": "DescriptionStyleModel",
          "state": {
            "_model_module": "@jupyter-widgets/controls",
            "_model_module_version": "1.5.0",
            "_model_name": "DescriptionStyleModel",
            "_view_count": null,
            "_view_module": "@jupyter-widgets/base",
            "_view_module_version": "1.2.0",
            "_view_name": "StyleView",
            "description_width": ""
          }
        },
        "072beabcb43b4d439841caa4727c3db2": {
          "model_module": "@jupyter-widgets/base",
          "model_module_version": "1.2.0",
          "model_name": "LayoutModel",
          "state": {
            "_model_module": "@jupyter-widgets/base",
            "_model_module_version": "1.2.0",
            "_model_name": "LayoutModel",
            "_view_count": null,
            "_view_module": "@jupyter-widgets/base",
            "_view_module_version": "1.2.0",
            "_view_name": "LayoutView",
            "align_content": null,
            "align_items": null,
            "align_self": null,
            "border": null,
            "bottom": null,
            "display": null,
            "flex": null,
            "flex_flow": null,
            "grid_area": null,
            "grid_auto_columns": null,
            "grid_auto_flow": null,
            "grid_auto_rows": null,
            "grid_column": null,
            "grid_gap": null,
            "grid_row": null,
            "grid_template_areas": null,
            "grid_template_columns": null,
            "grid_template_rows": null,
            "height": null,
            "justify_content": null,
            "justify_items": null,
            "left": null,
            "margin": null,
            "max_height": null,
            "max_width": null,
            "min_height": null,
            "min_width": null,
            "object_fit": null,
            "object_position": null,
            "order": null,
            "overflow": null,
            "overflow_x": null,
            "overflow_y": null,
            "padding": null,
            "right": null,
            "top": null,
            "visibility": null,
            "width": null
          }
        },
        "0ccc39c8fcce45388fe50ea3acc2dbda": {
          "model_module": "@jupyter-widgets/controls",
          "model_module_version": "1.5.0",
          "model_name": "HTMLModel",
          "state": {
            "_dom_classes": [],
            "_model_module": "@jupyter-widgets/controls",
            "_model_module_version": "1.5.0",
            "_model_name": "HTMLModel",
            "_view_count": null,
            "_view_module": "@jupyter-widgets/controls",
            "_view_module_version": "1.5.0",
            "_view_name": "HTMLView",
            "description": "",
            "description_tooltip": null,
            "layout": "IPY_MODEL_ec34923d7afa4e19b881d7fa83d6f6a6",
            "placeholder": "​",
            "style": "IPY_MODEL_e92b71b1fdbc437cb8f42be53efad51a",
            "value": "Downloading (…)olve/main/vocab.json: 100%"
          }
        },
        "0fc21fb751014b8aa44285faa55d6519": {
          "model_module": "@jupyter-widgets/controls",
          "model_module_version": "1.5.0",
          "model_name": "FloatProgressModel",
          "state": {
            "_dom_classes": [],
            "_model_module": "@jupyter-widgets/controls",
            "_model_module_version": "1.5.0",
            "_model_name": "FloatProgressModel",
            "_view_count": null,
            "_view_module": "@jupyter-widgets/controls",
            "_view_module_version": "1.5.0",
            "_view_name": "ProgressView",
            "bar_style": "success",
            "description": "",
            "description_tooltip": null,
            "layout": "IPY_MODEL_4f4100f7df3e4877871f0855609ebddc",
            "max": 124,
            "min": 0,
            "orientation": "horizontal",
            "style": "IPY_MODEL_987f2ea2a47748fa921783b9c8897d69",
            "value": 124
          }
        },
        "1229df6021a143a19292ef9f04f9ce96": {
          "model_module": "@jupyter-widgets/base",
          "model_module_version": "1.2.0",
          "model_name": "LayoutModel",
          "state": {
            "_model_module": "@jupyter-widgets/base",
            "_model_module_version": "1.2.0",
            "_model_name": "LayoutModel",
            "_view_count": null,
            "_view_module": "@jupyter-widgets/base",
            "_view_module_version": "1.2.0",
            "_view_name": "LayoutView",
            "align_content": null,
            "align_items": null,
            "align_self": null,
            "border": null,
            "bottom": null,
            "display": null,
            "flex": null,
            "flex_flow": null,
            "grid_area": null,
            "grid_auto_columns": null,
            "grid_auto_flow": null,
            "grid_auto_rows": null,
            "grid_column": null,
            "grid_gap": null,
            "grid_row": null,
            "grid_template_areas": null,
            "grid_template_columns": null,
            "grid_template_rows": null,
            "height": null,
            "justify_content": null,
            "justify_items": null,
            "left": null,
            "margin": null,
            "max_height": null,
            "max_width": null,
            "min_height": null,
            "min_width": null,
            "object_fit": null,
            "object_position": null,
            "order": null,
            "overflow": null,
            "overflow_x": null,
            "overflow_y": null,
            "padding": null,
            "right": null,
            "top": null,
            "visibility": null,
            "width": null
          }
        },
        "145a924718f1450482a80941c461d549": {
          "model_module": "@jupyter-widgets/controls",
          "model_module_version": "1.5.0",
          "model_name": "HTMLModel",
          "state": {
            "_dom_classes": [],
            "_model_module": "@jupyter-widgets/controls",
            "_model_module_version": "1.5.0",
            "_model_name": "HTMLModel",
            "_view_count": null,
            "_view_module": "@jupyter-widgets/controls",
            "_view_module_version": "1.5.0",
            "_view_name": "HTMLView",
            "description": "",
            "description_tooltip": null,
            "layout": "IPY_MODEL_5591c7bcf2e849ada25bbb3c0fd7d74e",
            "placeholder": "​",
            "style": "IPY_MODEL_5c7a1b2be56f4dc19cb00d41a197ddb1",
            "value": " 440M/440M [00:02&lt;00:00, 203MB/s]"
          }
        },
        "15521431126d4cfd848582ca9cdf7338": {
          "model_module": "@jupyter-widgets/controls",
          "model_module_version": "1.5.0",
          "model_name": "HTMLModel",
          "state": {
            "_dom_classes": [],
            "_model_module": "@jupyter-widgets/controls",
            "_model_module_version": "1.5.0",
            "_model_name": "HTMLModel",
            "_view_count": null,
            "_view_module": "@jupyter-widgets/controls",
            "_view_module_version": "1.5.0",
            "_view_name": "HTMLView",
            "description": "",
            "description_tooltip": null,
            "layout": "IPY_MODEL_1f7bc642669a4fa6a7c09d58024883a1",
            "placeholder": "​",
            "style": "IPY_MODEL_46989533500b4bb4933f26274430cb4e",
            "value": "Downloading (…)okenizer_config.json: 100%"
          }
        },
        "1a7127de174646519932066b12cf0f16": {
          "model_module": "@jupyter-widgets/controls",
          "model_module_version": "1.5.0",
          "model_name": "DescriptionStyleModel",
          "state": {
            "_model_module": "@jupyter-widgets/controls",
            "_model_module_version": "1.5.0",
            "_model_name": "DescriptionStyleModel",
            "_view_count": null,
            "_view_module": "@jupyter-widgets/base",
            "_view_module_version": "1.2.0",
            "_view_name": "StyleView",
            "description_width": ""
          }
        },
        "1befafd7b22a4c02a821080818c2c76c": {
          "model_module": "@jupyter-widgets/controls",
          "model_module_version": "1.5.0",
          "model_name": "DescriptionStyleModel",
          "state": {
            "_model_module": "@jupyter-widgets/controls",
            "_model_module_version": "1.5.0",
            "_model_name": "DescriptionStyleModel",
            "_view_count": null,
            "_view_module": "@jupyter-widgets/base",
            "_view_module_version": "1.2.0",
            "_view_name": "StyleView",
            "description_width": ""
          }
        },
        "1e187a69bd074276847955a187f23ecd": {
          "model_module": "@jupyter-widgets/controls",
          "model_module_version": "1.5.0",
          "model_name": "FloatProgressModel",
          "state": {
            "_dom_classes": [],
            "_model_module": "@jupyter-widgets/controls",
            "_model_module_version": "1.5.0",
            "_model_name": "FloatProgressModel",
            "_view_count": null,
            "_view_module": "@jupyter-widgets/controls",
            "_view_module_version": "1.5.0",
            "_view_name": "ProgressView",
            "bar_style": "success",
            "description": "",
            "description_tooltip": null,
            "layout": "IPY_MODEL_a8b49df6e9f1456c854b5080d389d8c9",
            "max": 440473133,
            "min": 0,
            "orientation": "horizontal",
            "style": "IPY_MODEL_8321a04748474e259903a7759daa2af3",
            "value": 440473133
          }
        },
        "1f2e57caaa7d410c830ebd84a74a44de": {
          "model_module": "@jupyter-widgets/controls",
          "model_module_version": "1.5.0",
          "model_name": "ProgressStyleModel",
          "state": {
            "_model_module": "@jupyter-widgets/controls",
            "_model_module_version": "1.5.0",
            "_model_name": "ProgressStyleModel",
            "_view_count": null,
            "_view_module": "@jupyter-widgets/base",
            "_view_module_version": "1.2.0",
            "_view_name": "StyleView",
            "bar_color": null,
            "description_width": ""
          }
        },
        "1f7bc642669a4fa6a7c09d58024883a1": {
          "model_module": "@jupyter-widgets/base",
          "model_module_version": "1.2.0",
          "model_name": "LayoutModel",
          "state": {
            "_model_module": "@jupyter-widgets/base",
            "_model_module_version": "1.2.0",
            "_model_name": "LayoutModel",
            "_view_count": null,
            "_view_module": "@jupyter-widgets/base",
            "_view_module_version": "1.2.0",
            "_view_name": "LayoutView",
            "align_content": null,
            "align_items": null,
            "align_self": null,
            "border": null,
            "bottom": null,
            "display": null,
            "flex": null,
            "flex_flow": null,
            "grid_area": null,
            "grid_auto_columns": null,
            "grid_auto_flow": null,
            "grid_auto_rows": null,
            "grid_column": null,
            "grid_gap": null,
            "grid_row": null,
            "grid_template_areas": null,
            "grid_template_columns": null,
            "grid_template_rows": null,
            "height": null,
            "justify_content": null,
            "justify_items": null,
            "left": null,
            "margin": null,
            "max_height": null,
            "max_width": null,
            "min_height": null,
            "min_width": null,
            "object_fit": null,
            "object_position": null,
            "order": null,
            "overflow": null,
            "overflow_x": null,
            "overflow_y": null,
            "padding": null,
            "right": null,
            "top": null,
            "visibility": null,
            "width": null
          }
        },
        "2161a21646074349b8a5b0d95dff0443": {
          "model_module": "@jupyter-widgets/controls",
          "model_module_version": "1.5.0",
          "model_name": "HBoxModel",
          "state": {
            "_dom_classes": [],
            "_model_module": "@jupyter-widgets/controls",
            "_model_module_version": "1.5.0",
            "_model_name": "HBoxModel",
            "_view_count": null,
            "_view_module": "@jupyter-widgets/controls",
            "_view_module_version": "1.5.0",
            "_view_name": "HBoxView",
            "box_style": "",
            "children": [
              "IPY_MODEL_03a6e3e846f24ac8a2a6f81354866dfd",
              "IPY_MODEL_920bd4b035054709bc052265640304b9",
              "IPY_MODEL_565ab97bc8b048d7824d5be3d0f87f18"
            ],
            "layout": "IPY_MODEL_dcbcceb77e9e4ce49fe11d7d0dcdc23f"
          }
        },
        "22aa94dfb7a0449f83c35b3ba670548d": {
          "model_module": "@jupyter-widgets/base",
          "model_module_version": "1.2.0",
          "model_name": "LayoutModel",
          "state": {
            "_model_module": "@jupyter-widgets/base",
            "_model_module_version": "1.2.0",
            "_model_name": "LayoutModel",
            "_view_count": null,
            "_view_module": "@jupyter-widgets/base",
            "_view_module_version": "1.2.0",
            "_view_name": "LayoutView",
            "align_content": null,
            "align_items": null,
            "align_self": null,
            "border": null,
            "bottom": null,
            "display": null,
            "flex": null,
            "flex_flow": null,
            "grid_area": null,
            "grid_auto_columns": null,
            "grid_auto_flow": null,
            "grid_auto_rows": null,
            "grid_column": null,
            "grid_gap": null,
            "grid_row": null,
            "grid_template_areas": null,
            "grid_template_columns": null,
            "grid_template_rows": null,
            "height": null,
            "justify_content": null,
            "justify_items": null,
            "left": null,
            "margin": null,
            "max_height": null,
            "max_width": null,
            "min_height": null,
            "min_width": null,
            "object_fit": null,
            "object_position": null,
            "order": null,
            "overflow": null,
            "overflow_x": null,
            "overflow_y": null,
            "padding": null,
            "right": null,
            "top": null,
            "visibility": null,
            "width": null
          }
        },
        "23a1cd0cf351483f9adc9e313d749be8": {
          "model_module": "@jupyter-widgets/controls",
          "model_module_version": "1.5.0",
          "model_name": "HTMLModel",
          "state": {
            "_dom_classes": [],
            "_model_module": "@jupyter-widgets/controls",
            "_model_module_version": "1.5.0",
            "_model_name": "HTMLModel",
            "_view_count": null,
            "_view_module": "@jupyter-widgets/controls",
            "_view_module_version": "1.5.0",
            "_view_name": "HTMLView",
            "description": "",
            "description_tooltip": null,
            "layout": "IPY_MODEL_95cf732d22da44b6a3f49d896b721f6e",
            "placeholder": "​",
            "style": "IPY_MODEL_50a75b16b526430f9f3bbc55d02d7fc9",
            "value": " 570/570 [00:00&lt;00:00, 27.9kB/s]"
          }
        },
        "240403c4c91f4f588442adcaab6f4c52": {
          "model_module": "@jupyter-widgets/controls",
          "model_module_version": "1.5.0",
          "model_name": "ProgressStyleModel",
          "state": {
            "_model_module": "@jupyter-widgets/controls",
            "_model_module_version": "1.5.0",
            "_model_name": "ProgressStyleModel",
            "_view_count": null,
            "_view_module": "@jupyter-widgets/base",
            "_view_module_version": "1.2.0",
            "_view_name": "StyleView",
            "bar_color": null,
            "description_width": ""
          }
        },
        "258edbba693c4a7fb205b2368444eee7": {
          "model_module": "@jupyter-widgets/controls",
          "model_module_version": "1.5.0",
          "model_name": "FloatProgressModel",
          "state": {
            "_dom_classes": [],
            "_model_module": "@jupyter-widgets/controls",
            "_model_module_version": "1.5.0",
            "_model_name": "FloatProgressModel",
            "_view_count": null,
            "_view_module": "@jupyter-widgets/controls",
            "_view_module_version": "1.5.0",
            "_view_name": "ProgressView",
            "bar_style": "success",
            "description": "",
            "description_tooltip": null,
            "layout": "IPY_MODEL_dbdeb8ecd37d47fe8c765f8efc9e1412",
            "max": 762,
            "min": 0,
            "orientation": "horizontal",
            "style": "IPY_MODEL_327d18c106ff42c8b42a9c910bad7f54",
            "value": 762
          }
        },
        "291510ca15f34a6098975d817ce6e0a4": {
          "model_module": "@jupyter-widgets/base",
          "model_module_version": "1.2.0",
          "model_name": "LayoutModel",
          "state": {
            "_model_module": "@jupyter-widgets/base",
            "_model_module_version": "1.2.0",
            "_model_name": "LayoutModel",
            "_view_count": null,
            "_view_module": "@jupyter-widgets/base",
            "_view_module_version": "1.2.0",
            "_view_name": "LayoutView",
            "align_content": null,
            "align_items": null,
            "align_self": null,
            "border": null,
            "bottom": null,
            "display": null,
            "flex": null,
            "flex_flow": null,
            "grid_area": null,
            "grid_auto_columns": null,
            "grid_auto_flow": null,
            "grid_auto_rows": null,
            "grid_column": null,
            "grid_gap": null,
            "grid_row": null,
            "grid_template_areas": null,
            "grid_template_columns": null,
            "grid_template_rows": null,
            "height": null,
            "justify_content": null,
            "justify_items": null,
            "left": null,
            "margin": null,
            "max_height": null,
            "max_width": null,
            "min_height": null,
            "min_width": null,
            "object_fit": null,
            "object_position": null,
            "order": null,
            "overflow": null,
            "overflow_x": null,
            "overflow_y": null,
            "padding": null,
            "right": null,
            "top": null,
            "visibility": null,
            "width": null
          }
        },
        "30491f5dd67a40a187cb3ccf436fd98d": {
          "model_module": "@jupyter-widgets/controls",
          "model_module_version": "1.5.0",
          "model_name": "HTMLModel",
          "state": {
            "_dom_classes": [],
            "_model_module": "@jupyter-widgets/controls",
            "_model_module_version": "1.5.0",
            "_model_name": "HTMLModel",
            "_view_count": null,
            "_view_module": "@jupyter-widgets/controls",
            "_view_module_version": "1.5.0",
            "_view_name": "HTMLView",
            "description": "",
            "description_tooltip": null,
            "layout": "IPY_MODEL_989f6b61249248b488d6268ad2db2245",
            "placeholder": "​",
            "style": "IPY_MODEL_f01443ae4db4412ba12eeac9d1b66606",
            "value": "Downloading (…)neration_config.json: 100%"
          }
        },
        "30cc0f2b8fc44368b2071ac25e09df93": {
          "model_module": "@jupyter-widgets/base",
          "model_module_version": "1.2.0",
          "model_name": "LayoutModel",
          "state": {
            "_model_module": "@jupyter-widgets/base",
            "_model_module_version": "1.2.0",
            "_model_name": "LayoutModel",
            "_view_count": null,
            "_view_module": "@jupyter-widgets/base",
            "_view_module_version": "1.2.0",
            "_view_name": "LayoutView",
            "align_content": null,
            "align_items": null,
            "align_self": null,
            "border": null,
            "bottom": null,
            "display": null,
            "flex": null,
            "flex_flow": null,
            "grid_area": null,
            "grid_auto_columns": null,
            "grid_auto_flow": null,
            "grid_auto_rows": null,
            "grid_column": null,
            "grid_gap": null,
            "grid_row": null,
            "grid_template_areas": null,
            "grid_template_columns": null,
            "grid_template_rows": null,
            "height": null,
            "justify_content": null,
            "justify_items": null,
            "left": null,
            "margin": null,
            "max_height": null,
            "max_width": null,
            "min_height": null,
            "min_width": null,
            "object_fit": null,
            "object_position": null,
            "order": null,
            "overflow": null,
            "overflow_x": null,
            "overflow_y": null,
            "padding": null,
            "right": null,
            "top": null,
            "visibility": null,
            "width": null
          }
        },
        "31e1949738ca40329f9331eb668d0800": {
          "model_module": "@jupyter-widgets/controls",
          "model_module_version": "1.5.0",
          "model_name": "DescriptionStyleModel",
          "state": {
            "_model_module": "@jupyter-widgets/controls",
            "_model_module_version": "1.5.0",
            "_model_name": "DescriptionStyleModel",
            "_view_count": null,
            "_view_module": "@jupyter-widgets/base",
            "_view_module_version": "1.2.0",
            "_view_name": "StyleView",
            "description_width": ""
          }
        },
        "327914e5d74d4ded90473aa45603936c": {
          "model_module": "@jupyter-widgets/controls",
          "model_module_version": "1.5.0",
          "model_name": "FloatProgressModel",
          "state": {
            "_dom_classes": [],
            "_model_module": "@jupyter-widgets/controls",
            "_model_module_version": "1.5.0",
            "_model_name": "FloatProgressModel",
            "_view_count": null,
            "_view_module": "@jupyter-widgets/controls",
            "_view_module_version": "1.5.0",
            "_view_name": "ProgressView",
            "bar_style": "success",
            "description": "",
            "description_tooltip": null,
            "layout": "IPY_MODEL_662bfceea14b424bad01913aa4ac376d",
            "max": 456318,
            "min": 0,
            "orientation": "horizontal",
            "style": "IPY_MODEL_5baf881e425a45018d0775e4415e5006",
            "value": 456318
          }
        },
        "327d18c106ff42c8b42a9c910bad7f54": {
          "model_module": "@jupyter-widgets/controls",
          "model_module_version": "1.5.0",
          "model_name": "ProgressStyleModel",
          "state": {
            "_model_module": "@jupyter-widgets/controls",
            "_model_module_version": "1.5.0",
            "_model_name": "ProgressStyleModel",
            "_view_count": null,
            "_view_module": "@jupyter-widgets/base",
            "_view_module_version": "1.2.0",
            "_view_name": "StyleView",
            "bar_color": null,
            "description_width": ""
          }
        },
        "35ebd9b140304a598efb2030adf18596": {
          "model_module": "@jupyter-widgets/controls",
          "model_module_version": "1.5.0",
          "model_name": "HTMLModel",
          "state": {
            "_dom_classes": [],
            "_model_module": "@jupyter-widgets/controls",
            "_model_module_version": "1.5.0",
            "_model_name": "HTMLModel",
            "_view_count": null,
            "_view_module": "@jupyter-widgets/controls",
            "_view_module_version": "1.5.0",
            "_view_name": "HTMLView",
            "description": "",
            "description_tooltip": null,
            "layout": "IPY_MODEL_863dfa95dd154ed7a0df1b9a46347700",
            "placeholder": "​",
            "style": "IPY_MODEL_05e91c8e4e9b489082da78ef0682fb77",
            "value": "Downloading (…)solve/main/vocab.txt: 100%"
          }
        },
        "3664fe53f9784b1e9487917b524d1940": {
          "model_module": "@jupyter-widgets/controls",
          "model_module_version": "1.5.0",
          "model_name": "HBoxModel",
          "state": {
            "_dom_classes": [],
            "_model_module": "@jupyter-widgets/controls",
            "_model_module_version": "1.5.0",
            "_model_name": "HBoxModel",
            "_view_count": null,
            "_view_module": "@jupyter-widgets/controls",
            "_view_module_version": "1.5.0",
            "_view_name": "HBoxView",
            "box_style": "",
            "children": [
              "IPY_MODEL_0ccc39c8fcce45388fe50ea3acc2dbda",
              "IPY_MODEL_86f0a6b655aa4f42bc9fb115951cd978",
              "IPY_MODEL_92c28cd477bc462292829f18a460062e"
            ],
            "layout": "IPY_MODEL_4755cfa5fea04d169d67be67f33c3e0e"
          }
        },
        "380f2383f44542ba89172e2e99bf317e": {
          "model_module": "@jupyter-widgets/controls",
          "model_module_version": "1.5.0",
          "model_name": "HBoxModel",
          "state": {
            "_dom_classes": [],
            "_model_module": "@jupyter-widgets/controls",
            "_model_module_version": "1.5.0",
            "_model_name": "HBoxModel",
            "_view_count": null,
            "_view_module": "@jupyter-widgets/controls",
            "_view_module_version": "1.5.0",
            "_view_name": "HBoxView",
            "box_style": "",
            "children": [
              "IPY_MODEL_35ebd9b140304a598efb2030adf18596",
              "IPY_MODEL_815ab27b91134c9ebc81ff99a9ea25f3",
              "IPY_MODEL_d0cfd967350744e48c3630a97fd0010d"
            ],
            "layout": "IPY_MODEL_7b35ad6863bf48fb95c189154569f1bc"
          }
        },
        "38b37d4847004ab69e405752fc5bdee6": {
          "model_module": "@jupyter-widgets/base",
          "model_module_version": "1.2.0",
          "model_name": "LayoutModel",
          "state": {
            "_model_module": "@jupyter-widgets/base",
            "_model_module_version": "1.2.0",
            "_model_name": "LayoutModel",
            "_view_count": null,
            "_view_module": "@jupyter-widgets/base",
            "_view_module_version": "1.2.0",
            "_view_name": "LayoutView",
            "align_content": null,
            "align_items": null,
            "align_self": null,
            "border": null,
            "bottom": null,
            "display": null,
            "flex": null,
            "flex_flow": null,
            "grid_area": null,
            "grid_auto_columns": null,
            "grid_auto_flow": null,
            "grid_auto_rows": null,
            "grid_column": null,
            "grid_gap": null,
            "grid_row": null,
            "grid_template_areas": null,
            "grid_template_columns": null,
            "grid_template_rows": null,
            "height": null,
            "justify_content": null,
            "justify_items": null,
            "left": null,
            "margin": null,
            "max_height": null,
            "max_width": null,
            "min_height": null,
            "min_width": null,
            "object_fit": null,
            "object_position": null,
            "order": null,
            "overflow": null,
            "overflow_x": null,
            "overflow_y": null,
            "padding": null,
            "right": null,
            "top": null,
            "visibility": null,
            "width": null
          }
        },
        "3fc5fe42a25047bf84fd3e03b3c83f0c": {
          "model_module": "@jupyter-widgets/controls",
          "model_module_version": "1.5.0",
          "model_name": "HTMLModel",
          "state": {
            "_dom_classes": [],
            "_model_module": "@jupyter-widgets/controls",
            "_model_module_version": "1.5.0",
            "_model_name": "HTMLModel",
            "_view_count": null,
            "_view_module": "@jupyter-widgets/controls",
            "_view_module_version": "1.5.0",
            "_view_name": "HTMLView",
            "description": "",
            "description_tooltip": null,
            "layout": "IPY_MODEL_488159b627bc4188a5756542dce046f3",
            "placeholder": "​",
            "style": "IPY_MODEL_81218987c6924eb59e9fcde7df1b67b8",
            "value": " 762/762 [00:00&lt;00:00, 11.8kB/s]"
          }
        },
        "3ffe99b83cec4692a4a2ccf7abb61635": {
          "model_module": "@jupyter-widgets/base",
          "model_module_version": "1.2.0",
          "model_name": "LayoutModel",
          "state": {
            "_model_module": "@jupyter-widgets/base",
            "_model_module_version": "1.2.0",
            "_model_name": "LayoutModel",
            "_view_count": null,
            "_view_module": "@jupyter-widgets/base",
            "_view_module_version": "1.2.0",
            "_view_name": "LayoutView",
            "align_content": null,
            "align_items": null,
            "align_self": null,
            "border": null,
            "bottom": null,
            "display": null,
            "flex": null,
            "flex_flow": null,
            "grid_area": null,
            "grid_auto_columns": null,
            "grid_auto_flow": null,
            "grid_auto_rows": null,
            "grid_column": null,
            "grid_gap": null,
            "grid_row": null,
            "grid_template_areas": null,
            "grid_template_columns": null,
            "grid_template_rows": null,
            "height": null,
            "justify_content": null,
            "justify_items": null,
            "left": null,
            "margin": null,
            "max_height": null,
            "max_width": null,
            "min_height": null,
            "min_width": null,
            "object_fit": null,
            "object_position": null,
            "order": null,
            "overflow": null,
            "overflow_x": null,
            "overflow_y": null,
            "padding": null,
            "right": null,
            "top": null,
            "visibility": null,
            "width": null
          }
        },
        "46989533500b4bb4933f26274430cb4e": {
          "model_module": "@jupyter-widgets/controls",
          "model_module_version": "1.5.0",
          "model_name": "DescriptionStyleModel",
          "state": {
            "_model_module": "@jupyter-widgets/controls",
            "_model_module_version": "1.5.0",
            "_model_name": "DescriptionStyleModel",
            "_view_count": null,
            "_view_module": "@jupyter-widgets/base",
            "_view_module_version": "1.2.0",
            "_view_name": "StyleView",
            "description_width": ""
          }
        },
        "4755cfa5fea04d169d67be67f33c3e0e": {
          "model_module": "@jupyter-widgets/base",
          "model_module_version": "1.2.0",
          "model_name": "LayoutModel",
          "state": {
            "_model_module": "@jupyter-widgets/base",
            "_model_module_version": "1.2.0",
            "_model_name": "LayoutModel",
            "_view_count": null,
            "_view_module": "@jupyter-widgets/base",
            "_view_module_version": "1.2.0",
            "_view_name": "LayoutView",
            "align_content": null,
            "align_items": null,
            "align_self": null,
            "border": null,
            "bottom": null,
            "display": null,
            "flex": null,
            "flex_flow": null,
            "grid_area": null,
            "grid_auto_columns": null,
            "grid_auto_flow": null,
            "grid_auto_rows": null,
            "grid_column": null,
            "grid_gap": null,
            "grid_row": null,
            "grid_template_areas": null,
            "grid_template_columns": null,
            "grid_template_rows": null,
            "height": null,
            "justify_content": null,
            "justify_items": null,
            "left": null,
            "margin": null,
            "max_height": null,
            "max_width": null,
            "min_height": null,
            "min_width": null,
            "object_fit": null,
            "object_position": null,
            "order": null,
            "overflow": null,
            "overflow_x": null,
            "overflow_y": null,
            "padding": null,
            "right": null,
            "top": null,
            "visibility": null,
            "width": null
          }
        },
        "47b2fd014b2c4f2e86d1af475cfa8ef7": {
          "model_module": "@jupyter-widgets/controls",
          "model_module_version": "1.5.0",
          "model_name": "DescriptionStyleModel",
          "state": {
            "_model_module": "@jupyter-widgets/controls",
            "_model_module_version": "1.5.0",
            "_model_name": "DescriptionStyleModel",
            "_view_count": null,
            "_view_module": "@jupyter-widgets/base",
            "_view_module_version": "1.2.0",
            "_view_name": "StyleView",
            "description_width": ""
          }
        },
        "488159b627bc4188a5756542dce046f3": {
          "model_module": "@jupyter-widgets/base",
          "model_module_version": "1.2.0",
          "model_name": "LayoutModel",
          "state": {
            "_model_module": "@jupyter-widgets/base",
            "_model_module_version": "1.2.0",
            "_model_name": "LayoutModel",
            "_view_count": null,
            "_view_module": "@jupyter-widgets/base",
            "_view_module_version": "1.2.0",
            "_view_name": "LayoutView",
            "align_content": null,
            "align_items": null,
            "align_self": null,
            "border": null,
            "bottom": null,
            "display": null,
            "flex": null,
            "flex_flow": null,
            "grid_area": null,
            "grid_auto_columns": null,
            "grid_auto_flow": null,
            "grid_auto_rows": null,
            "grid_column": null,
            "grid_gap": null,
            "grid_row": null,
            "grid_template_areas": null,
            "grid_template_columns": null,
            "grid_template_rows": null,
            "height": null,
            "justify_content": null,
            "justify_items": null,
            "left": null,
            "margin": null,
            "max_height": null,
            "max_width": null,
            "min_height": null,
            "min_width": null,
            "object_fit": null,
            "object_position": null,
            "order": null,
            "overflow": null,
            "overflow_x": null,
            "overflow_y": null,
            "padding": null,
            "right": null,
            "top": null,
            "visibility": null,
            "width": null
          }
        },
        "4c5417d9f5f14d7681e4113c054e25c4": {
          "model_module": "@jupyter-widgets/controls",
          "model_module_version": "1.5.0",
          "model_name": "HTMLModel",
          "state": {
            "_dom_classes": [],
            "_model_module": "@jupyter-widgets/controls",
            "_model_module_version": "1.5.0",
            "_model_name": "HTMLModel",
            "_view_count": null,
            "_view_module": "@jupyter-widgets/controls",
            "_view_module_version": "1.5.0",
            "_view_name": "HTMLView",
            "description": "",
            "description_tooltip": null,
            "layout": "IPY_MODEL_3ffe99b83cec4692a4a2ccf7abb61635",
            "placeholder": "​",
            "style": "IPY_MODEL_b1d5f89d3d7240b29da7279224c5a454",
            "value": "Downloading (…)olve/main/merges.txt: 100%"
          }
        },
        "4f346272fd7d48339f6919dd7db75cf9": {
          "model_module": "@jupyter-widgets/controls",
          "model_module_version": "1.5.0",
          "model_name": "DescriptionStyleModel",
          "state": {
            "_model_module": "@jupyter-widgets/controls",
            "_model_module_version": "1.5.0",
            "_model_name": "DescriptionStyleModel",
            "_view_count": null,
            "_view_module": "@jupyter-widgets/base",
            "_view_module_version": "1.2.0",
            "_view_name": "StyleView",
            "description_width": ""
          }
        },
        "4f4100f7df3e4877871f0855609ebddc": {
          "model_module": "@jupyter-widgets/base",
          "model_module_version": "1.2.0",
          "model_name": "LayoutModel",
          "state": {
            "_model_module": "@jupyter-widgets/base",
            "_model_module_version": "1.2.0",
            "_model_name": "LayoutModel",
            "_view_count": null,
            "_view_module": "@jupyter-widgets/base",
            "_view_module_version": "1.2.0",
            "_view_name": "LayoutView",
            "align_content": null,
            "align_items": null,
            "align_self": null,
            "border": null,
            "bottom": null,
            "display": null,
            "flex": null,
            "flex_flow": null,
            "grid_area": null,
            "grid_auto_columns": null,
            "grid_auto_flow": null,
            "grid_auto_rows": null,
            "grid_column": null,
            "grid_gap": null,
            "grid_row": null,
            "grid_template_areas": null,
            "grid_template_columns": null,
            "grid_template_rows": null,
            "height": null,
            "justify_content": null,
            "justify_items": null,
            "left": null,
            "margin": null,
            "max_height": null,
            "max_width": null,
            "min_height": null,
            "min_width": null,
            "object_fit": null,
            "object_position": null,
            "order": null,
            "overflow": null,
            "overflow_x": null,
            "overflow_y": null,
            "padding": null,
            "right": null,
            "top": null,
            "visibility": null,
            "width": null
          }
        },
        "50a75b16b526430f9f3bbc55d02d7fc9": {
          "model_module": "@jupyter-widgets/controls",
          "model_module_version": "1.5.0",
          "model_name": "DescriptionStyleModel",
          "state": {
            "_model_module": "@jupyter-widgets/controls",
            "_model_module_version": "1.5.0",
            "_model_name": "DescriptionStyleModel",
            "_view_count": null,
            "_view_module": "@jupyter-widgets/base",
            "_view_module_version": "1.2.0",
            "_view_name": "StyleView",
            "description_width": ""
          }
        },
        "54ea7dd69ef148fd8749255fc450d469": {
          "model_module": "@jupyter-widgets/controls",
          "model_module_version": "1.5.0",
          "model_name": "HTMLModel",
          "state": {
            "_dom_classes": [],
            "_model_module": "@jupyter-widgets/controls",
            "_model_module_version": "1.5.0",
            "_model_name": "HTMLModel",
            "_view_count": null,
            "_view_module": "@jupyter-widgets/controls",
            "_view_module_version": "1.5.0",
            "_view_name": "HTMLView",
            "description": "",
            "description_tooltip": null,
            "layout": "IPY_MODEL_ca4ec528130c4281b35c83064f62d67f",
            "placeholder": "​",
            "style": "IPY_MODEL_8f883d67f58f4ca299606697c5766ddb",
            "value": "Downloading (…)lve/main/config.json: 100%"
          }
        },
        "5591c7bcf2e849ada25bbb3c0fd7d74e": {
          "model_module": "@jupyter-widgets/base",
          "model_module_version": "1.2.0",
          "model_name": "LayoutModel",
          "state": {
            "_model_module": "@jupyter-widgets/base",
            "_model_module_version": "1.2.0",
            "_model_name": "LayoutModel",
            "_view_count": null,
            "_view_module": "@jupyter-widgets/base",
            "_view_module_version": "1.2.0",
            "_view_name": "LayoutView",
            "align_content": null,
            "align_items": null,
            "align_self": null,
            "border": null,
            "bottom": null,
            "display": null,
            "flex": null,
            "flex_flow": null,
            "grid_area": null,
            "grid_auto_columns": null,
            "grid_auto_flow": null,
            "grid_auto_rows": null,
            "grid_column": null,
            "grid_gap": null,
            "grid_row": null,
            "grid_template_areas": null,
            "grid_template_columns": null,
            "grid_template_rows": null,
            "height": null,
            "justify_content": null,
            "justify_items": null,
            "left": null,
            "margin": null,
            "max_height": null,
            "max_width": null,
            "min_height": null,
            "min_width": null,
            "object_fit": null,
            "object_position": null,
            "order": null,
            "overflow": null,
            "overflow_x": null,
            "overflow_y": null,
            "padding": null,
            "right": null,
            "top": null,
            "visibility": null,
            "width": null
          }
        },
        "565ab97bc8b048d7824d5be3d0f87f18": {
          "model_module": "@jupyter-widgets/controls",
          "model_module_version": "1.5.0",
          "model_name": "HTMLModel",
          "state": {
            "_dom_classes": [],
            "_model_module": "@jupyter-widgets/controls",
            "_model_module_version": "1.5.0",
            "_model_name": "HTMLModel",
            "_view_count": null,
            "_view_module": "@jupyter-widgets/controls",
            "_view_module_version": "1.5.0",
            "_view_name": "HTMLView",
            "description": "",
            "description_tooltip": null,
            "layout": "IPY_MODEL_834db8210ad44ecbb566f3b171fe3baa",
            "placeholder": "​",
            "style": "IPY_MODEL_b910915497a74d6ebb34fd24a24480e6",
            "value": " 353M/353M [00:02&lt;00:00, 150MB/s]"
          }
        },
        "56f6d32f94a3485d88b0b698929a48ad": {
          "model_module": "@jupyter-widgets/base",
          "model_module_version": "1.2.0",
          "model_name": "LayoutModel",
          "state": {
            "_model_module": "@jupyter-widgets/base",
            "_model_module_version": "1.2.0",
            "_model_name": "LayoutModel",
            "_view_count": null,
            "_view_module": "@jupyter-widgets/base",
            "_view_module_version": "1.2.0",
            "_view_name": "LayoutView",
            "align_content": null,
            "align_items": null,
            "align_self": null,
            "border": null,
            "bottom": null,
            "display": null,
            "flex": null,
            "flex_flow": null,
            "grid_area": null,
            "grid_auto_columns": null,
            "grid_auto_flow": null,
            "grid_auto_rows": null,
            "grid_column": null,
            "grid_gap": null,
            "grid_row": null,
            "grid_template_areas": null,
            "grid_template_columns": null,
            "grid_template_rows": null,
            "height": null,
            "justify_content": null,
            "justify_items": null,
            "left": null,
            "margin": null,
            "max_height": null,
            "max_width": null,
            "min_height": null,
            "min_width": null,
            "object_fit": null,
            "object_position": null,
            "order": null,
            "overflow": null,
            "overflow_x": null,
            "overflow_y": null,
            "padding": null,
            "right": null,
            "top": null,
            "visibility": null,
            "width": null
          }
        },
        "5b0fb4d2a75f44f7b2a1f5a7f7d7b2aa": {
          "model_module": "@jupyter-widgets/base",
          "model_module_version": "1.2.0",
          "model_name": "LayoutModel",
          "state": {
            "_model_module": "@jupyter-widgets/base",
            "_model_module_version": "1.2.0",
            "_model_name": "LayoutModel",
            "_view_count": null,
            "_view_module": "@jupyter-widgets/base",
            "_view_module_version": "1.2.0",
            "_view_name": "LayoutView",
            "align_content": null,
            "align_items": null,
            "align_self": null,
            "border": null,
            "bottom": null,
            "display": null,
            "flex": null,
            "flex_flow": null,
            "grid_area": null,
            "grid_auto_columns": null,
            "grid_auto_flow": null,
            "grid_auto_rows": null,
            "grid_column": null,
            "grid_gap": null,
            "grid_row": null,
            "grid_template_areas": null,
            "grid_template_columns": null,
            "grid_template_rows": null,
            "height": null,
            "justify_content": null,
            "justify_items": null,
            "left": null,
            "margin": null,
            "max_height": null,
            "max_width": null,
            "min_height": null,
            "min_width": null,
            "object_fit": null,
            "object_position": null,
            "order": null,
            "overflow": null,
            "overflow_x": null,
            "overflow_y": null,
            "padding": null,
            "right": null,
            "top": null,
            "visibility": null,
            "width": null
          }
        },
        "5ba115362010437981025098bb91a9fb": {
          "model_module": "@jupyter-widgets/controls",
          "model_module_version": "1.5.0",
          "model_name": "HTMLModel",
          "state": {
            "_dom_classes": [],
            "_model_module": "@jupyter-widgets/controls",
            "_model_module_version": "1.5.0",
            "_model_name": "HTMLModel",
            "_view_count": null,
            "_view_module": "@jupyter-widgets/controls",
            "_view_module_version": "1.5.0",
            "_view_name": "HTMLView",
            "description": "",
            "description_tooltip": null,
            "layout": "IPY_MODEL_22aa94dfb7a0449f83c35b3ba670548d",
            "placeholder": "​",
            "style": "IPY_MODEL_47b2fd014b2c4f2e86d1af475cfa8ef7",
            "value": " 28.0/28.0 [00:00&lt;00:00, 1.31kB/s]"
          }
        },
        "5baf881e425a45018d0775e4415e5006": {
          "model_module": "@jupyter-widgets/controls",
          "model_module_version": "1.5.0",
          "model_name": "ProgressStyleModel",
          "state": {
            "_model_module": "@jupyter-widgets/controls",
            "_model_module_version": "1.5.0",
            "_model_name": "ProgressStyleModel",
            "_view_count": null,
            "_view_module": "@jupyter-widgets/base",
            "_view_module_version": "1.2.0",
            "_view_name": "StyleView",
            "bar_color": null,
            "description_width": ""
          }
        },
        "5c7a1b2be56f4dc19cb00d41a197ddb1": {
          "model_module": "@jupyter-widgets/controls",
          "model_module_version": "1.5.0",
          "model_name": "DescriptionStyleModel",
          "state": {
            "_model_module": "@jupyter-widgets/controls",
            "_model_module_version": "1.5.0",
            "_model_name": "DescriptionStyleModel",
            "_view_count": null,
            "_view_module": "@jupyter-widgets/base",
            "_view_module_version": "1.2.0",
            "_view_name": "StyleView",
            "description_width": ""
          }
        },
        "62d9c2ce6ec54680bcafb30b023e8b2e": {
          "model_module": "@jupyter-widgets/controls",
          "model_module_version": "1.5.0",
          "model_name": "DescriptionStyleModel",
          "state": {
            "_model_module": "@jupyter-widgets/controls",
            "_model_module_version": "1.5.0",
            "_model_name": "DescriptionStyleModel",
            "_view_count": null,
            "_view_module": "@jupyter-widgets/base",
            "_view_module_version": "1.2.0",
            "_view_name": "StyleView",
            "description_width": ""
          }
        },
        "63ddbaa38c2a4799beb4ab9fa5be14ac": {
          "model_module": "@jupyter-widgets/base",
          "model_module_version": "1.2.0",
          "model_name": "LayoutModel",
          "state": {
            "_model_module": "@jupyter-widgets/base",
            "_model_module_version": "1.2.0",
            "_model_name": "LayoutModel",
            "_view_count": null,
            "_view_module": "@jupyter-widgets/base",
            "_view_module_version": "1.2.0",
            "_view_name": "LayoutView",
            "align_content": null,
            "align_items": null,
            "align_self": null,
            "border": null,
            "bottom": null,
            "display": null,
            "flex": null,
            "flex_flow": null,
            "grid_area": null,
            "grid_auto_columns": null,
            "grid_auto_flow": null,
            "grid_auto_rows": null,
            "grid_column": null,
            "grid_gap": null,
            "grid_row": null,
            "grid_template_areas": null,
            "grid_template_columns": null,
            "grid_template_rows": null,
            "height": null,
            "justify_content": null,
            "justify_items": null,
            "left": null,
            "margin": null,
            "max_height": null,
            "max_width": null,
            "min_height": null,
            "min_width": null,
            "object_fit": null,
            "object_position": null,
            "order": null,
            "overflow": null,
            "overflow_x": null,
            "overflow_y": null,
            "padding": null,
            "right": null,
            "top": null,
            "visibility": null,
            "width": null
          }
        },
        "662bfceea14b424bad01913aa4ac376d": {
          "model_module": "@jupyter-widgets/base",
          "model_module_version": "1.2.0",
          "model_name": "LayoutModel",
          "state": {
            "_model_module": "@jupyter-widgets/base",
            "_model_module_version": "1.2.0",
            "_model_name": "LayoutModel",
            "_view_count": null,
            "_view_module": "@jupyter-widgets/base",
            "_view_module_version": "1.2.0",
            "_view_name": "LayoutView",
            "align_content": null,
            "align_items": null,
            "align_self": null,
            "border": null,
            "bottom": null,
            "display": null,
            "flex": null,
            "flex_flow": null,
            "grid_area": null,
            "grid_auto_columns": null,
            "grid_auto_flow": null,
            "grid_auto_rows": null,
            "grid_column": null,
            "grid_gap": null,
            "grid_row": null,
            "grid_template_areas": null,
            "grid_template_columns": null,
            "grid_template_rows": null,
            "height": null,
            "justify_content": null,
            "justify_items": null,
            "left": null,
            "margin": null,
            "max_height": null,
            "max_width": null,
            "min_height": null,
            "min_width": null,
            "object_fit": null,
            "object_position": null,
            "order": null,
            "overflow": null,
            "overflow_x": null,
            "overflow_y": null,
            "padding": null,
            "right": null,
            "top": null,
            "visibility": null,
            "width": null
          }
        },
        "6b2e8503d8e542b2ae234bec6456dcd7": {
          "model_module": "@jupyter-widgets/controls",
          "model_module_version": "1.5.0",
          "model_name": "HTMLModel",
          "state": {
            "_dom_classes": [],
            "_model_module": "@jupyter-widgets/controls",
            "_model_module_version": "1.5.0",
            "_model_name": "HTMLModel",
            "_view_count": null,
            "_view_module": "@jupyter-widgets/controls",
            "_view_module_version": "1.5.0",
            "_view_name": "HTMLView",
            "description": "",
            "description_tooltip": null,
            "layout": "IPY_MODEL_30cc0f2b8fc44368b2071ac25e09df93",
            "placeholder": "​",
            "style": "IPY_MODEL_31e1949738ca40329f9331eb668d0800",
            "value": "Downloading (…)lve/main/config.json: 100%"
          }
        },
        "7b35ad6863bf48fb95c189154569f1bc": {
          "model_module": "@jupyter-widgets/base",
          "model_module_version": "1.2.0",
          "model_name": "LayoutModel",
          "state": {
            "_model_module": "@jupyter-widgets/base",
            "_model_module_version": "1.2.0",
            "_model_name": "LayoutModel",
            "_view_count": null,
            "_view_module": "@jupyter-widgets/base",
            "_view_module_version": "1.2.0",
            "_view_name": "LayoutView",
            "align_content": null,
            "align_items": null,
            "align_self": null,
            "border": null,
            "bottom": null,
            "display": null,
            "flex": null,
            "flex_flow": null,
            "grid_area": null,
            "grid_auto_columns": null,
            "grid_auto_flow": null,
            "grid_auto_rows": null,
            "grid_column": null,
            "grid_gap": null,
            "grid_row": null,
            "grid_template_areas": null,
            "grid_template_columns": null,
            "grid_template_rows": null,
            "height": null,
            "justify_content": null,
            "justify_items": null,
            "left": null,
            "margin": null,
            "max_height": null,
            "max_width": null,
            "min_height": null,
            "min_width": null,
            "object_fit": null,
            "object_position": null,
            "order": null,
            "overflow": null,
            "overflow_x": null,
            "overflow_y": null,
            "padding": null,
            "right": null,
            "top": null,
            "visibility": null,
            "width": null
          }
        },
        "7f019d9a060c4ff2aacac59c4424f38e": {
          "model_module": "@jupyter-widgets/base",
          "model_module_version": "1.2.0",
          "model_name": "LayoutModel",
          "state": {
            "_model_module": "@jupyter-widgets/base",
            "_model_module_version": "1.2.0",
            "_model_name": "LayoutModel",
            "_view_count": null,
            "_view_module": "@jupyter-widgets/base",
            "_view_module_version": "1.2.0",
            "_view_name": "LayoutView",
            "align_content": null,
            "align_items": null,
            "align_self": null,
            "border": null,
            "bottom": null,
            "display": null,
            "flex": null,
            "flex_flow": null,
            "grid_area": null,
            "grid_auto_columns": null,
            "grid_auto_flow": null,
            "grid_auto_rows": null,
            "grid_column": null,
            "grid_gap": null,
            "grid_row": null,
            "grid_template_areas": null,
            "grid_template_columns": null,
            "grid_template_rows": null,
            "height": null,
            "justify_content": null,
            "justify_items": null,
            "left": null,
            "margin": null,
            "max_height": null,
            "max_width": null,
            "min_height": null,
            "min_width": null,
            "object_fit": null,
            "object_position": null,
            "order": null,
            "overflow": null,
            "overflow_x": null,
            "overflow_y": null,
            "padding": null,
            "right": null,
            "top": null,
            "visibility": null,
            "width": null
          }
        },
        "81218987c6924eb59e9fcde7df1b67b8": {
          "model_module": "@jupyter-widgets/controls",
          "model_module_version": "1.5.0",
          "model_name": "DescriptionStyleModel",
          "state": {
            "_model_module": "@jupyter-widgets/controls",
            "_model_module_version": "1.5.0",
            "_model_name": "DescriptionStyleModel",
            "_view_count": null,
            "_view_module": "@jupyter-widgets/base",
            "_view_module_version": "1.2.0",
            "_view_name": "StyleView",
            "description_width": ""
          }
        },
        "815ab27b91134c9ebc81ff99a9ea25f3": {
          "model_module": "@jupyter-widgets/controls",
          "model_module_version": "1.5.0",
          "model_name": "FloatProgressModel",
          "state": {
            "_dom_classes": [],
            "_model_module": "@jupyter-widgets/controls",
            "_model_module_version": "1.5.0",
            "_model_name": "FloatProgressModel",
            "_view_count": null,
            "_view_module": "@jupyter-widgets/controls",
            "_view_module_version": "1.5.0",
            "_view_name": "ProgressView",
            "bar_style": "success",
            "description": "",
            "description_tooltip": null,
            "layout": "IPY_MODEL_932cda40a9a04cb18b6b0746bdcad958",
            "max": 231508,
            "min": 0,
            "orientation": "horizontal",
            "style": "IPY_MODEL_e6a6cd8bca1a481bbc595d69b38be076",
            "value": 231508
          }
        },
        "8321a04748474e259903a7759daa2af3": {
          "model_module": "@jupyter-widgets/controls",
          "model_module_version": "1.5.0",
          "model_name": "ProgressStyleModel",
          "state": {
            "_model_module": "@jupyter-widgets/controls",
            "_model_module_version": "1.5.0",
            "_model_name": "ProgressStyleModel",
            "_view_count": null,
            "_view_module": "@jupyter-widgets/base",
            "_view_module_version": "1.2.0",
            "_view_name": "StyleView",
            "bar_color": null,
            "description_width": ""
          }
        },
        "834db8210ad44ecbb566f3b171fe3baa": {
          "model_module": "@jupyter-widgets/base",
          "model_module_version": "1.2.0",
          "model_name": "LayoutModel",
          "state": {
            "_model_module": "@jupyter-widgets/base",
            "_model_module_version": "1.2.0",
            "_model_name": "LayoutModel",
            "_view_count": null,
            "_view_module": "@jupyter-widgets/base",
            "_view_module_version": "1.2.0",
            "_view_name": "LayoutView",
            "align_content": null,
            "align_items": null,
            "align_self": null,
            "border": null,
            "bottom": null,
            "display": null,
            "flex": null,
            "flex_flow": null,
            "grid_area": null,
            "grid_auto_columns": null,
            "grid_auto_flow": null,
            "grid_auto_rows": null,
            "grid_column": null,
            "grid_gap": null,
            "grid_row": null,
            "grid_template_areas": null,
            "grid_template_columns": null,
            "grid_template_rows": null,
            "height": null,
            "justify_content": null,
            "justify_items": null,
            "left": null,
            "margin": null,
            "max_height": null,
            "max_width": null,
            "min_height": null,
            "min_width": null,
            "object_fit": null,
            "object_position": null,
            "order": null,
            "overflow": null,
            "overflow_x": null,
            "overflow_y": null,
            "padding": null,
            "right": null,
            "top": null,
            "visibility": null,
            "width": null
          }
        },
        "863dfa95dd154ed7a0df1b9a46347700": {
          "model_module": "@jupyter-widgets/base",
          "model_module_version": "1.2.0",
          "model_name": "LayoutModel",
          "state": {
            "_model_module": "@jupyter-widgets/base",
            "_model_module_version": "1.2.0",
            "_model_name": "LayoutModel",
            "_view_count": null,
            "_view_module": "@jupyter-widgets/base",
            "_view_module_version": "1.2.0",
            "_view_name": "LayoutView",
            "align_content": null,
            "align_items": null,
            "align_self": null,
            "border": null,
            "bottom": null,
            "display": null,
            "flex": null,
            "flex_flow": null,
            "grid_area": null,
            "grid_auto_columns": null,
            "grid_auto_flow": null,
            "grid_auto_rows": null,
            "grid_column": null,
            "grid_gap": null,
            "grid_row": null,
            "grid_template_areas": null,
            "grid_template_columns": null,
            "grid_template_rows": null,
            "height": null,
            "justify_content": null,
            "justify_items": null,
            "left": null,
            "margin": null,
            "max_height": null,
            "max_width": null,
            "min_height": null,
            "min_width": null,
            "object_fit": null,
            "object_position": null,
            "order": null,
            "overflow": null,
            "overflow_x": null,
            "overflow_y": null,
            "padding": null,
            "right": null,
            "top": null,
            "visibility": null,
            "width": null
          }
        },
        "86f0a6b655aa4f42bc9fb115951cd978": {
          "model_module": "@jupyter-widgets/controls",
          "model_module_version": "1.5.0",
          "model_name": "FloatProgressModel",
          "state": {
            "_dom_classes": [],
            "_model_module": "@jupyter-widgets/controls",
            "_model_module_version": "1.5.0",
            "_model_name": "FloatProgressModel",
            "_view_count": null,
            "_view_module": "@jupyter-widgets/controls",
            "_view_module_version": "1.5.0",
            "_view_name": "ProgressView",
            "bar_style": "success",
            "description": "",
            "description_tooltip": null,
            "layout": "IPY_MODEL_8d50890ea5c84b7b89e02abcc83d1696",
            "max": 1042301,
            "min": 0,
            "orientation": "horizontal",
            "style": "IPY_MODEL_240403c4c91f4f588442adcaab6f4c52",
            "value": 1042301
          }
        },
        "8b52023f311442f2bd0f166c2fe63efd": {
          "model_module": "@jupyter-widgets/controls",
          "model_module_version": "1.5.0",
          "model_name": "HBoxModel",
          "state": {
            "_dom_classes": [],
            "_model_module": "@jupyter-widgets/controls",
            "_model_module_version": "1.5.0",
            "_model_name": "HBoxModel",
            "_view_count": null,
            "_view_module": "@jupyter-widgets/controls",
            "_view_module_version": "1.5.0",
            "_view_name": "HBoxView",
            "box_style": "",
            "children": [
              "IPY_MODEL_6b2e8503d8e542b2ae234bec6456dcd7",
              "IPY_MODEL_c143c2ffa3f44d28b1cf1f868949b33d",
              "IPY_MODEL_23a1cd0cf351483f9adc9e313d749be8"
            ],
            "layout": "IPY_MODEL_edefff0010ba4a409bf03d424e146820"
          }
        },
        "8d50890ea5c84b7b89e02abcc83d1696": {
          "model_module": "@jupyter-widgets/base",
          "model_module_version": "1.2.0",
          "model_name": "LayoutModel",
          "state": {
            "_model_module": "@jupyter-widgets/base",
            "_model_module_version": "1.2.0",
            "_model_name": "LayoutModel",
            "_view_count": null,
            "_view_module": "@jupyter-widgets/base",
            "_view_module_version": "1.2.0",
            "_view_name": "LayoutView",
            "align_content": null,
            "align_items": null,
            "align_self": null,
            "border": null,
            "bottom": null,
            "display": null,
            "flex": null,
            "flex_flow": null,
            "grid_area": null,
            "grid_auto_columns": null,
            "grid_auto_flow": null,
            "grid_auto_rows": null,
            "grid_column": null,
            "grid_gap": null,
            "grid_row": null,
            "grid_template_areas": null,
            "grid_template_columns": null,
            "grid_template_rows": null,
            "height": null,
            "justify_content": null,
            "justify_items": null,
            "left": null,
            "margin": null,
            "max_height": null,
            "max_width": null,
            "min_height": null,
            "min_width": null,
            "object_fit": null,
            "object_position": null,
            "order": null,
            "overflow": null,
            "overflow_x": null,
            "overflow_y": null,
            "padding": null,
            "right": null,
            "top": null,
            "visibility": null,
            "width": null
          }
        },
        "8f35ebfea6944716a43ceca42c6f3aef": {
          "model_module": "@jupyter-widgets/controls",
          "model_module_version": "1.5.0",
          "model_name": "HTMLModel",
          "state": {
            "_dom_classes": [],
            "_model_module": "@jupyter-widgets/controls",
            "_model_module_version": "1.5.0",
            "_model_name": "HTMLModel",
            "_view_count": null,
            "_view_module": "@jupyter-widgets/controls",
            "_view_module_version": "1.5.0",
            "_view_name": "HTMLView",
            "description": "",
            "description_tooltip": null,
            "layout": "IPY_MODEL_63ddbaa38c2a4799beb4ab9fa5be14ac",
            "placeholder": "​",
            "style": "IPY_MODEL_1a7127de174646519932066b12cf0f16",
            "value": " 456k/456k [00:00&lt;00:00, 5.94MB/s]"
          }
        },
        "8f883d67f58f4ca299606697c5766ddb": {
          "model_module": "@jupyter-widgets/controls",
          "model_module_version": "1.5.0",
          "model_name": "DescriptionStyleModel",
          "state": {
            "_model_module": "@jupyter-widgets/controls",
            "_model_module_version": "1.5.0",
            "_model_name": "DescriptionStyleModel",
            "_view_count": null,
            "_view_module": "@jupyter-widgets/base",
            "_view_module_version": "1.2.0",
            "_view_name": "StyleView",
            "description_width": ""
          }
        },
        "908ae0cb30c943c0ae93386d9a00337d": {
          "model_module": "@jupyter-widgets/controls",
          "model_module_version": "1.5.0",
          "model_name": "HBoxModel",
          "state": {
            "_dom_classes": [],
            "_model_module": "@jupyter-widgets/controls",
            "_model_module_version": "1.5.0",
            "_model_name": "HBoxModel",
            "_view_count": null,
            "_view_module": "@jupyter-widgets/controls",
            "_view_module_version": "1.5.0",
            "_view_name": "HBoxView",
            "box_style": "",
            "children": [
              "IPY_MODEL_15521431126d4cfd848582ca9cdf7338",
              "IPY_MODEL_d32ad5baed4941fdaf71a997bc4b3416",
              "IPY_MODEL_5ba115362010437981025098bb91a9fb"
            ],
            "layout": "IPY_MODEL_bb5c65338f6f48988239f5c3a27acfd9"
          }
        },
        "920bd4b035054709bc052265640304b9": {
          "model_module": "@jupyter-widgets/controls",
          "model_module_version": "1.5.0",
          "model_name": "FloatProgressModel",
          "state": {
            "_dom_classes": [],
            "_model_module": "@jupyter-widgets/controls",
            "_model_module_version": "1.5.0",
            "_model_name": "FloatProgressModel",
            "_view_count": null,
            "_view_module": "@jupyter-widgets/controls",
            "_view_module_version": "1.5.0",
            "_view_name": "ProgressView",
            "bar_style": "success",
            "description": "",
            "description_tooltip": null,
            "layout": "IPY_MODEL_7f019d9a060c4ff2aacac59c4424f38e",
            "max": 352833716,
            "min": 0,
            "orientation": "horizontal",
            "style": "IPY_MODEL_d524719b9fdb4ad9b08cfcdba0966637",
            "value": 352833716
          }
        },
        "92c28cd477bc462292829f18a460062e": {
          "model_module": "@jupyter-widgets/controls",
          "model_module_version": "1.5.0",
          "model_name": "HTMLModel",
          "state": {
            "_dom_classes": [],
            "_model_module": "@jupyter-widgets/controls",
            "_model_module_version": "1.5.0",
            "_model_name": "HTMLModel",
            "_view_count": null,
            "_view_module": "@jupyter-widgets/controls",
            "_view_module_version": "1.5.0",
            "_view_name": "HTMLView",
            "description": "",
            "description_tooltip": null,
            "layout": "IPY_MODEL_5b0fb4d2a75f44f7b2a1f5a7f7d7b2aa",
            "placeholder": "​",
            "style": "IPY_MODEL_1befafd7b22a4c02a821080818c2c76c",
            "value": " 1.04M/1.04M [00:00&lt;00:00, 9.70MB/s]"
          }
        },
        "932cda40a9a04cb18b6b0746bdcad958": {
          "model_module": "@jupyter-widgets/base",
          "model_module_version": "1.2.0",
          "model_name": "LayoutModel",
          "state": {
            "_model_module": "@jupyter-widgets/base",
            "_model_module_version": "1.2.0",
            "_model_name": "LayoutModel",
            "_view_count": null,
            "_view_module": "@jupyter-widgets/base",
            "_view_module_version": "1.2.0",
            "_view_name": "LayoutView",
            "align_content": null,
            "align_items": null,
            "align_self": null,
            "border": null,
            "bottom": null,
            "display": null,
            "flex": null,
            "flex_flow": null,
            "grid_area": null,
            "grid_auto_columns": null,
            "grid_auto_flow": null,
            "grid_auto_rows": null,
            "grid_column": null,
            "grid_gap": null,
            "grid_row": null,
            "grid_template_areas": null,
            "grid_template_columns": null,
            "grid_template_rows": null,
            "height": null,
            "justify_content": null,
            "justify_items": null,
            "left": null,
            "margin": null,
            "max_height": null,
            "max_width": null,
            "min_height": null,
            "min_width": null,
            "object_fit": null,
            "object_position": null,
            "order": null,
            "overflow": null,
            "overflow_x": null,
            "overflow_y": null,
            "padding": null,
            "right": null,
            "top": null,
            "visibility": null,
            "width": null
          }
        },
        "95cf732d22da44b6a3f49d896b721f6e": {
          "model_module": "@jupyter-widgets/base",
          "model_module_version": "1.2.0",
          "model_name": "LayoutModel",
          "state": {
            "_model_module": "@jupyter-widgets/base",
            "_model_module_version": "1.2.0",
            "_model_name": "LayoutModel",
            "_view_count": null,
            "_view_module": "@jupyter-widgets/base",
            "_view_module_version": "1.2.0",
            "_view_name": "LayoutView",
            "align_content": null,
            "align_items": null,
            "align_self": null,
            "border": null,
            "bottom": null,
            "display": null,
            "flex": null,
            "flex_flow": null,
            "grid_area": null,
            "grid_auto_columns": null,
            "grid_auto_flow": null,
            "grid_auto_rows": null,
            "grid_column": null,
            "grid_gap": null,
            "grid_row": null,
            "grid_template_areas": null,
            "grid_template_columns": null,
            "grid_template_rows": null,
            "height": null,
            "justify_content": null,
            "justify_items": null,
            "left": null,
            "margin": null,
            "max_height": null,
            "max_width": null,
            "min_height": null,
            "min_width": null,
            "object_fit": null,
            "object_position": null,
            "order": null,
            "overflow": null,
            "overflow_x": null,
            "overflow_y": null,
            "padding": null,
            "right": null,
            "top": null,
            "visibility": null,
            "width": null
          }
        },
        "987f2ea2a47748fa921783b9c8897d69": {
          "model_module": "@jupyter-widgets/controls",
          "model_module_version": "1.5.0",
          "model_name": "ProgressStyleModel",
          "state": {
            "_model_module": "@jupyter-widgets/controls",
            "_model_module_version": "1.5.0",
            "_model_name": "ProgressStyleModel",
            "_view_count": null,
            "_view_module": "@jupyter-widgets/base",
            "_view_module_version": "1.2.0",
            "_view_name": "StyleView",
            "bar_color": null,
            "description_width": ""
          }
        },
        "989f6b61249248b488d6268ad2db2245": {
          "model_module": "@jupyter-widgets/base",
          "model_module_version": "1.2.0",
          "model_name": "LayoutModel",
          "state": {
            "_model_module": "@jupyter-widgets/base",
            "_model_module_version": "1.2.0",
            "_model_name": "LayoutModel",
            "_view_count": null,
            "_view_module": "@jupyter-widgets/base",
            "_view_module_version": "1.2.0",
            "_view_name": "LayoutView",
            "align_content": null,
            "align_items": null,
            "align_self": null,
            "border": null,
            "bottom": null,
            "display": null,
            "flex": null,
            "flex_flow": null,
            "grid_area": null,
            "grid_auto_columns": null,
            "grid_auto_flow": null,
            "grid_auto_rows": null,
            "grid_column": null,
            "grid_gap": null,
            "grid_row": null,
            "grid_template_areas": null,
            "grid_template_columns": null,
            "grid_template_rows": null,
            "height": null,
            "justify_content": null,
            "justify_items": null,
            "left": null,
            "margin": null,
            "max_height": null,
            "max_width": null,
            "min_height": null,
            "min_width": null,
            "object_fit": null,
            "object_position": null,
            "order": null,
            "overflow": null,
            "overflow_x": null,
            "overflow_y": null,
            "padding": null,
            "right": null,
            "top": null,
            "visibility": null,
            "width": null
          }
        },
        "a050d85a698f4da690f1ddd5d3292073": {
          "model_module": "@jupyter-widgets/controls",
          "model_module_version": "1.5.0",
          "model_name": "HTMLModel",
          "state": {
            "_dom_classes": [],
            "_model_module": "@jupyter-widgets/controls",
            "_model_module_version": "1.5.0",
            "_model_name": "HTMLModel",
            "_view_count": null,
            "_view_module": "@jupyter-widgets/controls",
            "_view_module_version": "1.5.0",
            "_view_name": "HTMLView",
            "description": "",
            "description_tooltip": null,
            "layout": "IPY_MODEL_1229df6021a143a19292ef9f04f9ce96",
            "placeholder": "​",
            "style": "IPY_MODEL_4f346272fd7d48339f6919dd7db75cf9",
            "value": " 124/124 [00:00&lt;00:00, 4.11kB/s]"
          }
        },
        "a3b4285b87564132950e8ae55d4d9773": {
          "model_module": "@jupyter-widgets/base",
          "model_module_version": "1.2.0",
          "model_name": "LayoutModel",
          "state": {
            "_model_module": "@jupyter-widgets/base",
            "_model_module_version": "1.2.0",
            "_model_name": "LayoutModel",
            "_view_count": null,
            "_view_module": "@jupyter-widgets/base",
            "_view_module_version": "1.2.0",
            "_view_name": "LayoutView",
            "align_content": null,
            "align_items": null,
            "align_self": null,
            "border": null,
            "bottom": null,
            "display": null,
            "flex": null,
            "flex_flow": null,
            "grid_area": null,
            "grid_auto_columns": null,
            "grid_auto_flow": null,
            "grid_auto_rows": null,
            "grid_column": null,
            "grid_gap": null,
            "grid_row": null,
            "grid_template_areas": null,
            "grid_template_columns": null,
            "grid_template_rows": null,
            "height": null,
            "justify_content": null,
            "justify_items": null,
            "left": null,
            "margin": null,
            "max_height": null,
            "max_width": null,
            "min_height": null,
            "min_width": null,
            "object_fit": null,
            "object_position": null,
            "order": null,
            "overflow": null,
            "overflow_x": null,
            "overflow_y": null,
            "padding": null,
            "right": null,
            "top": null,
            "visibility": null,
            "width": null
          }
        },
        "a58632fdb43a4200a8797cdff5b03f60": {
          "model_module": "@jupyter-widgets/controls",
          "model_module_version": "1.5.0",
          "model_name": "ProgressStyleModel",
          "state": {
            "_model_module": "@jupyter-widgets/controls",
            "_model_module_version": "1.5.0",
            "_model_name": "ProgressStyleModel",
            "_view_count": null,
            "_view_module": "@jupyter-widgets/base",
            "_view_module_version": "1.2.0",
            "_view_name": "StyleView",
            "bar_color": null,
            "description_width": ""
          }
        },
        "a73a651c551a42bea02c1c3d2e2bf409": {
          "model_module": "@jupyter-widgets/controls",
          "model_module_version": "1.5.0",
          "model_name": "HBoxModel",
          "state": {
            "_dom_classes": [],
            "_model_module": "@jupyter-widgets/controls",
            "_model_module_version": "1.5.0",
            "_model_name": "HBoxModel",
            "_view_count": null,
            "_view_module": "@jupyter-widgets/controls",
            "_view_module_version": "1.5.0",
            "_view_name": "HBoxView",
            "box_style": "",
            "children": [
              "IPY_MODEL_30491f5dd67a40a187cb3ccf436fd98d",
              "IPY_MODEL_0fc21fb751014b8aa44285faa55d6519",
              "IPY_MODEL_a050d85a698f4da690f1ddd5d3292073"
            ],
            "layout": "IPY_MODEL_aa39cfada1c14afb972ec84ff3131257"
          }
        },
        "a8b49df6e9f1456c854b5080d389d8c9": {
          "model_module": "@jupyter-widgets/base",
          "model_module_version": "1.2.0",
          "model_name": "LayoutModel",
          "state": {
            "_model_module": "@jupyter-widgets/base",
            "_model_module_version": "1.2.0",
            "_model_name": "LayoutModel",
            "_view_count": null,
            "_view_module": "@jupyter-widgets/base",
            "_view_module_version": "1.2.0",
            "_view_name": "LayoutView",
            "align_content": null,
            "align_items": null,
            "align_self": null,
            "border": null,
            "bottom": null,
            "display": null,
            "flex": null,
            "flex_flow": null,
            "grid_area": null,
            "grid_auto_columns": null,
            "grid_auto_flow": null,
            "grid_auto_rows": null,
            "grid_column": null,
            "grid_gap": null,
            "grid_row": null,
            "grid_template_areas": null,
            "grid_template_columns": null,
            "grid_template_rows": null,
            "height": null,
            "justify_content": null,
            "justify_items": null,
            "left": null,
            "margin": null,
            "max_height": null,
            "max_width": null,
            "min_height": null,
            "min_width": null,
            "object_fit": null,
            "object_position": null,
            "order": null,
            "overflow": null,
            "overflow_x": null,
            "overflow_y": null,
            "padding": null,
            "right": null,
            "top": null,
            "visibility": null,
            "width": null
          }
        },
        "aa39cfada1c14afb972ec84ff3131257": {
          "model_module": "@jupyter-widgets/base",
          "model_module_version": "1.2.0",
          "model_name": "LayoutModel",
          "state": {
            "_model_module": "@jupyter-widgets/base",
            "_model_module_version": "1.2.0",
            "_model_name": "LayoutModel",
            "_view_count": null,
            "_view_module": "@jupyter-widgets/base",
            "_view_module_version": "1.2.0",
            "_view_name": "LayoutView",
            "align_content": null,
            "align_items": null,
            "align_self": null,
            "border": null,
            "bottom": null,
            "display": null,
            "flex": null,
            "flex_flow": null,
            "grid_area": null,
            "grid_auto_columns": null,
            "grid_auto_flow": null,
            "grid_auto_rows": null,
            "grid_column": null,
            "grid_gap": null,
            "grid_row": null,
            "grid_template_areas": null,
            "grid_template_columns": null,
            "grid_template_rows": null,
            "height": null,
            "justify_content": null,
            "justify_items": null,
            "left": null,
            "margin": null,
            "max_height": null,
            "max_width": null,
            "min_height": null,
            "min_width": null,
            "object_fit": null,
            "object_position": null,
            "order": null,
            "overflow": null,
            "overflow_x": null,
            "overflow_y": null,
            "padding": null,
            "right": null,
            "top": null,
            "visibility": null,
            "width": null
          }
        },
        "b1d5f89d3d7240b29da7279224c5a454": {
          "model_module": "@jupyter-widgets/controls",
          "model_module_version": "1.5.0",
          "model_name": "DescriptionStyleModel",
          "state": {
            "_model_module": "@jupyter-widgets/controls",
            "_model_module_version": "1.5.0",
            "_model_name": "DescriptionStyleModel",
            "_view_count": null,
            "_view_module": "@jupyter-widgets/base",
            "_view_module_version": "1.2.0",
            "_view_name": "StyleView",
            "description_width": ""
          }
        },
        "b910915497a74d6ebb34fd24a24480e6": {
          "model_module": "@jupyter-widgets/controls",
          "model_module_version": "1.5.0",
          "model_name": "DescriptionStyleModel",
          "state": {
            "_model_module": "@jupyter-widgets/controls",
            "_model_module_version": "1.5.0",
            "_model_name": "DescriptionStyleModel",
            "_view_count": null,
            "_view_module": "@jupyter-widgets/base",
            "_view_module_version": "1.2.0",
            "_view_name": "StyleView",
            "description_width": ""
          }
        },
        "bb5c65338f6f48988239f5c3a27acfd9": {
          "model_module": "@jupyter-widgets/base",
          "model_module_version": "1.2.0",
          "model_name": "LayoutModel",
          "state": {
            "_model_module": "@jupyter-widgets/base",
            "_model_module_version": "1.2.0",
            "_model_name": "LayoutModel",
            "_view_count": null,
            "_view_module": "@jupyter-widgets/base",
            "_view_module_version": "1.2.0",
            "_view_name": "LayoutView",
            "align_content": null,
            "align_items": null,
            "align_self": null,
            "border": null,
            "bottom": null,
            "display": null,
            "flex": null,
            "flex_flow": null,
            "grid_area": null,
            "grid_auto_columns": null,
            "grid_auto_flow": null,
            "grid_auto_rows": null,
            "grid_column": null,
            "grid_gap": null,
            "grid_row": null,
            "grid_template_areas": null,
            "grid_template_columns": null,
            "grid_template_rows": null,
            "height": null,
            "justify_content": null,
            "justify_items": null,
            "left": null,
            "margin": null,
            "max_height": null,
            "max_width": null,
            "min_height": null,
            "min_width": null,
            "object_fit": null,
            "object_position": null,
            "order": null,
            "overflow": null,
            "overflow_x": null,
            "overflow_y": null,
            "padding": null,
            "right": null,
            "top": null,
            "visibility": null,
            "width": null
          }
        },
        "bd90bf95f12742f8bcb98051eb939822": {
          "model_module": "@jupyter-widgets/controls",
          "model_module_version": "1.5.0",
          "model_name": "HBoxModel",
          "state": {
            "_dom_classes": [],
            "_model_module": "@jupyter-widgets/controls",
            "_model_module_version": "1.5.0",
            "_model_name": "HBoxModel",
            "_view_count": null,
            "_view_module": "@jupyter-widgets/controls",
            "_view_module_version": "1.5.0",
            "_view_name": "HBoxView",
            "box_style": "",
            "children": [
              "IPY_MODEL_4c5417d9f5f14d7681e4113c054e25c4",
              "IPY_MODEL_327914e5d74d4ded90473aa45603936c",
              "IPY_MODEL_8f35ebfea6944716a43ceca42c6f3aef"
            ],
            "layout": "IPY_MODEL_e547b195a774452ead49c2949609f319"
          }
        },
        "c143c2ffa3f44d28b1cf1f868949b33d": {
          "model_module": "@jupyter-widgets/controls",
          "model_module_version": "1.5.0",
          "model_name": "FloatProgressModel",
          "state": {
            "_dom_classes": [],
            "_model_module": "@jupyter-widgets/controls",
            "_model_module_version": "1.5.0",
            "_model_name": "FloatProgressModel",
            "_view_count": null,
            "_view_module": "@jupyter-widgets/controls",
            "_view_module_version": "1.5.0",
            "_view_name": "ProgressView",
            "bar_style": "success",
            "description": "",
            "description_tooltip": null,
            "layout": "IPY_MODEL_56f6d32f94a3485d88b0b698929a48ad",
            "max": 570,
            "min": 0,
            "orientation": "horizontal",
            "style": "IPY_MODEL_a58632fdb43a4200a8797cdff5b03f60",
            "value": 570
          }
        },
        "c6e00ced911d496e81d7112790b90f65": {
          "model_module": "@jupyter-widgets/controls",
          "model_module_version": "1.5.0",
          "model_name": "DescriptionStyleModel",
          "state": {
            "_model_module": "@jupyter-widgets/controls",
            "_model_module_version": "1.5.0",
            "_model_name": "DescriptionStyleModel",
            "_view_count": null,
            "_view_module": "@jupyter-widgets/base",
            "_view_module_version": "1.2.0",
            "_view_name": "StyleView",
            "description_width": ""
          }
        },
        "ca4ec528130c4281b35c83064f62d67f": {
          "model_module": "@jupyter-widgets/base",
          "model_module_version": "1.2.0",
          "model_name": "LayoutModel",
          "state": {
            "_model_module": "@jupyter-widgets/base",
            "_model_module_version": "1.2.0",
            "_model_name": "LayoutModel",
            "_view_count": null,
            "_view_module": "@jupyter-widgets/base",
            "_view_module_version": "1.2.0",
            "_view_name": "LayoutView",
            "align_content": null,
            "align_items": null,
            "align_self": null,
            "border": null,
            "bottom": null,
            "display": null,
            "flex": null,
            "flex_flow": null,
            "grid_area": null,
            "grid_auto_columns": null,
            "grid_auto_flow": null,
            "grid_auto_rows": null,
            "grid_column": null,
            "grid_gap": null,
            "grid_row": null,
            "grid_template_areas": null,
            "grid_template_columns": null,
            "grid_template_rows": null,
            "height": null,
            "justify_content": null,
            "justify_items": null,
            "left": null,
            "margin": null,
            "max_height": null,
            "max_width": null,
            "min_height": null,
            "min_width": null,
            "object_fit": null,
            "object_position": null,
            "order": null,
            "overflow": null,
            "overflow_x": null,
            "overflow_y": null,
            "padding": null,
            "right": null,
            "top": null,
            "visibility": null,
            "width": null
          }
        },
        "d0cfd967350744e48c3630a97fd0010d": {
          "model_module": "@jupyter-widgets/controls",
          "model_module_version": "1.5.0",
          "model_name": "HTMLModel",
          "state": {
            "_dom_classes": [],
            "_model_module": "@jupyter-widgets/controls",
            "_model_module_version": "1.5.0",
            "_model_name": "HTMLModel",
            "_view_count": null,
            "_view_module": "@jupyter-widgets/controls",
            "_view_module_version": "1.5.0",
            "_view_name": "HTMLView",
            "description": "",
            "description_tooltip": null,
            "layout": "IPY_MODEL_38b37d4847004ab69e405752fc5bdee6",
            "placeholder": "​",
            "style": "IPY_MODEL_62d9c2ce6ec54680bcafb30b023e8b2e",
            "value": " 232k/232k [00:00&lt;00:00, 12.4MB/s]"
          }
        },
        "d32ad5baed4941fdaf71a997bc4b3416": {
          "model_module": "@jupyter-widgets/controls",
          "model_module_version": "1.5.0",
          "model_name": "FloatProgressModel",
          "state": {
            "_dom_classes": [],
            "_model_module": "@jupyter-widgets/controls",
            "_model_module_version": "1.5.0",
            "_model_name": "FloatProgressModel",
            "_view_count": null,
            "_view_module": "@jupyter-widgets/controls",
            "_view_module_version": "1.5.0",
            "_view_name": "ProgressView",
            "bar_style": "success",
            "description": "",
            "description_tooltip": null,
            "layout": "IPY_MODEL_072beabcb43b4d439841caa4727c3db2",
            "max": 28,
            "min": 0,
            "orientation": "horizontal",
            "style": "IPY_MODEL_1f2e57caaa7d410c830ebd84a74a44de",
            "value": 28
          }
        },
        "d524719b9fdb4ad9b08cfcdba0966637": {
          "model_module": "@jupyter-widgets/controls",
          "model_module_version": "1.5.0",
          "model_name": "ProgressStyleModel",
          "state": {
            "_model_module": "@jupyter-widgets/controls",
            "_model_module_version": "1.5.0",
            "_model_name": "ProgressStyleModel",
            "_view_count": null,
            "_view_module": "@jupyter-widgets/base",
            "_view_module_version": "1.2.0",
            "_view_name": "StyleView",
            "bar_color": null,
            "description_width": ""
          }
        },
        "d560c1d4b9a441b29c3809f494c75927": {
          "model_module": "@jupyter-widgets/controls",
          "model_module_version": "1.5.0",
          "model_name": "HBoxModel",
          "state": {
            "_dom_classes": [],
            "_model_module": "@jupyter-widgets/controls",
            "_model_module_version": "1.5.0",
            "_model_name": "HBoxModel",
            "_view_count": null,
            "_view_module": "@jupyter-widgets/controls",
            "_view_module_version": "1.5.0",
            "_view_name": "HBoxView",
            "box_style": "",
            "children": [
              "IPY_MODEL_54ea7dd69ef148fd8749255fc450d469",
              "IPY_MODEL_258edbba693c4a7fb205b2368444eee7",
              "IPY_MODEL_3fc5fe42a25047bf84fd3e03b3c83f0c"
            ],
            "layout": "IPY_MODEL_a3b4285b87564132950e8ae55d4d9773"
          }
        },
        "d8de3980f49b440d944e2de6d130e7f4": {
          "model_module": "@jupyter-widgets/base",
          "model_module_version": "1.2.0",
          "model_name": "LayoutModel",
          "state": {
            "_model_module": "@jupyter-widgets/base",
            "_model_module_version": "1.2.0",
            "_model_name": "LayoutModel",
            "_view_count": null,
            "_view_module": "@jupyter-widgets/base",
            "_view_module_version": "1.2.0",
            "_view_name": "LayoutView",
            "align_content": null,
            "align_items": null,
            "align_self": null,
            "border": null,
            "bottom": null,
            "display": null,
            "flex": null,
            "flex_flow": null,
            "grid_area": null,
            "grid_auto_columns": null,
            "grid_auto_flow": null,
            "grid_auto_rows": null,
            "grid_column": null,
            "grid_gap": null,
            "grid_row": null,
            "grid_template_areas": null,
            "grid_template_columns": null,
            "grid_template_rows": null,
            "height": null,
            "justify_content": null,
            "justify_items": null,
            "left": null,
            "margin": null,
            "max_height": null,
            "max_width": null,
            "min_height": null,
            "min_width": null,
            "object_fit": null,
            "object_position": null,
            "order": null,
            "overflow": null,
            "overflow_x": null,
            "overflow_y": null,
            "padding": null,
            "right": null,
            "top": null,
            "visibility": null,
            "width": null
          }
        },
        "dbdeb8ecd37d47fe8c765f8efc9e1412": {
          "model_module": "@jupyter-widgets/base",
          "model_module_version": "1.2.0",
          "model_name": "LayoutModel",
          "state": {
            "_model_module": "@jupyter-widgets/base",
            "_model_module_version": "1.2.0",
            "_model_name": "LayoutModel",
            "_view_count": null,
            "_view_module": "@jupyter-widgets/base",
            "_view_module_version": "1.2.0",
            "_view_name": "LayoutView",
            "align_content": null,
            "align_items": null,
            "align_self": null,
            "border": null,
            "bottom": null,
            "display": null,
            "flex": null,
            "flex_flow": null,
            "grid_area": null,
            "grid_auto_columns": null,
            "grid_auto_flow": null,
            "grid_auto_rows": null,
            "grid_column": null,
            "grid_gap": null,
            "grid_row": null,
            "grid_template_areas": null,
            "grid_template_columns": null,
            "grid_template_rows": null,
            "height": null,
            "justify_content": null,
            "justify_items": null,
            "left": null,
            "margin": null,
            "max_height": null,
            "max_width": null,
            "min_height": null,
            "min_width": null,
            "object_fit": null,
            "object_position": null,
            "order": null,
            "overflow": null,
            "overflow_x": null,
            "overflow_y": null,
            "padding": null,
            "right": null,
            "top": null,
            "visibility": null,
            "width": null
          }
        },
        "dcbcceb77e9e4ce49fe11d7d0dcdc23f": {
          "model_module": "@jupyter-widgets/base",
          "model_module_version": "1.2.0",
          "model_name": "LayoutModel",
          "state": {
            "_model_module": "@jupyter-widgets/base",
            "_model_module_version": "1.2.0",
            "_model_name": "LayoutModel",
            "_view_count": null,
            "_view_module": "@jupyter-widgets/base",
            "_view_module_version": "1.2.0",
            "_view_name": "LayoutView",
            "align_content": null,
            "align_items": null,
            "align_self": null,
            "border": null,
            "bottom": null,
            "display": null,
            "flex": null,
            "flex_flow": null,
            "grid_area": null,
            "grid_auto_columns": null,
            "grid_auto_flow": null,
            "grid_auto_rows": null,
            "grid_column": null,
            "grid_gap": null,
            "grid_row": null,
            "grid_template_areas": null,
            "grid_template_columns": null,
            "grid_template_rows": null,
            "height": null,
            "justify_content": null,
            "justify_items": null,
            "left": null,
            "margin": null,
            "max_height": null,
            "max_width": null,
            "min_height": null,
            "min_width": null,
            "object_fit": null,
            "object_position": null,
            "order": null,
            "overflow": null,
            "overflow_x": null,
            "overflow_y": null,
            "padding": null,
            "right": null,
            "top": null,
            "visibility": null,
            "width": null
          }
        },
        "dd68e484ff3048e3b982ce74df0230a1": {
          "model_module": "@jupyter-widgets/controls",
          "model_module_version": "1.5.0",
          "model_name": "HBoxModel",
          "state": {
            "_dom_classes": [],
            "_model_module": "@jupyter-widgets/controls",
            "_model_module_version": "1.5.0",
            "_model_name": "HBoxModel",
            "_view_count": null,
            "_view_module": "@jupyter-widgets/controls",
            "_view_module_version": "1.5.0",
            "_view_name": "HBoxView",
            "box_style": "",
            "children": [
              "IPY_MODEL_eadce0bae70842f297ec84e4e4485738",
              "IPY_MODEL_1e187a69bd074276847955a187f23ecd",
              "IPY_MODEL_145a924718f1450482a80941c461d549"
            ],
            "layout": "IPY_MODEL_d8de3980f49b440d944e2de6d130e7f4"
          }
        },
        "e547b195a774452ead49c2949609f319": {
          "model_module": "@jupyter-widgets/base",
          "model_module_version": "1.2.0",
          "model_name": "LayoutModel",
          "state": {
            "_model_module": "@jupyter-widgets/base",
            "_model_module_version": "1.2.0",
            "_model_name": "LayoutModel",
            "_view_count": null,
            "_view_module": "@jupyter-widgets/base",
            "_view_module_version": "1.2.0",
            "_view_name": "LayoutView",
            "align_content": null,
            "align_items": null,
            "align_self": null,
            "border": null,
            "bottom": null,
            "display": null,
            "flex": null,
            "flex_flow": null,
            "grid_area": null,
            "grid_auto_columns": null,
            "grid_auto_flow": null,
            "grid_auto_rows": null,
            "grid_column": null,
            "grid_gap": null,
            "grid_row": null,
            "grid_template_areas": null,
            "grid_template_columns": null,
            "grid_template_rows": null,
            "height": null,
            "justify_content": null,
            "justify_items": null,
            "left": null,
            "margin": null,
            "max_height": null,
            "max_width": null,
            "min_height": null,
            "min_width": null,
            "object_fit": null,
            "object_position": null,
            "order": null,
            "overflow": null,
            "overflow_x": null,
            "overflow_y": null,
            "padding": null,
            "right": null,
            "top": null,
            "visibility": null,
            "width": null
          }
        },
        "e6a6cd8bca1a481bbc595d69b38be076": {
          "model_module": "@jupyter-widgets/controls",
          "model_module_version": "1.5.0",
          "model_name": "ProgressStyleModel",
          "state": {
            "_model_module": "@jupyter-widgets/controls",
            "_model_module_version": "1.5.0",
            "_model_name": "ProgressStyleModel",
            "_view_count": null,
            "_view_module": "@jupyter-widgets/base",
            "_view_module_version": "1.2.0",
            "_view_name": "StyleView",
            "bar_color": null,
            "description_width": ""
          }
        },
        "e92b71b1fdbc437cb8f42be53efad51a": {
          "model_module": "@jupyter-widgets/controls",
          "model_module_version": "1.5.0",
          "model_name": "DescriptionStyleModel",
          "state": {
            "_model_module": "@jupyter-widgets/controls",
            "_model_module_version": "1.5.0",
            "_model_name": "DescriptionStyleModel",
            "_view_count": null,
            "_view_module": "@jupyter-widgets/base",
            "_view_module_version": "1.2.0",
            "_view_name": "StyleView",
            "description_width": ""
          }
        },
        "eadce0bae70842f297ec84e4e4485738": {
          "model_module": "@jupyter-widgets/controls",
          "model_module_version": "1.5.0",
          "model_name": "HTMLModel",
          "state": {
            "_dom_classes": [],
            "_model_module": "@jupyter-widgets/controls",
            "_model_module_version": "1.5.0",
            "_model_name": "HTMLModel",
            "_view_count": null,
            "_view_module": "@jupyter-widgets/controls",
            "_view_module_version": "1.5.0",
            "_view_name": "HTMLView",
            "description": "",
            "description_tooltip": null,
            "layout": "IPY_MODEL_291510ca15f34a6098975d817ce6e0a4",
            "placeholder": "​",
            "style": "IPY_MODEL_c6e00ced911d496e81d7112790b90f65",
            "value": "Downloading pytorch_model.bin: 100%"
          }
        },
        "ec34923d7afa4e19b881d7fa83d6f6a6": {
          "model_module": "@jupyter-widgets/base",
          "model_module_version": "1.2.0",
          "model_name": "LayoutModel",
          "state": {
            "_model_module": "@jupyter-widgets/base",
            "_model_module_version": "1.2.0",
            "_model_name": "LayoutModel",
            "_view_count": null,
            "_view_module": "@jupyter-widgets/base",
            "_view_module_version": "1.2.0",
            "_view_name": "LayoutView",
            "align_content": null,
            "align_items": null,
            "align_self": null,
            "border": null,
            "bottom": null,
            "display": null,
            "flex": null,
            "flex_flow": null,
            "grid_area": null,
            "grid_auto_columns": null,
            "grid_auto_flow": null,
            "grid_auto_rows": null,
            "grid_column": null,
            "grid_gap": null,
            "grid_row": null,
            "grid_template_areas": null,
            "grid_template_columns": null,
            "grid_template_rows": null,
            "height": null,
            "justify_content": null,
            "justify_items": null,
            "left": null,
            "margin": null,
            "max_height": null,
            "max_width": null,
            "min_height": null,
            "min_width": null,
            "object_fit": null,
            "object_position": null,
            "order": null,
            "overflow": null,
            "overflow_x": null,
            "overflow_y": null,
            "padding": null,
            "right": null,
            "top": null,
            "visibility": null,
            "width": null
          }
        },
        "edefff0010ba4a409bf03d424e146820": {
          "model_module": "@jupyter-widgets/base",
          "model_module_version": "1.2.0",
          "model_name": "LayoutModel",
          "state": {
            "_model_module": "@jupyter-widgets/base",
            "_model_module_version": "1.2.0",
            "_model_name": "LayoutModel",
            "_view_count": null,
            "_view_module": "@jupyter-widgets/base",
            "_view_module_version": "1.2.0",
            "_view_name": "LayoutView",
            "align_content": null,
            "align_items": null,
            "align_self": null,
            "border": null,
            "bottom": null,
            "display": null,
            "flex": null,
            "flex_flow": null,
            "grid_area": null,
            "grid_auto_columns": null,
            "grid_auto_flow": null,
            "grid_auto_rows": null,
            "grid_column": null,
            "grid_gap": null,
            "grid_row": null,
            "grid_template_areas": null,
            "grid_template_columns": null,
            "grid_template_rows": null,
            "height": null,
            "justify_content": null,
            "justify_items": null,
            "left": null,
            "margin": null,
            "max_height": null,
            "max_width": null,
            "min_height": null,
            "min_width": null,
            "object_fit": null,
            "object_position": null,
            "order": null,
            "overflow": null,
            "overflow_x": null,
            "overflow_y": null,
            "padding": null,
            "right": null,
            "top": null,
            "visibility": null,
            "width": null
          }
        },
        "f01443ae4db4412ba12eeac9d1b66606": {
          "model_module": "@jupyter-widgets/controls",
          "model_module_version": "1.5.0",
          "model_name": "DescriptionStyleModel",
          "state": {
            "_model_module": "@jupyter-widgets/controls",
            "_model_module_version": "1.5.0",
            "_model_name": "DescriptionStyleModel",
            "_view_count": null,
            "_view_module": "@jupyter-widgets/base",
            "_view_module_version": "1.2.0",
            "_view_name": "StyleView",
            "description_width": ""
          }
        },
        "fa00c0bc00d542c6a4e156faf0484f97": {
          "model_module": "@jupyter-widgets/controls",
          "model_module_version": "1.5.0",
          "model_name": "DescriptionStyleModel",
          "state": {
            "_model_module": "@jupyter-widgets/controls",
            "_model_module_version": "1.5.0",
            "_model_name": "DescriptionStyleModel",
            "_view_count": null,
            "_view_module": "@jupyter-widgets/base",
            "_view_module_version": "1.2.0",
            "_view_name": "StyleView",
            "description_width": ""
          }
        }
      }
    }
  },
  "nbformat": 4,
  "nbformat_minor": 0
}
